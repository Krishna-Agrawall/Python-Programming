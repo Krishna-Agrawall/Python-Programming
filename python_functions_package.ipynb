{
 "cells": [
  {
   "cell_type": "code",
   "execution_count": 7,
   "id": "df26d34b-b28c-4701-add6-b767ebca941b",
   "metadata": {},
   "outputs": [
    {
     "name": "stdout",
     "output_type": "stream",
     "text": [
      "<class 'function'>\n",
      "The value of x is  12\n",
      "The value of y is  24\n",
      "The sum of x and y is  36\n",
      "The value of x is  23\n",
      "The value of y is  33\n",
      "The sum of x and y is  56\n",
      "<function mynumber at 0x0000023D49D5BEE0>\n",
      "Help on function mynumber in module __main__:\n",
      "\n",
      "mynumber(x, y)\n",
      "    My this function give two values given by you\n",
      "\n",
      "None\n"
     ]
    }
   ],
   "source": [
    "def mynumber(x,y):\n",
    "    'My this function give two values given by krishna'         #It was a docstring . It tell that what we did in this mynumber function\n",
    "    print('The value of x is ',x)\n",
    "    print('The value of y is ',y)\n",
    "    print('The sum of x and y is ',x+y)\n",
    "    return\n",
    "\n",
    "print (type(mynumber))\n",
    "mynumber(12,24)\n",
    "mynumber(23,33)\n",
    "print(mynumber)\n",
    "print(help(mynumber))"
   ]
  },
  {
   "cell_type": "code",
   "execution_count": 14,
   "id": "8c55bb7b-5422-412e-8598-3f2f171d25ca",
   "metadata": {},
   "outputs": [
    {
     "name": "stdout",
     "output_type": "stream",
     "text": [
      "The sum of three number is = 6\n"
     ]
    }
   ],
   "source": [
    "def sum(a,b,c):\n",
    "    'My this function return sum of  three values given by krishna'\n",
    "    return a+b+c\n",
    "\n",
    "myvalue=sum(2,2,2)\n",
    "print(f\"The sum of three number is = {myvalue}\")\n"
   ]
  },
  {
   "cell_type": "code",
   "execution_count": 17,
   "id": "e2143fbb-3027-4b22-99c2-4ef22ce6f724",
   "metadata": {},
   "outputs": [
    {
     "name": "stdout",
     "output_type": "stream",
     "text": [
      "The answer is = 1.0\n",
      "<class 'float'>\n",
      "My this function return sum of  three values given by you\n"
     ]
    }
   ],
   "source": [
    "def a(a,b,c):\n",
    "    return a*b/c\n",
    "b=a(4,2,8)\n",
    "print(f'The answer is = {b}')\n",
    "print(type(b))\n",
    "print(sum.__doc__)"
   ]
  },
  {
   "cell_type": "code",
   "execution_count": 18,
   "id": "99bb1dd8-730c-4bf4-a304-17a0071afccc",
   "metadata": {},
   "outputs": [
    {
     "name": "stdout",
     "output_type": "stream",
     "text": [
      "print(value, ..., sep=' ', end='\\n', file=sys.stdout, flush=False)\n",
      "\n",
      "Prints the values to a stream, or to sys.stdout by default.\n",
      "Optional keyword arguments:\n",
      "file:  a file-like object (stream); defaults to the current sys.stdout.\n",
      "sep:   string inserted between values, default a space.\n",
      "end:   string appended after the last value, default a newline.\n",
      "flush: whether to forcibly flush the stream.\n"
     ]
    }
   ],
   "source": [
    "print(print.__doc__)"
   ]
  },
  {
   "cell_type": "code",
   "execution_count": 24,
   "id": "ed2f5a5c-0b9c-4db5-b936-56057f62da28",
   "metadata": {},
   "outputs": [
    {
     "name": "stdout",
     "output_type": "stream",
     "text": [
      "The sum is  14\n"
     ]
    }
   ],
   "source": [
    "abc=sum(2,5,7)\n",
    "print('The sum is ',abc)\n",
    "\n"
   ]
  },
  {
   "cell_type": "code",
   "execution_count": 26,
   "id": "d69887f2-455f-45d4-aa8e-dd2db60cc37d",
   "metadata": {},
   "outputs": [
    {
     "name": "stdout",
     "output_type": "stream",
     "text": [
      "The value of a is = 100\n",
      "The value of b is = 95\n",
      "The subtraction of a and b is =  5\n",
      "<function subtraction at 0x0000023D4B88B1F0>\n",
      "<class 'function'>\n"
     ]
    }
   ],
   "source": [
    "def subtraction(a,b):\n",
    "    'It will subtract two numbers given by you'\n",
    "    print(f'The value of a is = {a}')\n",
    "    print(f'The value of b is = {b}')\n",
    "    print('The subtraction of a and b is = ',a-b)\n",
    "    return\n",
    "subtraction(100,95)\n",
    "print(subtraction)\n",
    "print(type(subtraction))"
   ]
  },
  {
   "cell_type": "code",
   "execution_count": 30,
   "id": "a8fe63ad-703e-45d3-a43d-c7ce95066869",
   "metadata": {},
   "outputs": [
    {
     "name": "stdout",
     "output_type": "stream",
     "text": [
      "The number you give is =  34\n",
      "The number you give is =  78\n",
      "This function return the value given by you\n"
     ]
    }
   ],
   "source": [
    "def num(a):\n",
    "    'This function return the value given by you'\n",
    "    print('The number you give is = ',a)\n",
    "    return\n",
    "num(34)\n",
    "num(78)\n",
    "print(num.__doc__)"
   ]
  },
  {
   "cell_type": "code",
   "execution_count": 31,
   "id": "2331fe5c-064e-4fa8-a35e-e8b705e9e525",
   "metadata": {},
   "outputs": [
    {
     "name": "stdout",
     "output_type": "stream",
     "text": [
      "The number you give is =  2\n",
      "The number you give is =  3\n",
      "The number you give is =  4\n",
      "The number you give is =  5\n"
     ]
    }
   ],
   "source": [
    "for i in[2,3,4,5]:\n",
    "    num(i)"
   ]
  },
  {
   "cell_type": "code",
   "execution_count": 36,
   "id": "54c2bfa1-fc63-45c2-8dbc-466ff49753c4",
   "metadata": {},
   "outputs": [
    {
     "name": "stdout",
     "output_type": "stream",
     "text": [
      "My ci of rs100 with rate 10% for 3 years is 34.1\n"
     ]
    }
   ],
   "source": [
    "def com_int(principle,rate,year):\n",
    "    ci = 0\n",
    "    for i in range(year):\n",
    "        ci += principle*rate/100\n",
    "        principle=principle+ci\n",
    "    return  ci\n",
    "print('My ci of rs100 with rate 10% for 3 years is',com_int(100,10,3))\n",
    "        \n"
   ]
  },
  {
   "cell_type": "code",
   "execution_count": 39,
   "id": "a5695c3b-5dc5-4319-b491-dc9f39e8cccb",
   "metadata": {},
   "outputs": [
    {
     "name": "stdout",
     "output_type": "stream",
     "text": [
      "Enter the principle amount =  200\n",
      "Enter the rate of  interest =  10\n",
      "Enter the year =  3\n"
     ]
    },
    {
     "name": "stdout",
     "output_type": "stream",
     "text": [
      "The Compound interest for rs200.0 ,with rate of interest 10.0 for year3 is  68.2\n"
     ]
    }
   ],
   "source": [
    "principle=float(input('Enter the principle amount = '))\n",
    "rate=float(input('Enter the rate of  interest = '))\n",
    "year=int(input('Enter the year = '))\n",
    "print(f'The Compound interest for rs{principle} ,with rate of interest {rate} for year {year} is =  ',com_int(principle,rate,year))"
   ]
  },
  {
   "cell_type": "code",
   "execution_count": 2,
   "id": "932e800d-2c27-491e-be61-54bd4b6186e6",
   "metadata": {},
   "outputs": [
    {
     "name": "stdout",
     "output_type": "stream",
     "text": [
      "The value of a is = 4\n",
      "The value of b is = 2\n",
      "The total is =  2\n"
     ]
    }
   ],
   "source": [
    "def sub(a,b):\n",
    "    'This function is  basically subtracting two values given by you'\n",
    "    print(f'The value of a is = {a}')\n",
    "    print(f'The value of b is = {b}')\n",
    "    print('The total is = ',a-b)\n",
    "    \n",
    "sub(4,2)"
   ]
  },
  {
   "cell_type": "code",
   "execution_count": 4,
   "id": "a91f8058-e7ec-4666-a966-4aeda04a8a41",
   "metadata": {},
   "outputs": [
    {
     "name": "stdout",
     "output_type": "stream",
     "text": [
      "The total is = 72\n"
     ]
    }
   ],
   "source": [
    "def add(a,b,c):\n",
    "    'This function is basically adding thrice values give by you'\n",
    "    return a+b+c\n",
    "\n",
    "a=add(12,24,36)\n",
    "print(f'The total is = {a}')"
   ]
  },
  {
   "cell_type": "code",
   "execution_count": 15,
   "id": "fba3fde6-cf36-432b-9c1c-91fc170edeca",
   "metadata": {},
   "outputs": [
    {
     "name": "stdout",
     "output_type": "stream",
     "text": [
      "The sum is =  80\n",
      "<class 'int'>\n",
      "This function is basically adding thrice values give by you\n"
     ]
    }
   ],
   "source": [
    "ac=add(12,23,45)\n",
    "print('The sum is = ',ac)\n",
    "print(type(ac))\n",
    "print(add.__doc__)"
   ]
  },
  {
   "cell_type": "code",
   "execution_count": 16,
   "id": "a7f45b1e-fd17-4f86-8edf-e04d84f3a11b",
   "metadata": {},
   "outputs": [
    {
     "name": "stdout",
     "output_type": "stream",
     "text": [
      "29.3\n",
      "56\n",
      "3.3\n",
      "5\n",
      "6\n"
     ]
    }
   ],
   "source": [
    "for z in[29.3,56,3.3,5,6]:\n",
    "    print(z)"
   ]
  },
  {
   "cell_type": "code",
   "execution_count": 3,
   "id": "d1895885-d3eb-4336-8f41-5101bb387011",
   "metadata": {},
   "outputs": [
    {
     "name": "stdout",
     "output_type": "stream",
     "text": [
      "id of b  2908548827456\n",
      "Values of b before calling to fuction [12, 24, 36, 48, 58, 66, 77, 88]\n",
      "id in my function 2908548827456\n",
      "my list values inside the function [12, 24, 36, 48, 58, 66, 77, 88, 90]\n",
      "id of b after calling 2908548827456\n",
      "Values of b after calling to function [12, 24, 36, 48, 58, 66, 77, 88, 90]\n"
     ]
    }
   ],
   "source": [
    "# pass by reference\n",
    "def changeless(list):\n",
    "    'In this function the reference would be the same.'\n",
    "    list.append(90)\n",
    "    print('id in my function',id(list))\n",
    "    print('my list values inside the function',list)\n",
    "    \n",
    "b=[12,24,36,48,58,66,77,88]\n",
    "print('id of b ',id(b))\n",
    "print('Values of b before calling to fuction',b)\n",
    "\n",
    "changeless(b)\n",
    "\n",
    "print('id of b after calling',id(b))\n",
    "print('Values of b after calling to function',b)"
   ]
  },
  {
   "cell_type": "code",
   "execution_count": 2,
   "id": "beb998ba-7a41-4750-bad9-f9422b9daa85",
   "metadata": {},
   "outputs": [
    {
     "name": "stdout",
     "output_type": "stream",
     "text": [
      "before 2908548827136\n",
      "before calling [12, 23]\n",
      "2908548827136\n",
      "[12, 23, 90]\n",
      "after call 2908548827136\n",
      "after call 140725681228528\n",
      "[12, 23, 90]\n"
     ]
    }
   ],
   "source": [
    "def changeless(list):\n",
    "    list.append(90)\n",
    "    print(id(list))\n",
    "    print(list)\n",
    "    \n",
    "b=[12,23]\n",
    "print('before',id(b))\n",
    "print('before calling',b)\n",
    "\n",
    "changeless(b)\n",
    "print('after call',id(b))\n",
    "print('after call',id(list))\n",
    "print(b)\n",
    "\n"
   ]
  },
  {
   "cell_type": "code",
   "execution_count": 6,
   "id": "d73bd8d3-0621-41dc-a8ec-64ee9af36de8",
   "metadata": {},
   "outputs": [
    {
     "name": "stdout",
     "output_type": "stream",
     "text": [
      "id of b before calling to function 2908548828608\n",
      "Values before calling to function [67, 89, 90, 56]\n",
      "In function before new value was assigned  2908548828608\n",
      "In function after new value was assigned 2908548828032\n",
      "Values of a in function are  [12, 23, 44]\n",
      "id of b after calling to function  2908548828608\n",
      "Values after calling to function [67, 89, 90, 56]\n"
     ]
    }
   ],
   "source": [
    "# pass by value\n",
    "\n",
    "def changelist(a):\n",
    "    'This function change the reference of varible a after we declare a as a new variable.'\n",
    "    \n",
    "    print('In function before new value was assigned ',id(a))\n",
    "    \n",
    "    a=[12,23,44]\n",
    "    print('In function after new value was assigned',id(a))\n",
    "    print('Values of a in function are ',a)\n",
    "    \n",
    "b=[67,89,90,56]\n",
    "\n",
    "print('id of b before calling to function',id(b))\n",
    "print('Values before calling to function',b)\n",
    "\n",
    "changelist(b)\n",
    "\n",
    "print('id of b after calling to function ',id(b))\n",
    "print('Values after calling to function',b)"
   ]
  },
  {
   "cell_type": "code",
   "execution_count": 12,
   "id": "c5740de4-c2be-45e0-a423-177acc72ed92",
   "metadata": {},
   "outputs": [
    {
     "name": "stdout",
     "output_type": "stream",
     "text": [
      "The addtion of 44+33+56+78 is =  211\n"
     ]
    }
   ],
   "source": [
    "def sum_maker(mylist):\n",
    "    list1=0\n",
    "    for num in mylist:\n",
    "        list1+=num\n",
    "        # list1=list1+num  \n",
    "    return list1\n",
    "\n",
    "print('The addtion of 44+33+56+78 is = ',sum_maker([44,33,56,78]))\n"
   ]
  },
  {
   "cell_type": "code",
   "execution_count": 18,
   "id": "50d62248-dc01-4fb5-a853-03731d21b0e6",
   "metadata": {},
   "outputs": [
    {
     "name": "stdout",
     "output_type": "stream",
     "text": [
      "The number passed by  you is 8. It\"s a positive number\n"
     ]
    }
   ],
   "source": [
    "def num_finder(num):\n",
    "    if num>0:\n",
    "        print(f'The number passed by  you is {num}. It\"s a positive number')\n",
    "    elif num<0:\n",
    "         print(f'The number passed by  you is {num}. It\"s a negative number')\n",
    "    else:\n",
    "        print(f'The number passed by you is {num} ')\n",
    "\n",
    "num_finder(8)"
   ]
  },
  {
   "cell_type": "code",
   "execution_count": null,
   "id": "56a24d7d-d7ca-47a1-82fc-42420b41f742",
   "metadata": {},
   "outputs": [],
   "source": [
    "'''\n",
    "There are 4 types of arguments in function which are:\n",
    "1) Required arguments\n",
    "2) Default arguments\n",
    "3) Keywords arguments\n",
    "4) Variable-length arguments\n",
    "'''"
   ]
  },
  {
   "cell_type": "code",
   "execution_count": 26,
   "id": "67415b55-6832-41e7-9c7c-907e04349d72",
   "metadata": {},
   "outputs": [
    {
     "name": "stdout",
     "output_type": "stream",
     "text": [
      "Enter the value of a =  56\n",
      "Enter the value of b =  78\n"
     ]
    },
    {
     "name": "stdout",
     "output_type": "stream",
     "text": [
      "The total sum of your given values is = 134\n"
     ]
    }
   ],
   "source": [
    "# 1.required arguments. if you pass more then 2 arguments , it will give you the type error\n",
    "def myfun(a,b):\n",
    "    'This function give the sum of two values given by you'\n",
    "    return a+b\n",
    "\n",
    "x=int(input('Enter the value of a = '))\n",
    "y=int(input('Enter the value of b = '))\n",
    "c=myfun(x,y)\n",
    "\n",
    "# c=myfun(x,y,z) # If i run this program.It will give me the type error because i pass 2 arguments and i want to add 3 values . It is not possible.\n",
    "#c=myfun(12,23,33)\n",
    "print(f'The total sum of your given values is = {c}')\n",
    "      \n",
    "\n"
   ]
  },
  {
   "cell_type": "code",
   "execution_count": 35,
   "id": "2dad86e0-600c-4a17-82cf-b8c4deeab01c",
   "metadata": {},
   "outputs": [
    {
     "name": "stdout",
     "output_type": "stream",
     "text": [
      "5\n"
     ]
    }
   ],
   "source": [
    "# 2.default arguments.\n",
    "\n",
    "#def myfun(a,b=45):\n",
    "def myfun(a=50,b=45):\n",
    "    \n",
    "    return a-b\n",
    "a=myfun()\n",
    "# a=myfun(90,89)\n",
    "print(a)\n",
    "    "
   ]
  },
  {
   "cell_type": "code",
   "execution_count": 40,
   "id": "8d68b41a-c992-4da3-b082-ecd939df6b89",
   "metadata": {},
   "outputs": [
    {
     "name": "stdout",
     "output_type": "stream",
     "text": [
      "Hi Will , How are you?\n"
     ]
    }
   ],
   "source": [
    "# default arguments.\n",
    "\n",
    "def good(name,sep='How are you?'):\n",
    "    print('Hi',name, ',',sep)\n",
    "    \n",
    "good('Will')\n",
    "#good('Will','Hope you are fine')\n",
    "\n"
   ]
  },
  {
   "cell_type": "code",
   "execution_count": 48,
   "id": "4f574774-52fa-4293-9719-d06aa94b85a2",
   "metadata": {},
   "outputs": [
    {
     "name": "stdout",
     "output_type": "stream",
     "text": [
      "4\n"
     ]
    }
   ],
   "source": [
    "# 3.keyword arguments\n",
    "\n",
    "def key(a,b):\n",
    "    return a-b\n",
    "\n",
    "c=key(b=9,a=13)  #right method\n",
    "# c=key(9,14)  #wrong method\n",
    "\n",
    "print(c)"
   ]
  },
  {
   "cell_type": "code",
   "execution_count": 50,
   "id": "191c19f7-a160-495d-b014-1ad82213b1d4",
   "metadata": {},
   "outputs": [
    {
     "name": "stdout",
     "output_type": "stream",
     "text": [
      "2.0\n"
     ]
    }
   ],
   "source": [
    "# 3.keywords arguments\n",
    "\n",
    "def div(a,b):\n",
    "    return a/b\n",
    "c=div(b=2,a=4)\n",
    "print(c)\n"
   ]
  },
  {
   "cell_type": "code",
   "execution_count": 2,
   "id": "a9e1204a-1694-4a9a-9545-28a7bcfb06b4",
   "metadata": {},
   "outputs": [
    {
     "name": "stdout",
     "output_type": "stream",
     "text": [
      "Output is : 12 23 434 344 34 "
     ]
    }
   ],
   "source": [
    "# 4.variable-length arguments\n",
    "def info(x,*value):\n",
    "    print('Output is :', x,end=' ')\n",
    "    \n",
    "    for val in value:\n",
    "        print(val,end=\" \")\n",
    "        \n",
    "info(12,23,434,344,34)\n",
    "\n",
    "\n"
   ]
  },
  {
   "cell_type": "code",
   "execution_count": 6,
   "id": "db2e04f4-6b27-48a4-882e-3024419e821a",
   "metadata": {},
   "outputs": [
    {
     "name": "stdout",
     "output_type": "stream",
     "text": [
      "Output is : 12 24 36 78 90 "
     ]
    }
   ],
   "source": [
    "# 4.variable-length arguments\n",
    "def length(a,*value):\n",
    "    print('Output is :',a,end=' ')\n",
    "    for val in value:\n",
    "        print(val,end=' ')\n",
    "length(12,24,36,78,90)"
   ]
  },
  {
   "cell_type": "code",
   "execution_count": 65,
   "id": "a93d6005-741c-4ae7-a336-d40ab65e87fc",
   "metadata": {},
   "outputs": [
    {
     "name": "stdout",
     "output_type": "stream",
     "text": [
      "Output is : 34 90.4 -34 Output is : 4 "
     ]
    }
   ],
   "source": [
    "length(34,90.4,-34)\n"
   ]
  },
  {
   "cell_type": "code",
   "execution_count": 66,
   "id": "67f00768-68da-47d8-bb20-9a1b5b6edf4c",
   "metadata": {},
   "outputs": [
    {
     "name": "stdout",
     "output_type": "stream",
     "text": [
      "Output is : 4 "
     ]
    }
   ],
   "source": [
    "length(4)"
   ]
  },
  {
   "cell_type": "code",
   "execution_count": 7,
   "id": "ce9d58b1-1c8a-42ec-82a0-8fdc80612c22",
   "metadata": {},
   "outputs": [
    {
     "name": "stdout",
     "output_type": "stream",
     "text": [
      "The ans is = 36\n",
      "The ans is = 81\n"
     ]
    }
   ],
   "source": [
    "#4. variable-length arguments\n",
    "\n",
    "def a(na,*sums):\n",
    "    number=na\n",
    "    for sum in sums:\n",
    "        number=number+sum\n",
    "        print('The ans is =',number)\n",
    "a(12,24,45)    \n"
   ]
  },
  {
   "cell_type": "code",
   "execution_count": null,
   "id": "a475f9de-ec84-4862-a529-75e2b673918c",
   "metadata": {},
   "outputs": [],
   "source": [
    "'''\n",
    "Now we study about one more function. which is Anonymous function. It is basically an inline function . It's use us to written short\n",
    "type of codes\n",
    "'''"
   ]
  },
  {
   "cell_type": "code",
   "execution_count": 3,
   "id": "0df1bf00-f4fd-4fec-83b7-71c1e5aeca83",
   "metadata": {},
   "outputs": [
    {
     "name": "stdout",
     "output_type": "stream",
     "text": [
      "<class 'function'>\n",
      "<function <lambda> at 0x0000019E05B955E0>\n"
     ]
    },
    {
     "data": {
      "text/plain": [
       "36"
      ]
     },
     "execution_count": 3,
     "metadata": {},
     "output_type": "execute_result"
    }
   ],
   "source": [
    "myadd=lambda n1,n2:n1+n2\n",
    "print(type(lambda n1,n2:n1+n2))\n",
    "print(myadd)\n",
    "myadd(12,24)"
   ]
  },
  {
   "cell_type": "code",
   "execution_count": 4,
   "id": "2700c913-84b9-43df-a7f4-05c6d37924be",
   "metadata": {},
   "outputs": [
    {
     "data": {
      "text/plain": [
       "5"
      ]
     },
     "execution_count": 4,
     "metadata": {},
     "output_type": "execute_result"
    }
   ],
   "source": [
    "mysub=lambda s1,s2:s1-s2\n",
    "mysub(95,90)"
   ]
  },
  {
   "cell_type": "code",
   "execution_count": 5,
   "id": "f5a7da34-9bd7-4929-bf55-aafb76bfecd9",
   "metadata": {},
   "outputs": [
    {
     "data": {
      "text/plain": [
       "9408"
      ]
     },
     "execution_count": 5,
     "metadata": {},
     "output_type": "execute_result"
    }
   ],
   "source": [
    "mymul=lambda m1,m2:m1*m2\n",
    "mymul(96,98)"
   ]
  },
  {
   "cell_type": "code",
   "execution_count": 6,
   "id": "3cad6087-d956-4e9b-a04a-166c59d9cfce",
   "metadata": {},
   "outputs": [
    {
     "data": {
      "text/plain": [
       "2.0"
      ]
     },
     "execution_count": 6,
     "metadata": {},
     "output_type": "execute_result"
    }
   ],
   "source": [
    "mydiv=lambda d1,d2:d1/d2\n",
    "mydiv(4,2)"
   ]
  },
  {
   "cell_type": "markdown",
   "id": "71a7575e-60c8-45c2-a2eb-6e9783a17909",
   "metadata": {},
   "source": [
    "local variable and global variable\n"
   ]
  },
  {
   "cell_type": "code",
   "execution_count": 10,
   "id": "8e1ea0de-4a35-4464-819b-fef01f71b0bc",
   "metadata": {},
   "outputs": [
    {
     "name": "stdout",
     "output_type": "stream",
     "text": [
      "The id of outside global total function is =  1604154098032\n",
      "The id of inside  local total function is =  1604154098672\n",
      "Sum of inside total is =  25\n",
      "Sum of outside total is =  5\n",
      "id of global  1604154098032\n"
     ]
    }
   ],
   "source": [
    "def fun(n1,n2):\n",
    "    total=n1+n2  #local variable\n",
    "    print('The id of inside  local total function is = ',id(total))\n",
    "    print('Sum of inside total is = ',total)\n",
    "    \n",
    "total=5 #global variable\n",
    "print('The id of outside global total function is = ',id(total))\n",
    "\n",
    "fun(10,15)\n",
    "# total=5\n",
    "print('Sum of outside total is = ',total)\n",
    "print('id of global ',id(total))\n"
   ]
  },
  {
   "cell_type": "code",
   "execution_count": 11,
   "id": "bf83cf1d-f8b5-4bfe-b4d5-367c9f73c382",
   "metadata": {},
   "outputs": [
    {
     "name": "stdout",
     "output_type": "stream",
     "text": [
      "1778125924688\n",
      "1778125924688\n"
     ]
    }
   ],
   "source": [
    "a=2\n",
    "b=a\n",
    "print(id(a))\n",
    "print(id(b))"
   ]
  },
  {
   "cell_type": "code",
   "execution_count": 13,
   "id": "f6a6f3f9-6aa2-459c-bc96-8e6f03e8271d",
   "metadata": {},
   "outputs": [
    {
     "name": "stdout",
     "output_type": "stream",
     "text": [
      "1778125924688\n",
      "2\n",
      "2\n"
     ]
    }
   ],
   "source": [
    "print(id(2))\n",
    "print(a)\n",
    "print(b)"
   ]
  },
  {
   "cell_type": "code",
   "execution_count": 14,
   "id": "1fbf12db-2eea-4141-981b-8b3cfab99119",
   "metadata": {},
   "outputs": [
    {
     "name": "stdout",
     "output_type": "stream",
     "text": [
      "1778125924752\n",
      "4\n",
      "value of b is  2\n",
      "id of b  1778125924688\n"
     ]
    }
   ],
   "source": [
    "a=4\n",
    "print(id(a))\n",
    "print(a)\n",
    "print('value of b is ',b)\n",
    "print('id of b ',id(b))"
   ]
  },
  {
   "cell_type": "code",
   "execution_count": 12,
   "id": "449a8ddc-fc44-472f-aee6-b8780d07f81f",
   "metadata": {},
   "outputs": [
    {
     "name": "stdout",
     "output_type": "stream",
     "text": [
      "1604154098000\n",
      "Id of total inside the total 1604154099024\n",
      "Value of total inside the function 36\n",
      "Value of toatal outside the function 36\n"
     ]
    }
   ],
   "source": [
    "total=4\n",
    "print(id(total))\n",
    "def sum(s1,s2):\n",
    "    global total    #if you comment out this outside function value will be 4 . global is keyword .\n",
    "    total=s1+s2\n",
    "    print('Id of total inside the total',id(total))\n",
    "    print('Value of total inside the function',total)\n",
    "    \n",
    "sum(12,24)\n",
    "print('Value of toatal outside the function',total)"
   ]
  },
  {
   "cell_type": "code",
   "execution_count": 20,
   "id": "e8eb86de-883f-41c0-82ac-1830fed9da6c",
   "metadata": {},
   "outputs": [
    {
     "name": "stdout",
     "output_type": "stream",
     "text": [
      "this underscore is ok 0\n",
      "this underscore is ok 1\n",
      "this underscore is ok 2\n",
      "this underscore is ok 3\n",
      "this underscore is ok 4\n",
      "this underscore is ok 5\n",
      "this underscore is ok 6\n",
      "this underscore is ok 7\n",
      "this underscore is ok 8\n",
      "this underscore is ok 9\n"
     ]
    }
   ],
   "source": [
    "for _ in range(10):\n",
    "    print('this underscore is ok',_)\n"
   ]
  },
  {
   "cell_type": "code",
   "execution_count": 26,
   "id": "c7770951-f88a-4d9a-92c8-d64d135e80df",
   "metadata": {},
   "outputs": [
    {
     "name": "stdout",
     "output_type": "stream",
     "text": [
      "Obj1 of a is :  100\n",
      "Obj2 of a is :  100\n",
      "1778126116304\n",
      "1778126116304\n",
      "Obj1 of a is :  200\n",
      "Obj2 of a is :  100\n",
      "1778126119568\n",
      "1778126116304\n",
      "<__main__.MyClass object at 0x0000019E06D7F550>\n",
      "<__main__.MyClass object at 0x0000019E06D83220>\n",
      "Hello , called by <__main__.MyClass object at 0x0000019E06D7F550>\n",
      "Hello , called by <__main__.MyClass object at 0x0000019E06D83220>\n",
      "100\n",
      "<__main__.MyClass object at 0x0000019E06B8CDC0>\n",
      "Hello , called by <__main__.MyClass object at 0x0000019E06B8CDC0>\n"
     ]
    }
   ],
   "source": [
    "class MyClass:     #whenever you call class the first letter would be in capital\n",
    "    'This is Myclass function which prints \"Hello\" '\n",
    "    a=100  #class variable or class attribute\n",
    "    \n",
    "    def myMethod(self):  #Any function defined in class is known as instance/object or method\n",
    "        print(f'Hello , called by {self}')\n",
    "        \n",
    "obj1 = MyClass()\n",
    "obj2 = MyClass()\n",
    "\n",
    "print('Obj1 of a is : ',obj1.a)\n",
    "print('Obj2 of a is : ',obj2.a)\n",
    "\n",
    "print(id(obj1.a))\n",
    "print(id(obj2.a))\n",
    "\n",
    "obj1.a=200\n",
    "\n",
    "print('Obj1 of a is : ',obj1.a)\n",
    "print('Obj2 of a is : ',obj2.a)\n",
    "\n",
    "print(id(obj1.a))\n",
    "print(id(obj2.a))\n",
    "\n",
    "print(obj1)\n",
    "print(obj2)\n",
    "\n",
    "obj1.myMethod()\n",
    "obj2.myMethod()\n",
    "\n",
    "obj3= MyClass()\n",
    "print(obj3.a)\n",
    "print(obj3)\n",
    "obj3.myMethod()"
   ]
  },
  {
   "cell_type": "code",
   "execution_count": 34,
   "id": "9fa529d9-6c98-455e-8f65-b64eb56dfbc7",
   "metadata": {},
   "outputs": [
    {
     "name": "stdout",
     "output_type": "stream",
     "text": [
      "obj1 a is :  100\n",
      "obj2 a is :  100\n",
      "1778126116304\n",
      "1778126116304\n",
      "obj1 a is :  200\n",
      "obj2 a is :  100\n",
      "1778126119568\n",
      "1778126116304\n",
      "<__main__.MyClass object at 0x0000019E06C65DF0>\n",
      "<__main__.MyClass object at 0x0000019E06D0CBB0>\n",
      "Hello , called by <__main__.MyClass object at 0x0000019E06C65DF0>\n",
      "Hello , called by <__main__.MyClass object at 0x0000019E06D0CBB0>\n",
      "100\n",
      "1778126116304\n",
      "<__main__.MyClass object at 0x0000019E06B8CF70>\n",
      "Hello , called by <__main__.MyClass object at 0x0000019E06B8CF70>\n"
     ]
    }
   ],
   "source": [
    "class MyClass:\n",
    "    a=100\n",
    "    def myMethod(self):\n",
    "        print(f'Hello , called by {self}')\n",
    "\n",
    "obj1=MyClass()\n",
    "obj2=MyClass()\n",
    "\n",
    "print('obj1 a is : ',obj1.a)\n",
    "print('obj2 a is : ',obj2.a)\n",
    "\n",
    "print(id(obj1.a))\n",
    "print(id(obj2.a))\n",
    "\n",
    "obj1.a=200\n",
    "print('obj1 a is : ',obj1.a)\n",
    "print('obj2 a is : ',obj2.a)\n",
    "\n",
    "print(id(obj1.a))\n",
    "print(id(obj2.a))\n",
    "\n",
    "print(obj1)\n",
    "print(obj2)\n",
    "\n",
    "obj1.myMethod()\n",
    "obj2.myMethod()\n",
    "    \n",
    "obj3=MyClass()\n",
    "print(obj3.a)\n",
    "print(id(obj3.a))\n",
    "print(obj3)\n",
    "obj3.myMethod()"
   ]
  },
  {
   "cell_type": "code",
   "execution_count": 43,
   "id": "f96ec29c-ffe2-43d8-9105-8e8115bce1b7",
   "metadata": {},
   "outputs": [
    {
     "name": "stdout",
     "output_type": "stream",
     "text": [
      "object <__main__.MyClass1 object at 0x0000019E06E46B80> is created\n",
      "object <__main__.MyClass1 object at 0x0000019E06B8C340> is created\n",
      "object <__main__.MyClass1 object at 0x0000019E06E46220> is created\n",
      "Object 3 type is :  Basic\n",
      "Object 4 type is :  Enhanced\n",
      "Object 5 type is :  golden\n",
      "Hello called by <__main__.MyClass1 object at 0x0000019E06E46B80>, value of a is 100 ant it\"s type is Basic\n",
      "Hello called by <__main__.MyClass1 object at 0x0000019E06B8C340>, value of a is 100 ant it\"s type is Enhanced\n",
      "Hello called by <__main__.MyClass1 object at 0x0000019E06E46220>, value of a is 200 ant it\"s type is golden\n"
     ]
    }
   ],
   "source": [
    "class MyClass1:\n",
    "    'This is myclass1 with function which prints \"hello\" '\n",
    "    def __init__(self,a=100,type=\"Basic\"):\n",
    "        self.type=type\n",
    "        self.a=a\n",
    "        print(f'object {self} is created')\n",
    "        \n",
    "    def myfunc(self):\n",
    "        print(f'Hello called by {self}, value of a is {self.a} ant it\"s type is {self.type}')\n",
    "              \n",
    "obj3=MyClass1()\n",
    "obj4=MyClass1(type='Enhanced')\n",
    "obj5=MyClass1(200,'golden')\n",
    "\n",
    "print('Object 3 type is : ',obj3.type)\n",
    "print('Object 4 type is : ',obj4.type)\n",
    "print('Object 5 type is : ',obj5.type)\n",
    "\n",
    "obj3.myfunc()\n",
    "obj4.myfunc()\n",
    "obj5.myfunc()\n",
    "\n",
    "    "
   ]
  },
  {
   "cell_type": "code",
   "execution_count": 46,
   "id": "e902dda4-a9c7-42a4-a5d9-8da83af04622",
   "metadata": {},
   "outputs": [
    {
     "name": "stdout",
     "output_type": "stream",
     "text": [
      "Init method called\n",
      "Init method called\n",
      "Init method called\n",
      "0+0j\n",
      "6+9j\n",
      "23+56j\n",
      "34+23j\n",
      "54+30j\n"
     ]
    }
   ],
   "source": [
    "class ComplexNumber:\n",
    "    def __init__(self,r=0,i=0):\n",
    "        self.real=r\n",
    "        self.imag=i\n",
    "        print('Init method called')\n",
    "    def getdata(self):# Instance method, or Object method\n",
    "        print(f'{self.real}+{self.imag}j')\n",
    "        \n",
    "c1=ComplexNumber()\n",
    "c2=ComplexNumber(6,9)\n",
    "c3=ComplexNumber(23,56)\n",
    "\n",
    "c1.getdata()\n",
    "c2.getdata()\n",
    "c3.getdata()\n",
    "\n",
    "c1.real=34\n",
    "c1.imag=23\n",
    "c1.getdata()\n",
    "\n",
    "c2.real=54\n",
    "c2.imag=30\n",
    "c2.getdata()\n",
    "\n",
    "\n",
    " \n",
    "\n",
    "\n",
    "                "
   ]
  },
  {
   "cell_type": "code",
   "execution_count": 50,
   "id": "0ed07b18-4053-4a22-9f1f-2d4ecd49d21f",
   "metadata": {},
   "outputs": [
    {
     "name": "stdout",
     "output_type": "stream",
     "text": [
      "Init method called\n",
      "Init method called\n",
      "Init method called\n",
      "0+0j\n",
      "6+9j\n",
      "23+56j\n",
      "34+23j\n",
      "54+30j\n"
     ]
    }
   ],
   "source": [
    "class ComplexNumber:\n",
    "    def __init__(self,r=0,i=0):\n",
    "        self.real=r\n",
    "        self.imag=i\n",
    "        print('Init method called')\n",
    "    # def getdata(self):# Instance method, or Object method\n",
    "    #     print(f'{self.real}+{self.imag}j')\n",
    "        \n",
    "    def __str__(self):\n",
    "        return(f'{self.real}+{self.imag}j')\n",
    "    \n",
    "    \n",
    "        \n",
    "c1=ComplexNumber()\n",
    "c2=ComplexNumber(6,9)\n",
    "c3=ComplexNumber(23,56)\n",
    "\n",
    "# c1.getdata()\n",
    "# c2.getdata()\n",
    "# c3.getdata()\n",
    "\n",
    "print(c1)\n",
    "print(c2)\n",
    "print(c3)\n",
    "\n",
    "c1.real=34\n",
    "c1.imag=23\n",
    "# c1.getdata()\n",
    "print(c1)\n",
    "\n",
    "c2.real=54\n",
    "c2.imag=30\n",
    "# c2.getdata()\n",
    "print(c2)\n",
    "\n",
    "\n",
    "\n",
    "\n",
    "\n",
    "                "
   ]
  },
  {
   "cell_type": "code",
   "execution_count": 24,
   "id": "8fb0ec2d-1312-40fa-8335-018657dc1976",
   "metadata": {},
   "outputs": [
    {
     "name": "stdout",
     "output_type": "stream",
     "text": [
      "My value is :  55 <class '__main__.MyClass2'>\n",
      "My value is :  55 <class '__main__.MyClass2'>\n",
      "My value is :  100 <class '__main__.MyClass2'>\n",
      "Hello called by <__main__.MyClass2 object at 0x000001C6385B5D00>\n",
      "My value is :  55 <class '__main__.MyClass2'>\n",
      "Calling static method\n",
      "Calling static method\n",
      "Obj3 type is : Basic\n",
      "Obj4 type is : Enhanced\n"
     ]
    }
   ],
   "source": [
    "class MyClass2:\n",
    "    'This is myclass with function which prints \"hello\"'\n",
    "    \n",
    "    def __init__(self,type='Basic'):\n",
    "        self.type=type\n",
    "    def myfunc(self):\n",
    "        print(f'Hello called by {self}')\n",
    "    @classmethod\n",
    "    def myClassMethod(cls,myvalue=55):\n",
    "        cls.value = myvalue\n",
    "        print('My value is : ',cls.value,cls)\n",
    "        \n",
    "    @staticmethod  #static method,takes no ref,any object can call without ref\n",
    "    def myStaticMethod():\n",
    "        print('Calling static method')\n",
    "        \n",
    "obj3=MyClass2()\n",
    "obj4=MyClass2('Enhanced')\n",
    "obj3.myClassMethod()\n",
    "obj4.myClassMethod()\n",
    "\n",
    "obj3.myvalue=20\n",
    "obj3.myClassMethod(100)\n",
    "obj3.myfunc()\n",
    "obj4.myClassMethod()\n",
    "obj3.myStaticMethod()\n",
    "obj4.myStaticMethod()\n",
    "\n",
    "print('Obj3 type is :',obj3.type)\n",
    "print('Obj4 type is :',obj4.type)\n",
    "\n"
   ]
  },
  {
   "cell_type": "code",
   "execution_count": 4,
   "id": "c74ced81-58b9-4084-a060-787dbfe98365",
   "metadata": {},
   "outputs": [],
   "source": [
    "class Employee:\n",
    "    'Common base class for all employees'\n",
    "    empCount=0 #class variable or global variable\n",
    "    \n",
    "    def __init__(self,name,salary,dob):  #object constructor\n",
    "        self.name=name\n",
    "        self.salary=salary\n",
    "        self.dob=dob\n",
    "        Employee.empCount+=1\n",
    "        \n",
    "    def displayCount(self):  #instance method\n",
    "        print(f'Total Employee Count is {Employee.empCount}')\n",
    "        \n",
    "    def displayEmployee(self):  \n",
    "        print('Name:',self.name,'Salary:',self.salary,'Date-of-Birth : ',self.dob)\n",
    "        \n",
    "    def removeEmployee(self):\n",
    "        print('Employee named ',self.name ,'removed')\n",
    "        del self\n",
    "        Employee.empCount-=1\n",
    "    "
   ]
  },
  {
   "cell_type": "code",
   "execution_count": 2,
   "id": "0fe03e8c-2538-4042-9e84-f89a30e1c77b",
   "metadata": {},
   "outputs": [
    {
     "name": "stdout",
     "output_type": "stream",
     "text": [
      "0\n"
     ]
    }
   ],
   "source": [
    "print(Employee.empCount)"
   ]
  },
  {
   "cell_type": "code",
   "execution_count": 6,
   "id": "8f9c13b1-c4a2-4634-a0ae-670659e74b0c",
   "metadata": {},
   "outputs": [],
   "source": [
    "emp1=Employee('Krishna',20000,'08-06-2005')"
   ]
  },
  {
   "cell_type": "code",
   "execution_count": 7,
   "id": "e511be4d-8a55-49c0-9263-3f01c76a18dc",
   "metadata": {},
   "outputs": [
    {
     "name": "stdout",
     "output_type": "stream",
     "text": [
      "1\n"
     ]
    }
   ],
   "source": [
    "print(Employee.empCount)"
   ]
  },
  {
   "cell_type": "code",
   "execution_count": 8,
   "id": "9397cebc-c9cf-4ae1-9a29-62df488dbecf",
   "metadata": {},
   "outputs": [
    {
     "name": "stdout",
     "output_type": "stream",
     "text": [
      "Total Employee Count is 2\n",
      "Name: Krishna Salary: 20000 Date-of-Birth :  08-06-2005\n",
      "Name: Rishi Salary: 55000 Date-of-Birth :  13-12-1995\n"
     ]
    }
   ],
   "source": [
    "emp2=Employee('Rishi',55000,'13-12-1995')\n",
    "emp2.displayCount()\n",
    "emp1.displayEmployee()\n",
    "emp2.displayEmployee()\n"
   ]
  },
  {
   "cell_type": "code",
   "execution_count": 9,
   "id": "4511eea8-3845-4511-a5da-f02af037edd4",
   "metadata": {},
   "outputs": [
    {
     "name": "stdout",
     "output_type": "stream",
     "text": [
      "Name: Aniket Salary: 80000 Date-of-Birth :  04-02-1994\n",
      "Total Number of employees in company are :  3\n"
     ]
    }
   ],
   "source": [
    "emp3=Employee('Aniket',80000,'04-02-1994')\n",
    "emp3.displayEmployee()\n",
    "print('Total Number of employees in company are : ',Employee.empCount)"
   ]
  },
  {
   "cell_type": "code",
   "execution_count": 10,
   "id": "beda0ba8-7e21-40f9-92fa-1b84a8f0bd6f",
   "metadata": {},
   "outputs": [
    {
     "name": "stdout",
     "output_type": "stream",
     "text": [
      "Employee named  Rishi removed\n",
      "Total Number of employees in company are :  2\n",
      "Name: Rishi Salary: 55000 Date-of-Birth :  13-12-1995\n"
     ]
    }
   ],
   "source": [
    "emp2.removeEmployee()\n",
    "print('Total Number of employees in company are : ',Employee.empCount)\n",
    "emp2.displayEmployee()"
   ]
  },
  {
   "cell_type": "markdown",
   "id": "c6f2d976-26e0-4714-b90c-1f67854f72d7",
   "metadata": {},
   "source": [
    "Practices of object"
   ]
  },
  {
   "cell_type": "code",
   "execution_count": 8,
   "id": "dc423a3b-bc48-4d0f-970c-d4bb7139a5fc",
   "metadata": {},
   "outputs": [
    {
     "name": "stdout",
     "output_type": "stream",
     "text": [
      "Obj1 a is =  100\n",
      "Obj2 a is =  100\n",
      "1950755739088\n",
      "1950755739088\n",
      "Obj1 a is =  200\n",
      "Obj2 a is =  100\n",
      "1950755742352\n",
      "1950755739088\n",
      "Hello, Called By <__main__.MyClass object at 0x000001C6384CA5B0>\n",
      "Hello, Called By <__main__.MyClass object at 0x000001C6384CA7F0>\n",
      "100\n",
      "1950755739088\n",
      "Hello, Called By <__main__.MyClass object at 0x000001C638564970>\n"
     ]
    }
   ],
   "source": [
    "class MyClass:\n",
    "    'This is myclass function which gonna print hello'\n",
    "    a=100\n",
    "    def myMethod(self):\n",
    "        print(f'Hello, Called By {self}')\n",
    "obj1=MyClass()\n",
    "obj2=MyClass()\n",
    "print('Obj1 a is = ',obj1.a)\n",
    "print('Obj2 a is = ',obj2.a)\n",
    "\n",
    "print(id(obj1.a))\n",
    "print(id(obj2.a))\n",
    "\n",
    "obj1.a=200\n",
    "print('Obj1 a is = ',obj1.a)\n",
    "print('Obj2 a is = ',obj2.a)\n",
    "\n",
    "print(id(obj1.a))\n",
    "print(id(obj2.a))\n",
    "obj1.myMethod()\n",
    "obj2.myMethod()\n",
    "obj3=MyClass()\n",
    "print(obj3.a)\n",
    "print(id(obj3.a))\n",
    "obj3.myMethod()"
   ]
  },
  {
   "cell_type": "code",
   "execution_count": 13,
   "id": "99846d0b-8755-4771-9176-5d7517f23544",
   "metadata": {},
   "outputs": [
    {
     "name": "stdout",
     "output_type": "stream",
     "text": [
      "The value of a is : 100 and It\"s Type is : Basic\n",
      "The value of a is : 100 and It\"s Type is : Enhanced\n",
      "The value of a is : 500 and It\"s Type is : golden\n",
      "1950859700592\n",
      "1950859698768\n",
      "1950862230672\n",
      "<__main__.MyClass1 object at 0x000001C6384CA970>\n",
      "<__main__.MyClass1 object at 0x000001C6384CA250>\n",
      "<__main__.MyClass1 object at 0x000001C638734490>\n",
      "Hello , called by <__main__.MyClass1 object at 0x000001C6384CA970> value of a is : 100 and It\"s Type is : Basic\n",
      "Hello , called by <__main__.MyClass1 object at 0x000001C6384CA250> value of a is : 100 and It\"s Type is : Enhanced\n",
      "Hello , called by <__main__.MyClass1 object at 0x000001C638734490> value of a is : 500 and It\"s Type is : golden\n"
     ]
    }
   ],
   "source": [
    "class MyClass1:\n",
    "    'This is myclass1 function which gonna print hello'\n",
    "    def __init__(self,a=100,type=\"Basic\"):\n",
    "        self.a=a\n",
    "        self.type=type\n",
    "        print(f'The value of a is : {self.a} and It\"s Type is : {self.type}')\n",
    "        \n",
    "    def myfunc(self):\n",
    "        print(f'Hello , called by {self} value of a is : {self.a} and It\"s Type is : {self.type}')\n",
    "        \n",
    "obj3=MyClass1()\n",
    "obj4=MyClass1(type=\"Enhanced\")\n",
    "obj5=MyClass1(500,'golden')\n",
    "\n",
    "print(id(obj3))\n",
    "print(id(obj4))\n",
    "print(id(obj5))\n",
    "\n",
    "print(obj3)\n",
    "print(obj4)\n",
    "print(obj5)\n",
    "\n",
    "obj3.myfunc()\n",
    "obj4.myfunc()\n",
    "obj5.myfunc()\n"
   ]
  },
  {
   "cell_type": "code",
   "execution_count": 20,
   "id": "66c19951-52c7-46f2-b567-292d3f79a6bd",
   "metadata": {},
   "outputs": [
    {
     "name": "stdout",
     "output_type": "stream",
     "text": [
      "Object is created\n",
      "Object is created\n",
      "Object is created\n",
      "1950860821840\n",
      "1950862072848\n",
      "1950862049184\n",
      "0+0j\n",
      "56+34j\n",
      "45+23j\n",
      "0+0j\n"
     ]
    }
   ],
   "source": [
    "class ComplexNumber:\n",
    "    'This function is gonna print complex number'\n",
    "    def __init__(self,r=0,i=0):\n",
    "        self.real=r\n",
    "        self.imag=i\n",
    "        print('Object is created')\n",
    "    \n",
    "       \n",
    "    def __str__(self):\n",
    "        return (f'{self.real}+{self.imag}j')\n",
    "    \n",
    "\n",
    "num1=ComplexNumber()\n",
    "num2=ComplexNumber(56,34)\n",
    "num3=ComplexNumber(45,23)\n",
    "\n",
    "print(id(num1))\n",
    "print(id(num2))\n",
    "print(id(num3))\n",
    "\n",
    "# num1.mynum()\n",
    "# num2.mynum()\n",
    "# num3.mynum()\n",
    "print(num1)\n",
    "print(num2)\n",
    "print(num3)\n",
    "\n",
    "\n",
    "# num1.real=56\n",
    "# num1.imag=45\n",
    "# num1.mynum()\n",
    "print(num1)\n"
   ]
  },
  {
   "cell_type": "code",
   "execution_count": 38,
   "id": "78856884-711d-4db2-b84b-4ea51df1a9bc",
   "metadata": {},
   "outputs": [
    {
     "name": "stdout",
     "output_type": "stream",
     "text": [
      "The class value is 200 and reference is <class '__main__.MyClass3'>\n",
      "The class value is 200 and reference is <class '__main__.MyClass3'>\n",
      "The class value is 456 and reference is <class '__main__.MyClass3'>\n",
      "The class value is 563 and reference is <class '__main__.MyClass3'>\n",
      "Static Method Called\n",
      "Static Method Called\n",
      "Hello Called by<__main__.MyClass3 object at 0x000001C6384CABB0>\n",
      "Hello Called by<__main__.MyClass3 object at 0x000001C6384CABB0>\n",
      "The type of obj3 is Enhanced\n",
      "The type of obj4 is Basic\n"
     ]
    }
   ],
   "source": [
    "class MyClass3:\n",
    "    'The function is about the new class method and static method'\n",
    "    def __init__(self,type='Basic'):\n",
    "        self.type=type\n",
    "    def myfunc(self):\n",
    "        print(f'Hello Called by{self}')\n",
    "    @classmethod\n",
    "    def classmethod(cls,myvalue=200):\n",
    "        cls.value=myvalue\n",
    "        print(f'The class value is {cls.value} and reference is {cls}')\n",
    "        \n",
    "    @staticmethod    \n",
    "    def staticmethod():\n",
    "        print('Static Method Called')\n",
    "        \n",
    "obj3=MyClass3(type='Enhanced')\n",
    "obj4=MyClass3()\n",
    "\n",
    "obj3.classmethod()\n",
    "obj4.classmethod()\n",
    "obj3.classmethod(456)\n",
    "obj4.classmethod(563)\n",
    "obj3.staticmethod()\n",
    "obj4.staticmethod()\n",
    "\n",
    "obj3.myfunc()\n",
    "obj3.myfunc()\n",
    "\n",
    "print(f'The type of obj3 is {obj3.type}')\n",
    "print(f'The type of obj4 is {obj4.type}')\n",
    "     "
   ]
  },
  {
   "cell_type": "code",
   "execution_count": 1,
   "id": "24cd08d2-1b1b-4132-b8ee-e2e45a5a8d3b",
   "metadata": {},
   "outputs": [],
   "source": [
    "class employee:\n",
    "    empCount=0\n",
    "    def __init__(self,name,salary,dob):\n",
    "        self.name=name\n",
    "        self.salary=salary\n",
    "        self.dob=dob\n",
    "        employee.empCount+=1\n",
    "        \n",
    "    def empcount(self):\n",
    "        print(f'Total Number of employees in count are : {employee.empCount}')\n",
    "        \n",
    "    def empdisp(self):\n",
    "        print(f'Name : {self.name}, Salary : {self.salary},D-O-B : {self.dob}')\n",
    "        \n",
    "    def emprem(self):\n",
    "        print(f'Employee {self.name} is removed')\n",
    "        del self\n",
    "        employee.empCount-=1"
   ]
  },
  {
   "cell_type": "code",
   "execution_count": 2,
   "id": "9b63e99b-e986-4a8e-b259-c50fc00af7c4",
   "metadata": {},
   "outputs": [
    {
     "data": {
      "text/plain": [
       "0"
      ]
     },
     "execution_count": 2,
     "metadata": {},
     "output_type": "execute_result"
    }
   ],
   "source": [
    "employee.empCount\n",
    "\n",
    "\n",
    "\n",
    "\n"
   ]
  },
  {
   "cell_type": "code",
   "execution_count": 3,
   "id": "16ff6f9a-0ea8-438b-9336-e89e6cf406df",
   "metadata": {},
   "outputs": [
    {
     "name": "stdout",
     "output_type": "stream",
     "text": [
      "Name : Krishna, Salary : 20000,D-O-B : 08-06-2005\n",
      "None\n"
     ]
    },
    {
     "data": {
      "text/plain": [
       "1"
      ]
     },
     "execution_count": 3,
     "metadata": {},
     "output_type": "execute_result"
    }
   ],
   "source": [
    "emp1=employee('Krishna',20000,'08-06-2005')\n",
    "print(emp1.empdisp())\n",
    "employee.empCount"
   ]
  },
  {
   "cell_type": "code",
   "execution_count": 4,
   "id": "2845a59d-c6fe-4701-9e11-ce45e44f2d93",
   "metadata": {},
   "outputs": [
    {
     "name": "stdout",
     "output_type": "stream",
     "text": [
      "Name : Jack, Salary : 23000,D-O-B : 18-4-2002\n",
      "None\n"
     ]
    },
    {
     "data": {
      "text/plain": [
       "2"
      ]
     },
     "execution_count": 4,
     "metadata": {},
     "output_type": "execute_result"
    }
   ],
   "source": [
    "emp2=employee('Jack',23000,'18-4-2002')\n",
    "print(emp2.empdisp())\n",
    "employee.empCount"
   ]
  },
  {
   "cell_type": "code",
   "execution_count": 5,
   "id": "711f518e-e1cb-4cbe-8737-c1de8fa13fd4",
   "metadata": {},
   "outputs": [
    {
     "name": "stdout",
     "output_type": "stream",
     "text": [
      "Name : Krishna, Salary : 20000,D-O-B : 08-06-2005\n",
      "None\n",
      "Name : Jack, Salary : 23000,D-O-B : 18-4-2002\n",
      "None\n"
     ]
    }
   ],
   "source": [
    "print(emp1.empdisp())\n",
    "print(emp2.empdisp())"
   ]
  },
  {
   "cell_type": "code",
   "execution_count": 6,
   "id": "4f8c9bc1-89c4-4f6f-92f0-3b1311671eb3",
   "metadata": {},
   "outputs": [
    {
     "name": "stdout",
     "output_type": "stream",
     "text": [
      "Name : Risabh, Salary : 45000,D-O-B : 2-10-2000\n",
      "None\n"
     ]
    },
    {
     "data": {
      "text/plain": [
       "3"
      ]
     },
     "execution_count": 6,
     "metadata": {},
     "output_type": "execute_result"
    }
   ],
   "source": [
    "emp3=employee('Risabh',45000,'2-10-2000')\n",
    "print(emp3.empdisp())\n",
    "employee.empCount"
   ]
  },
  {
   "cell_type": "code",
   "execution_count": 7,
   "id": "eb2a92ee-3b69-4603-ad6f-daf7c75989aa",
   "metadata": {},
   "outputs": [
    {
     "name": "stdout",
     "output_type": "stream",
     "text": [
      "Employee Jack is removed\n",
      "Total number of employees in company are : 2\n"
     ]
    }
   ],
   "source": [
    "emp2.emprem()\n",
    "print('Total number of employees in company are :',employee.empCount)"
   ]
  },
  {
   "cell_type": "code",
   "execution_count": 8,
   "id": "bc9e9455-0e7b-475c-a185-23cc826355fc",
   "metadata": {},
   "outputs": [
    {
     "name": "stdout",
     "output_type": "stream",
     "text": [
      "Name : Jack, Salary : 23000,D-O-B : 18-4-2002\n"
     ]
    }
   ],
   "source": [
    "emp2.empdisp()"
   ]
  },
  {
   "cell_type": "code",
   "execution_count": 8,
   "id": "58bb852e-5646-4427-a5ee-c9169a39e913",
   "metadata": {},
   "outputs": [],
   "source": []
  },
  {
   "cell_type": "code",
   "execution_count": null,
   "id": "d56eef7c-1f57-4952-8922-c8023ba3fc26",
   "metadata": {},
   "outputs": [],
   "source": []
  }
 ],
 "metadata": {
  "kernelspec": {
   "display_name": "Python 3.10.7 64-bit",
   "language": "python",
   "name": "python3"
  },
  "language_info": {
   "codemirror_mode": {
    "name": "ipython",
    "version": 3
   },
   "file_extension": ".py",
   "mimetype": "text/x-python",
   "name": "python",
   "nbconvert_exporter": "python",
   "pygments_lexer": "ipython3",
   "version": "3.10.7"
  },
  "vscode": {
   "interpreter": {
    "hash": "2c6599e157872e0c80a1169ca1e185cdf85fff8ba1e0db7a7b864ffd8a8fc2c3"
   }
  }
 },
 "nbformat": 4,
 "nbformat_minor": 5
}
