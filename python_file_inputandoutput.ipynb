{
 "cells": [
  {
   "cell_type": "code",
   "execution_count": 1,
   "id": "329aeac1-8705-4505-8a04-e4b57d98f283",
   "metadata": {},
   "outputs": [
    {
     "name": "stdout",
     "output_type": "stream",
     "text": [
      "The file is currently open agrawal.txt\n",
      "The file is currently clolse <built-in method close of _io.TextIOWrapper object at 0x00000211B3119E10>\n",
      "The file is currentlly in open mode w\n"
     ]
    }
   ],
   "source": [
    "fl=open(\"agrawal.txt\",\"w\")\n",
    "print('The file is currently open',fl.name)\n",
    "print('The file is currently clolse',fl.close)\n",
    "print('The file is currentlly in open mode',fl.mode)\n",
    "print('My name is krishna agrawal',file=fl)\n",
    "fl.close()"
   ]
  },
  {
   "cell_type": "code",
   "execution_count": 2,
   "id": "bde17780-5161-467e-9d6a-66f7d92be365",
   "metadata": {},
   "outputs": [],
   "source": [
    "fo=open(\"foo.txt\",'w')\n",
    "fo.write('Python is a great language to understand.\\nYeah You are write It\"s a great language to learn and understand\"')\n",
    "fo.close()"
   ]
  },
  {
   "cell_type": "code",
   "execution_count": 3,
   "id": "2b6fb2de-422e-4aa2-9a0d-b563c68acd4c",
   "metadata": {},
   "outputs": [
    {
     "name": "stdout",
     "output_type": "stream",
     "text": [
      "C:\\Users\\KRISHNA AGRAWAL\n",
      "D:\\python practice\n"
     ]
    }
   ],
   "source": [
    "import os\n",
    "print(os.getcwd())\n",
    "os.chdir('D:\\\\python practice')\n",
    "print(os.getcwd())"
   ]
  },
  {
   "cell_type": "code",
   "execution_count": 4,
   "id": "b6aed5be-9fea-4d8c-a5f0-108fa8dddce6",
   "metadata": {},
   "outputs": [
    {
     "name": "stdout",
     "output_type": "stream",
     "text": [
      "<class '_io.TextIOWrapper'>\n"
     ]
    }
   ],
   "source": [
    "myfile=open('ketan.txt','w')\n",
    "print(type(myfile))\n",
    "myfile.write('Hello ketan\\n')\n",
    "myfile.write('How Are You?\\n')\n",
    "myfile.write('Hope you are enjoying learning python\\n')\n",
    "myfile.close()"
   ]
  },
  {
   "cell_type": "code",
   "execution_count": 5,
   "id": "66bc3c41-67c5-4f3f-9aaa-c3126956055a",
   "metadata": {},
   "outputs": [],
   "source": [
    "with open('Somindra1.txt','w')as file1:\n",
    "    file1.write('Hello Somindra\\n')\n",
    "    file1.write('How Are You?\\n')\n",
    "    file1.write('I Hope Somindra you are enjoying learning python\\n')"
   ]
  },
  {
   "cell_type": "code",
   "execution_count": 6,
   "id": "12d0cd04-6b82-48ce-b8cf-4034a7fca032",
   "metadata": {},
   "outputs": [
    {
     "name": "stdout",
     "output_type": "stream",
     "text": [
      "Hello ketan\n",
      "How Are You?\n",
      "Hope you are enjoying learning python\n",
      "\n"
     ]
    }
   ],
   "source": [
    "myfile=open('ketan.txt')\n",
    "print(myfile.read())"
   ]
  },
  {
   "cell_type": "code",
   "execution_count": 7,
   "id": "94ab3b8c-9d2b-4e13-bb50-fff8db878b47",
   "metadata": {},
   "outputs": [
    {
     "ename": "FileExistsError",
     "evalue": "[Errno 17] File exists: 'ketan.txt'",
     "output_type": "error",
     "traceback": [
      "\u001b[1;31m---------------------------------------------------------------------------\u001b[0m",
      "\u001b[1;31mFileExistsError\u001b[0m                           Traceback (most recent call last)",
      "Input \u001b[1;32mIn [7]\u001b[0m, in \u001b[0;36m<cell line: 1>\u001b[1;34m()\u001b[0m\n\u001b[1;32m----> 1\u001b[0m myfile\u001b[38;5;241m=\u001b[39m\u001b[38;5;28;43mopen\u001b[39;49m\u001b[43m(\u001b[49m\u001b[38;5;124;43m'\u001b[39;49m\u001b[38;5;124;43mketan.txt\u001b[39;49m\u001b[38;5;124;43m'\u001b[39;49m\u001b[43m,\u001b[49m\u001b[38;5;124;43m'\u001b[39;49m\u001b[38;5;124;43mx\u001b[39;49m\u001b[38;5;124;43m'\u001b[39;49m\u001b[43m)\u001b[49m\n\u001b[0;32m      2\u001b[0m f\u001b[38;5;241m.\u001b[39mwrite(\u001b[38;5;124m'\u001b[39m\u001b[38;5;124mYou are learning\u001b[39m\u001b[38;5;124m'\u001b[39m)\n\u001b[0;32m      3\u001b[0m f\u001b[38;5;241m.\u001b[39mclose()\n",
      "\u001b[1;31mFileExistsError\u001b[0m: [Errno 17] File exists: 'ketan.txt'"
     ]
    }
   ],
   "source": [
    "myfile=open('ketan.txt','x')\n",
    "f.write('You are learning')\n",
    "f.close()"
   ]
  },
  {
   "cell_type": "code",
   "execution_count": null,
   "id": "b48d2f12-24a7-4770-ab54-89190a2b9073",
   "metadata": {},
   "outputs": [],
   "source": [
    "Using 'a' For "
   ]
  },
  {
   "cell_type": "code",
   "execution_count": 8,
   "id": "4297a989-6a67-4821-96a5-70e9d4755c1e",
   "metadata": {},
   "outputs": [
    {
     "name": "stdout",
     "output_type": "stream",
     "text": [
      "<class '_io.TextIOWrapper'>\n"
     ]
    }
   ],
   "source": [
    "myfile=open('ketan.txt','a')\n",
    "print(type(myfile)) \n",
    "myfile.write('Hope you are enjoying learning python 34\\n')\n",
    "myfile.close()"
   ]
  },
  {
   "cell_type": "code",
   "execution_count": 2,
   "id": "942ab731-795b-4453-8e81-1d3aa78b9a1b",
   "metadata": {},
   "outputs": [
    {
     "name": "stdout",
     "output_type": "stream",
     "text": [
      "C:\\Users\\KRISHNA AGRAWAL\n",
      "D:\\python practice\n"
     ]
    }
   ],
   "source": [
    "import os\n",
    "print(os.getcwd())\n",
    "os.chdir('D:\\python practice')\n",
    "print(os.getcwd())"
   ]
  },
  {
   "cell_type": "code",
   "execution_count": 4,
   "id": "120cb58a-adec-457a-aa67-757f32ed5bc7",
   "metadata": {},
   "outputs": [
    {
     "name": "stdout",
     "output_type": "stream",
     "text": [
      "<class '_io.TextIOWrapper'>\n"
     ]
    }
   ],
   "source": [
    "file2=open('romanoff.txt','w')\n",
    "print(type(file2))\n",
    "file2.write('Hello romanoof\\n ')\n",
    "file2.write('I Am Krishna Agrawal\\n')\n",
    "file2.write('You And Me are here to learn python programming language\\n')\n",
    "file2.write('I hope you are understand python well \\n')\n",
    "file2.close()"
   ]
  },
  {
   "cell_type": "code",
   "execution_count": 7,
   "id": "5a8b7833-d932-421a-92fb-176499e75862",
   "metadata": {},
   "outputs": [
    {
     "name": "stdout",
     "output_type": "stream",
     "text": [
      "Hello romanoof\n",
      " I Am Krishna Agrawal\n",
      "You And Me are here to learn python programming language\n",
      "I hope you are understand python well \n",
      "\n"
     ]
    }
   ],
   "source": [
    "file2=open('romanoff.txt')\n",
    "print(file2.read())\n"
   ]
  },
  {
   "cell_type": "code",
   "execution_count": 2,
   "id": "e4feaf85-5b59-498a-bf91-97c6169f634f",
   "metadata": {},
   "outputs": [
    {
     "name": "stdout",
     "output_type": "stream",
     "text": [
      "<class '_io.TextIOWrapper'>\n"
     ]
    }
   ],
   "source": [
    "file3=open('Steve.txt','w')\n",
    "print(type(file3))\n",
    "file3.write('Hey Steve , I am Paul cliet\\n')\n",
    "file3.write('So Steve I Am Learning Python Programming Language \\n')\n",
    "file3.write('Do you wanna learn python programming language\\n')\n",
    "file3.close()"
   ]
  },
  {
   "cell_type": "code",
   "execution_count": 14,
   "id": "d153300a-1847-46d4-8a44-2a0c3e88addb",
   "metadata": {},
   "outputs": [
    {
     "name": "stdout",
     "output_type": "stream",
     "text": [
      "D:\\python practice\n"
     ]
    }
   ],
   "source": [
    "import os\n",
    "print(os.getcwd())\n"
   ]
  },
  {
   "cell_type": "code",
   "execution_count": 3,
   "id": "6c7ca8bb-cd3d-4843-9e06-2ea5f7e7f50e",
   "metadata": {},
   "outputs": [
    {
     "name": "stdout",
     "output_type": "stream",
     "text": [
      "Hey Steve , I am Paul cliet\n",
      "So Steve I Am Learning Python Programming Language \n",
      "Do you wanna learn python programming language\n",
      "\n"
     ]
    }
   ],
   "source": [
    "file3=open('steve.txt')\n",
    "print(file3.read())"
   ]
  },
  {
   "cell_type": "code",
   "execution_count": 20,
   "id": "7e1a88b4-ef52-4ad9-8de9-e8f9a1b7b433",
   "metadata": {},
   "outputs": [
    {
     "name": "stdout",
     "output_type": "stream",
     "text": [
      "<class '_io.TextIOWrapper'>\n",
      "File created successfully\n"
     ]
    }
   ],
   "source": [
    "with open('kr.txt','w')as file4:      # The main advantage of with and as is you don't have to write line of close the file   \n",
    "    file4.write('Hello Arpit Sing\\n')\n",
    "    file4.write('In which school or college did you study?')\n",
    "    print(type(file4))\n",
    "    print('File created successfully')"
   ]
  },
  {
   "cell_type": "code",
   "execution_count": 22,
   "id": "1fc4b201-d05d-4861-b068-082aacfa238a",
   "metadata": {},
   "outputs": [
    {
     "name": "stdout",
     "output_type": "stream",
     "text": [
      "Hello Arpit Sing\n",
      "In which school or college did you study?\n"
     ]
    }
   ],
   "source": [
    "with open('kr.txt')as file4:\n",
    "    print(file4.read())"
   ]
  },
  {
   "cell_type": "code",
   "execution_count": 29,
   "id": "a6e240f7-6a6a-4e93-bc56-4cf84ed8c13b",
   "metadata": {},
   "outputs": [
    {
     "name": "stdout",
     "output_type": "stream",
     "text": [
      "<class '_io.TextIOWrapper'>\n",
      "About The Universe ,The comment you give is successfully added in your kri.txt file\n"
     ]
    }
   ],
   "source": [
    "with open('kri.txt','w') as file5:\n",
    "    file5.write('I Really to explore the universe!!\\n')\n",
    "    file5.write('So like me do you also like to explore the universe?\\n')\n",
    "    file5.write('If Yes type Yes else type No\\n')\n",
    "    print(type(file5))\n",
    "    print('About The Universe ,The comment you give is successfully added in your kri.txt file')\n",
    "    "
   ]
  },
  {
   "cell_type": "code",
   "execution_count": 30,
   "id": "965d90ad-10a4-438c-b48e-0e4ae0219a70",
   "metadata": {},
   "outputs": [
    {
     "name": "stdout",
     "output_type": "stream",
     "text": [
      "I Really to explore the universe!!\n",
      "So like me do you also like to explore the universe?\n",
      "If Yes type Yes else type No\n",
      "\n"
     ]
    }
   ],
   "source": [
    "with open('kri.txt') as file5:\n",
    "    print(file5.read())"
   ]
  },
  {
   "cell_type": "markdown",
   "id": "b83200f7-6fb1-4b37-b083-b7cae7395489",
   "metadata": {},
   "source": [
    "file6=open('asth.txt','w')\n",
    "print(type(file6))\n",
    "file6.write('Hello asth\\n')\n",
    "file6.write('Well your name is very unique')\n",
    "file6.close()"
   ]
  },
  {
   "cell_type": "code",
   "execution_count": 32,
   "id": "71612457-1f85-4758-9619-0a7c06edf20b",
   "metadata": {},
   "outputs": [
    {
     "name": "stdout",
     "output_type": "stream",
     "text": [
      "Hello asth\n",
      "Well your name is very unique\n"
     ]
    }
   ],
   "source": [
    "file6=open('asth.txt')\n",
    "print(file6.read())\n"
   ]
  },
  {
   "cell_type": "markdown",
   "id": "21d99c01-3a20-4589-a140-b4c7d5dc634d",
   "metadata": {},
   "source": [
    "Read and write mode basically known as r+"
   ]
  },
  {
   "cell_type": "code",
   "execution_count": 34,
   "id": "27cf7a16-2eff-487a-b2ba-b71848d35aff",
   "metadata": {},
   "outputs": [
    {
     "name": "stdout",
     "output_type": "stream",
     "text": [
      "I REALLY TO EXPLORE THE UNIVERSE!!\n",
      "SO LIKE ME DO YOU ALSO LIKE TO EXPLORE THE UNIVERSE?\n",
      "IF YES TYPE YES ELSE TYPE NO\n",
      "\n",
      "<class 'str'>\n",
      "I Really to explore the universe!!\n",
      "So like me do you also like to explore the universe?\n",
      "If Yes type Yes else type No\n",
      "\n"
     ]
    }
   ],
   "source": [
    "file5=open('kri.txt','r+')\n",
    "txt=file5.read()\n",
    "print(txt.upper())\n",
    "print(type(txt))\n",
    "print(str(txt))"
   ]
  },
  {
   "cell_type": "code",
   "execution_count": null,
   "id": "a13f76aa-aac1-4177-bbf5-24c5734889d0",
   "metadata": {},
   "outputs": [],
   "source": []
  },
  {
   "cell_type": "markdown",
   "id": "1cd8ed7f-6c9a-4d50-8879-86d8053a0dfa",
   "metadata": {},
   "source": [
    "using 'x' for exclusive creation,operation fails if file already exists"
   ]
  },
  {
   "cell_type": "code",
   "execution_count": 38,
   "id": "6ad4008e-2b8a-45a0-bb38-165c38b21227",
   "metadata": {},
   "outputs": [
    {
     "ename": "FileExistsError",
     "evalue": "[Errno 17] File exists: 'kri.txt'",
     "output_type": "error",
     "traceback": [
      "\u001b[1;31m---------------------------------------------------------------------------\u001b[0m",
      "\u001b[1;31mFileExistsError\u001b[0m                           Traceback (most recent call last)",
      "Input \u001b[1;32mIn [38]\u001b[0m, in \u001b[0;36m<cell line: 1>\u001b[1;34m()\u001b[0m\n\u001b[1;32m----> 1\u001b[0m file5\u001b[38;5;241m=\u001b[39m\u001b[38;5;28;43mopen\u001b[39;49m\u001b[43m(\u001b[49m\u001b[38;5;124;43m'\u001b[39;49m\u001b[38;5;124;43mkri.txt\u001b[39;49m\u001b[38;5;124;43m'\u001b[39;49m\u001b[43m,\u001b[49m\u001b[38;5;124;43m'\u001b[39;49m\u001b[38;5;124;43mx\u001b[39;49m\u001b[38;5;124;43m'\u001b[39;49m\u001b[43m)\u001b[49m\n\u001b[0;32m      2\u001b[0m file5\u001b[38;5;241m.\u001b[39mwrite(\u001b[38;5;124m'\u001b[39m\u001b[38;5;124mHello Everyone\u001b[39m\u001b[38;5;124m'\u001b[39m)\n\u001b[0;32m      3\u001b[0m file5\u001b[38;5;241m.\u001b[39mclose()\n",
      "\u001b[1;31mFileExistsError\u001b[0m: [Errno 17] File exists: 'kri.txt'"
     ]
    }
   ],
   "source": [
    "'''\n",
    "The x mode use is to check wheter there is existing file or not . If there is existing file it will give you the error.\n",
    "And if you use w mode instead of x mode your previous data got removed from that file and the new information that you write in your \n",
    "file that shows you. show be carefully use modes of file.\n",
    "'''\n",
    "file5=open('kri.txt','x')  \n",
    "file5.write('Hello Everyone')\n",
    "file5.close()"
   ]
  },
  {
   "cell_type": "code",
   "execution_count": 50,
   "id": "989dda16-698d-4f25-a807-a6168705721f",
   "metadata": {},
   "outputs": [],
   "source": [
    "file5=open('kri.txt','a')\n",
    "file5.write('\\nI hope you comment down your answer below.\\n')\n",
    "file5.close()"
   ]
  },
  {
   "cell_type": "code",
   "execution_count": 52,
   "id": "89475f71-19fb-4671-9947-563d39b8cdc4",
   "metadata": {},
   "outputs": [],
   "source": [
    "file6=open('asth.txt','a')\n",
    "file6.write('So asth , can you please tell me your profession\\n')\n",
    "file6.write('And you age')\n",
    "file6.close()"
   ]
  },
  {
   "cell_type": "code",
   "execution_count": 53,
   "id": "0f88cf71-9eef-467c-9ae5-491de76b787b",
   "metadata": {},
   "outputs": [
    {
     "name": "stdout",
     "output_type": "stream",
     "text": [
      "Hello asth\n",
      "Well your name is very uniqueSo asth , can you please tell me your professionSo asth , can you please tell me your profession\n",
      "And you age\n"
     ]
    }
   ],
   "source": [
    "file6=open('asth.txt')\n",
    "print(file6.read())\n"
   ]
  },
  {
   "cell_type": "code",
   "execution_count": 65,
   "id": "2ef6125b-6290-496a-973e-300b9f5061f6",
   "metadata": {},
   "outputs": [
    {
     "name": "stdout",
     "output_type": "stream",
     "text": [
      "b'Hello asth\\r\\nWell your name is very uniqueSo asth , can you please tell me your professionSo asth , can you please tell me your profession\\r\\nAnd you age'\n"
     ]
    }
   ],
   "source": [
    "file6=open('asth.txt','rb')\n",
    "text=f2.read()\n",
    "print(r)"
   ]
  },
  {
   "cell_type": "code",
   "execution_count": 72,
   "id": "90c7c699-5f26-44c4-a4dd-06b8dd394592",
   "metadata": {},
   "outputs": [
    {
     "name": "stdout",
     "output_type": "stream",
     "text": [
      "file name is  ytr.txt\n",
      "file no is  11\n",
      "Output is on tv: False\n"
     ]
    }
   ],
   "source": [
    "file=open('ytr.txt','w')\n",
    "print('file name is ',file.name)\n",
    "print('file no is ',file.fileno())\n",
    "print('Output is on tv:',file.isatty())\n",
    "file.flush()\n",
    "file.write('After flushing\\n')\n",
    "file.close()"
   ]
  },
  {
   "cell_type": "code",
   "execution_count": 86,
   "id": "89967c50-f852-4663-b696-8c019191cef1",
   "metadata": {},
   "outputs": [],
   "source": [
    "file7=open('number.txt','w')\n",
    "file7.write(' This is line number 1\\n')\n",
    "file7.write(' This is line number 2\\n')\n",
    "file7.write(' This is line number 3\\n')\n",
    "file7.write(' This is line number 4\\n')\n",
    "file7.write(' This is line number 5\\n')\n",
    "file7.write(' This is line number 6\\n')\n",
    "file7.write(' This is line number 7\\n')\n",
    "file7.write(' This is line number 8\\n')\n",
    "file7.write(' This is line number 9\\n')\n",
    "file7.write(' This is line number 10\\n')\n",
    "file7.close()"
   ]
  },
  {
   "cell_type": "code",
   "execution_count": 97,
   "id": "24c5961b-09eb-468c-88c9-9e2e2ed85351",
   "metadata": {},
   "outputs": [
    {
     "name": "stdout",
     "output_type": "stream",
     "text": [
      "File name is  number.txt\n",
      " This is Line no 1   This is line number 1\n",
      "\n",
      " This is Line no 2   This is line number 2\n",
      "\n",
      " This is Line no 3   This is line number 3\n",
      "\n",
      " This is Line no 4   This is line number 4\n",
      "\n",
      " This is Line no 5   This is line number 5\n",
      "\n",
      " This is Line no 6   This is line number 6\n",
      "\n",
      " This is Line no 7   This is line number 7\n",
      "\n",
      " This is Line no 8   This is line number 8\n",
      "\n",
      " This is Line no 9   This is line number 9\n",
      "\n",
      " This is Line no 10   This is line number 10\n",
      "\n"
     ]
    }
   ],
   "source": [
    "file7=open('number.txt','r')\n",
    "print('File name is ',file7.name)\n",
    "\n",
    "# print(file7.readline(),end=(''))\n",
    "# print(file7.readline(),end=(''))\n",
    "# print(file7.readline())\n",
    "\n",
    "for line in range(1,11):\n",
    "    txt=file7.readline()\n",
    "    print(f' This is Line no {line} ',txt)"
   ]
  },
  {
   "cell_type": "code",
   "execution_count": 104,
   "id": "0363573f-b9e4-4888-ae36-a257aa34a36c",
   "metadata": {},
   "outputs": [
    {
     "name": "stdout",
     "output_type": "stream",
     "text": [
      "5\n",
      "teve , I am Pau\n",
      "20\n",
      "l \n",
      "22\n"
     ]
    }
   ],
   "source": [
    "f=open('steve.txt')\n",
    "f.seek(5,0) #seek work is to move the cursor on index number you select.ex-krishna now k is [0] index but i want to start from [2] index so there is seek metod use in this type of case\n",
    "print(f.tell())\n",
    "text=f.read(15)\n",
    "print(text)\n",
    "print(f.tell())\n",
    "ind=f.read(2)\n",
    "print(ind)\n",
    "print(f.tell())"
   ]
  },
  {
   "cell_type": "code",
   "execution_count": 4,
   "id": "8020235a-b4ce-410f-b301-2a0f3d11cf59",
   "metadata": {},
   "outputs": [],
   "source": [
    "f=open('steve.txt','r+')\n",
    "f.readline()\n",
    "f.truncate(25) \n",
    "'''\n",
    " truncate work  means how many characters do you wanna keep in your file . \n",
    " suppose in my file i have 50 characters and i wannt to keep only 25 characters and rest other i want to delete it .\n",
    " so in this case you can use truncate method.\n",
    "'''\n",
    "f.close()"
   ]
  },
  {
   "cell_type": "code",
   "execution_count": 9,
   "id": "7c8a074e-368f-40cc-9d02-95f965f0173c",
   "metadata": {},
   "outputs": [
    {
     "name": "stdout",
     "output_type": "stream",
     "text": [
      "D:\\python practice\n"
     ]
    }
   ],
   "source": [
    "import os\n",
    "os.getcwd()\n",
    "os.chdir('D:\\\\python practice')\n",
    "print(os.getcwd())"
   ]
  },
  {
   "cell_type": "code",
   "execution_count": null,
   "id": "884d4bbc-7cf9-4429-9a79-081f0b8836ab",
   "metadata": {},
   "outputs": [],
   "source": [
    "\n"
   ]
  },
  {
   "cell_type": "markdown",
   "id": "fa77f630-13db-4c9d-b98a-08095c6c14b3",
   "metadata": {},
   "source": [
    "Using pickle to store Native Python objects"
   ]
  },
  {
   "cell_type": "code",
   "execution_count": 23,
   "id": "eee9307e-8127-4868-b3c4-6114b0e8fb13",
   "metadata": {},
   "outputs": [
    {
     "name": "stdout",
     "output_type": "stream",
     "text": [
      "<class 'tuple'>\n",
      "({'a': 1, 'color': 'blue', 'border': 'thick'}, [2, 34, 45, 89, 23], <function add at 0x000002A818A78AF0>)\n",
      "True\n",
      "True\n",
      "{'a': 1, 'color': 'blue', 'border': 'thick'}\n",
      "[2, 34, 45, 89, 23]\n",
      "sum of 196 and 248 =  444\n"
     ]
    }
   ],
   "source": [
    "import pickle\n",
    "dir1={'a': 1, 'color':'blue','border':'thick'}  #dictionary object\n",
    "l1=[2,34,45,89,23]     #list object\n",
    "\n",
    "def add(a,b):\n",
    "    return a+b\n",
    "\n",
    "myobj=(dir1,l1,add)  #tuple object\n",
    "\n",
    "# file=open('mypickleobjects.pkl','wb')\n",
    "# pickle.dump(myobj,file)\n",
    "# file.close()\n",
    "\n",
    "myfile=open('mypickleobjects.pkl','rb')\n",
    "# fl=myfile.read()\n",
    "# print(fl)\n",
    "\n",
    "obj=pickle.load(myfile)\n",
    "print(type(obj))\n",
    "print(obj)\n",
    "print(obj==myobj)\n",
    "print(obj[2]==add)\n",
    "\n",
    "print(obj[0])\n",
    "print(obj[1])\n",
    "print('sum of 196 and 248 = ',obj[2](196,248))\n",
    "\n"
   ]
  },
  {
   "cell_type": "code",
   "execution_count": 35,
   "id": "a6c7117b-10ca-42a9-a598-b729a4ce3175",
   "metadata": {},
   "outputs": [
    {
     "name": "stdout",
     "output_type": "stream",
     "text": [
      "({'a': 23, 'b': 56, 'club': 'manchester city'}, [45, 67, 89, 23, 98], <function add at 0x000002A8189853A0>)\n",
      "<class 'tuple'>\n",
      "True\n",
      "True\n",
      "{'a': 23, 'b': 56, 'club': 'manchester city'}\n",
      "[45, 67, 89, 23, 98]\n",
      "Sum of 67 and 58 =  125\n"
     ]
    }
   ],
   "source": [
    " #try it yourself\n",
    "    \n",
    "import pickle\n",
    "d1={'a':23,'b':56,'club':'manchester city'}\n",
    "l1=[45,67,89,23,98]\n",
    "\n",
    "def add(a,b):\n",
    "    return a+b\n",
    "\n",
    "mytuple=(d1,l1,add)\n",
    "# myfile=open('my_new_pickle_object.pkl','wb')\n",
    "# pickle.dump(mytuple,myfile)\n",
    "# myfile.close()\n",
    "\n",
    "file2=open('my_new_pickle_object.pkl','rb')\n",
    "# file3=file2.read()\n",
    "# print(file3)\n",
    "\n",
    "file4=pickle.load(file2)\n",
    "print(file4)\n",
    "print(type(file4))\n",
    "\n",
    "print(file4==mytuple)\n",
    "print(file4[2]==add)\n",
    "\n",
    "print(file4[0])\n",
    "print(file4[1])\n",
    "print('Sum of 67 and 58 = ',file4[2](67,58))\n"
   ]
  },
  {
   "cell_type": "code",
   "execution_count": 40,
   "id": "b644cb61-aafb-4f2e-a15c-abc4b17a846c",
   "metadata": {},
   "outputs": [
    {
     "name": "stdout",
     "output_type": "stream",
     "text": [
      "{'name': {'fname': 'aniket', 'lname': 'taneja'}, 'job': 'charted accountant', 'salary': 60000}\n",
      "{'name': {'fname': 'aniket', 'lname': 'taneja'}, 'job': 'charted accountant', 'salary': 60000}\n",
      "<class 'dict'>\n",
      "True\n"
     ]
    }
   ],
   "source": [
    "import json\n",
    "d1={'fname':'aniket','lname':'taneja'}\n",
    "d2={'name':d1,'job':'charted accountant','salary':60000}\n",
    "print(d2)\n",
    "\n",
    "# f1=open('myjsonfile.txt','w')\n",
    "# j=json.dump(d2,f1)\n",
    "# f1.close()\n",
    "\n",
    "f2=open('myjsonfile.txt','r')\n",
    "r=json.load(f2)\n",
    "print(r)\n",
    "print(type(r))\n",
    "print(r==d2)\n",
    "\n",
    "# Note: We cannot store function in json"
   ]
  },
  {
   "cell_type": "code",
   "execution_count": null,
   "id": "82310628-673d-4f68-b29a-e50ae99d636c",
   "metadata": {},
   "outputs": [],
   "source": []
  }
 ],
 "metadata": {
  "kernelspec": {
   "display_name": "Python 3.10.7 64-bit",
   "language": "python",
   "name": "python3"
  },
  "language_info": {
   "codemirror_mode": {
    "name": "ipython",
    "version": 3
   },
   "file_extension": ".py",
   "mimetype": "text/x-python",
   "name": "python",
   "nbconvert_exporter": "python",
   "pygments_lexer": "ipython3",
   "version": "3.10.7"
  },
  "vscode": {
   "interpreter": {
    "hash": "2c6599e157872e0c80a1169ca1e185cdf85fff8ba1e0db7a7b864ffd8a8fc2c3"
   }
  }
 },
 "nbformat": 4,
 "nbformat_minor": 5
}
