{
 "cells": [
  {
   "cell_type": "code",
   "execution_count": 36,
   "metadata": {},
   "outputs": [
    {
     "name": "stdout",
     "output_type": "stream",
     "text": [
      "[[1, 2, 3], [4, 5, 6], [7, 8, 9]]\n"
     ]
    }
   ],
   "source": [
    "l1=[1,2,3]\n",
    "l2=[4,5,6]\n",
    "l3=[7,8,9]\n",
    "\n",
    "# m means matrix\n",
    "\n",
    "m=[l1,l2,l3]      \n",
    "print(m)"
   ]
  },
  {
   "cell_type": "code",
   "execution_count": 37,
   "metadata": {},
   "outputs": [
    {
     "name": "stdout",
     "output_type": "stream",
     "text": [
      "2\n",
      "[1, 2, 3]\n",
      "9\n",
      "[7, 8, 9]\n",
      "4\n",
      "[4, 5, 6]\n"
     ]
    }
   ],
   "source": [
    "print(m[0][1])\n",
    "print(m[0])\n",
    "print(m[2][2])\n",
    "print(m[2]) \n",
    "print(m[1][0])\n",
    "print(m[1])"
   ]
  },
  {
   "cell_type": "code",
   "execution_count": 38,
   "metadata": {},
   "outputs": [
    {
     "name": "stdout",
     "output_type": "stream",
     "text": [
      "11\n",
      "14\n",
      "17\n"
     ]
    }
   ],
   "source": [
    "l1=[10,11,12]\n",
    "l2=[13,14,15]\n",
    "l3=[16,17,18]\n",
    "m=[l1,l2,l3]\n",
    "\n",
    "for i in m:\n",
    "    print(i[1])"
   ]
  },
  {
   "cell_type": "code",
   "execution_count": 39,
   "metadata": {},
   "outputs": [
    {
     "name": "stdout",
     "output_type": "stream",
     "text": [
      "20\n",
      "19\n",
      "23\n",
      "22\n",
      "26\n",
      "25\n"
     ]
    }
   ],
   "source": [
    "m1=[19,20,21]\n",
    "m2=[22,23,24]\n",
    "m3=[25,26,27]\n",
    "m=[m1,m2,m3]\n",
    "\n",
    "for i in m:\n",
    "    print(i[1])\n",
    "    print(i[0])"
   ]
  },
  {
   "cell_type": "code",
   "execution_count": 40,
   "metadata": {},
   "outputs": [
    {
     "name": "stdout",
     "output_type": "stream",
     "text": [
      "[21, 24, 27]\n"
     ]
    }
   ],
   "source": [
    "print([r[2] for r in m]) # This is known as list comprehension"
   ]
  },
  {
   "cell_type": "markdown",
   "metadata": {},
   "source": [
    "List Comprehension"
   ]
  },
  {
   "cell_type": "code",
   "execution_count": 56,
   "metadata": {},
   "outputs": [
    {
     "name": "stdout",
     "output_type": "stream",
     "text": [
      "2 4 6 8 10 12 14 16 18 20 22 24 26 28 30 32 34 36 38 40 42 44 46 48 50 52 54 56 58 60 62 64 66 68 70 72 74 76 78 80 82 84 86 88 90 92 94 96 98 100 \n",
      "\n",
      "[2, 4, 6, 8, 10, 12, 14, 16, 18, 20, 22, 24, 26, 28, 30, 32, 34, 36, 38, 40, 42, 44, 46, 48, 50, 52, 54, 56, 58, 60, 62, 64, 66, 68, 70, 72, 74, 76, 78, 80, 82, 84, 86, 88, 90, 92, 94, 96, 98, 100]\n"
     ]
    }
   ],
   "source": [
    "#old method\n",
    "for r in range(1,101):\n",
    "    if r%2==0:\n",
    "        print(r,end=' ')\n",
    "\n",
    "#new method which is called list comprehension\n",
    "print('\\n')\n",
    "\n",
    "print([r for r in range(1,101)if r%2==0])\n"
   ]
  },
  {
   "cell_type": "code",
   "execution_count": 44,
   "metadata": {},
   "outputs": [
    {
     "name": "stdout",
     "output_type": "stream",
     "text": [
      "[52, 54, 56, 58, 60, 62, 64, 66, 68, 70, 72, 74, 76, 78, 80, 82, 84, 86, 88, 90, 92, 94, 96, 98, 100]\n"
     ]
    }
   ],
   "source": [
    "print([r for r in range(1,101) if r%2==0 if r>50])"
   ]
  },
  {
   "cell_type": "code",
   "execution_count": 77,
   "metadata": {},
   "outputs": [
    {
     "name": "stdout",
     "output_type": "stream",
     "text": [
      "4.4 9.8 \n",
      "\n",
      "[1, 2, 3]\n"
     ]
    }
   ],
   "source": [
    "#old method\n",
    "l1=[1,'Preet',2,'Niharika',3,'Johnson',4.4,9.8,(34,23,56),{'a':4,'b':6,'c':8}]\n",
    "ol=[]\n",
    "for i in l1:\n",
    "    if isinstance(i,int):\n",
    "        ol.append(i)\n",
    "    if isinstance(i,float):\n",
    "        print(i,end=' ')\n",
    "        \n",
    "print('\\n')     \n",
    "print(ol)"
   ]
  },
  {
   "cell_type": "code",
   "execution_count": 103,
   "metadata": {},
   "outputs": [
    {
     "name": "stdout",
     "output_type": "stream",
     "text": [
      "[1, 2, 3]\n",
      "['Preet', 'Niharika', 'Johnson']\n",
      "[4.4, 9.8]\n",
      "[(34, 23, 56)]\n",
      "[{'a': 4, 'b': 6, 'c': 8}]\n",
      "[10, 15, 20]\n",
      "['The cube of 1 is 1 ', 'The cube of 2 is 8 ', 'The cube of 3 is 27 ']\n",
      "['The square and cube of 1 is 1,1', 'The square and cube of 2 is 4,8', 'The square and cube of 3 is 9,27']\n",
      "['PREET', 'NIHARIKA', 'JOHNSON']\n"
     ]
    }
   ],
   "source": [
    "# list comprehension\n",
    "\n",
    "l1=[1,'Preet',2,'Niharika',3,'Johnson',4.4,9.8,(34,23,56),{'a':4,'b':6,'c':8}]\n",
    "print([i for i in l1 if isinstance(i,int) ])\n",
    "print([i for i in l1 if isinstance(i,str)])\n",
    "print([i for i in l1 if isinstance(i,float)])\n",
    "print([i for i in l1 if isinstance(i,tuple)])\n",
    "print([i for i in l1 if isinstance(i,dict)])\n",
    "\n",
    "\n",
    "print([i*5+5 for i in l1 if isinstance(i,int)])\n",
    "print([f'The cube of {i} is {i ** 3} 'for i in l1 if isinstance(i,int)])\n",
    "print([f'The square and cube of {i} is {i**2},{i**3}'for i in l1 if isinstance(i,int)])\n",
    "\n",
    "print([i.upper() for i in l1 if isinstance(i,str)])"
   ]
  },
  {
   "cell_type": "code",
   "execution_count": 91,
   "metadata": {},
   "outputs": [
    {
     "name": "stdout",
     "output_type": "stream",
     "text": [
      "[1600.0, 1760.0, 1920.0, 2080.0, 2240.0, 2400.0]\n",
      "['After getting 20% discount on your product then your final amount is = 1600.0', 'After getting 20% discount on your product then your final amount is = 1760.0', 'After getting 20% discount on your product then your final amount is = 1920.0', 'After getting 20% discount on your product then your final amount is = 2080.0', 'After getting 20% discount on your product then your final amount is = 2240.0', 'After getting 20% discount on your product then your final amount is = 2400.0']\n"
     ]
    }
   ],
   "source": [
    "l2=[1600,1700,1800,1900,2000,2200,2400,2600,2800,3000]\n",
    "print([i*0.8 for i in l2 if i >1900])\n",
    "\n",
    "print([f'After getting 20% discount on your product then your final amount is = {i*0.8}' for i in l2 if i>1900])\n",
    "# print('After getting 20% discount on your product then your final amount is = ',[i*0.8 for i in l2 if i>1900])\n",
    "\n",
    "\n"
   ]
  },
  {
   "cell_type": "code",
   "execution_count": 2,
   "metadata": {},
   "outputs": [
    {
     "name": "stdout",
     "output_type": "stream",
     "text": [
      "[1, 2, 3, 4, 5]\n"
     ]
    }
   ],
   "source": [
    "l1=[1,2,3,4,5,(45,32,78),{'a':'arora','b':'jameswebb','c':'isro'},56.34,89.3,6.7,4.2]\n",
    "print([i for i in l1 if isinstance(i,int)])"
   ]
  },
  {
   "cell_type": "code",
   "execution_count": 15,
   "metadata": {},
   "outputs": [
    {
     "name": "stdout",
     "output_type": "stream",
     "text": [
      "['NEHARIKA', 'RAJ', 'JAY']\n",
      "['NEHARIKA', 'RAJ', 'JAY']\n",
      "[1, 4, 9, 16, 25]\n",
      "[1, 8, 27, 64, 125]\n"
     ]
    }
   ],
   "source": [
    "s1=[1,2,5,3,4,6,'Neharika','raj','jay',{'a':'arora','b':'saturn','c':'mars'}]\n",
    "str1=[]\n",
    "for i in s1:\n",
    "    if isinstance(i,str):\n",
    "        i=i.upper()\n",
    "        str1.append(i)\n",
    "       \n",
    "print(str1)\n",
    "\n",
    "print([i.upper() for i in s1 if isinstance(i,str)])\n",
    "print([i*i for i in l1 if isinstance(i,int)])\n",
    "print([i ** 3 for i in l1 if isinstance(i,int)])\n"
   ]
  },
  {
   "cell_type": "code",
   "execution_count": 25,
   "metadata": {},
   "outputs": [
    {
     "name": "stdout",
     "output_type": "stream",
     "text": [
      "even [2, 4, 6, 8, 10, 90, 92, 94, 96, 98, 100]\n",
      "odd [1, 3, 5, 7, 9, 91, 93, 95, 97, 99, 101]\n"
     ]
    }
   ],
   "source": [
    "e=[1,2,3,4,5,6,7,8,9,10,90,91,92,93,94,95,96,97,98,99,100,101]\n",
    "print('even',[i for i in e if i%2==0])\n",
    "print('odd', [i for i in e if i%2!=0])\n"
   ]
  },
  {
   "cell_type": "code",
   "execution_count": 30,
   "metadata": {},
   "outputs": [
    {
     "name": "stdout",
     "output_type": "stream",
     "text": [
      "[60, 62, 64, 66, 68, 70, 72, 74, 76, 78, 80, 82, 84, 86, 88, 90]\n"
     ]
    }
   ],
   "source": [
    "print([i for i in range(1,100) if i > 59 and i<92 and i%2==0 ])"
   ]
  },
  {
   "cell_type": "code",
   "execution_count": 47,
   "metadata": {},
   "outputs": [
    {
     "name": "stdout",
     "output_type": "stream",
     "text": [
      "[2, 4, 6, 8, 10, 12, 14]\n"
     ]
    }
   ],
   "source": [
    "m=[[1,2,3],\n",
    "   [4,5,6],\n",
    "   [7,8,9],\n",
    "   [10,11,12],\n",
    "   [13],[14],[15]]\n",
    "\n",
    "def fun(matrix):\n",
    "    mylist=[]\n",
    "    for r in matrix:\n",
    "    #    print(r)\n",
    "\n",
    "       for x in r:\n",
    "        # print(x)\n",
    "\n",
    "        if x%2==0:\n",
    "            mylist.append(x)\n",
    "\n",
    "    return mylist\n",
    "\n",
    "print(fun(m))\n",
    "\n"
   ]
  },
  {
   "cell_type": "code",
   "execution_count": 53,
   "metadata": {},
   "outputs": [
    {
     "name": "stdout",
     "output_type": "stream",
     "text": [
      "[2, 4, 6, 8, 10, 12, 14]\n",
      "[2, 4, 6, 8, 10, 12, 14]\n"
     ]
    }
   ],
   "source": [
    "def myfunc(matrix):\n",
    "    return [x for row in matrix for x in row if x %2==0 ]\n",
    "\n",
    "l=lambda matrix:[ x for row in matrix for x in row if x%2==0]\n",
    "print(myfunc(m))\n",
    "print(l(m))"
   ]
  },
  {
   "cell_type": "code",
   "execution_count": 57,
   "metadata": {},
   "outputs": [
    {
     "name": "stdout",
     "output_type": "stream",
     "text": [
      "4\n"
     ]
    }
   ],
   "source": [
    "l=lambda l1,l2 :l1+l2\n",
    "print(l(2,2))"
   ]
  },
  {
   "cell_type": "code",
   "execution_count": 66,
   "metadata": {},
   "outputs": [
    {
     "name": "stdout",
     "output_type": "stream",
     "text": [
      "[2, 4, 6, 8, 10, 12, 14]\n",
      "[2, 4, 6, 8, 10, 12, 14]\n"
     ]
    }
   ],
   "source": [
    "m=[[1,2,3],\n",
    "   [4,5,6],\n",
    "   [7,8,9],\n",
    "   [10,11,12],\n",
    "   [13],[14],[15]]\n",
    "\n",
    "def func(matrix):\n",
    "    return([x for row in matrix for x in row if x%2==0])\n",
    "print(func(m))\n",
    "\n",
    "l=lambda matrix:[x for row in matrix for x in row if x%2==0]\n",
    "print(l(m))"
   ]
  },
  {
   "cell_type": "code",
   "execution_count": 80,
   "metadata": {},
   "outputs": [
    {
     "name": "stdout",
     "output_type": "stream",
     "text": [
      " Lv Pythn Prgrmmng\n"
     ]
    }
   ],
   "source": [
    "text='I Love Python Programming'\n",
    "l1=''.join([l for l in text if l not in 'aeiouAEIOU'])\n",
    "print(l1)\n"
   ]
  },
  {
   "cell_type": "code",
   "execution_count": 81,
   "metadata": {},
   "outputs": [
    {
     "name": "stdout",
     "output_type": "stream",
     "text": [
      "Hll  m Krshn grwl\n"
     ]
    }
   ],
   "source": [
    "text='Hello I Am Krishna Agrawal'\n",
    "l1=''.join(l for l in text if l not in 'aeiouAEIOU')\n",
    "print(l1)"
   ]
  },
  {
   "cell_type": "code",
   "execution_count": 1,
   "metadata": {},
   "outputs": [
    {
     "name": "stdout",
     "output_type": "stream",
     "text": [
      " m lrnng pythn Prgrmmngrrr\n"
     ]
    }
   ],
   "source": [
    "\n",
    "\n",
    "text = 'I am learning python ProgrammingError'\n",
    "s=''.join([l for l in text if l not in  'aeiouAEIOU'])\n",
    "print(s)"
   ]
  },
  {
   "cell_type": "code",
   "execution_count": 45,
   "metadata": {},
   "outputs": [
    {
     "name": "stdout",
     "output_type": "stream",
     "text": [
      "0.9915035043469175\n",
      "1\n"
     ]
    }
   ],
   "source": [
    "from random import random\n",
    "x=random()\n",
    "print(x)\n",
    "\n",
    "x=round(random())     # if random value was less than 0.5 it will print 0 or greater than 0.5 it will print 1\n",
    "print(x)"
   ]
  },
  {
   "cell_type": "code",
   "execution_count": 6,
   "metadata": {},
   "outputs": [
    {
     "name": "stdout",
     "output_type": "stream",
     "text": [
      "[1, 0, 1, 0, 1, 0, 1, 1, 1, 1]\n",
      "You get head 7 time\n",
      "Congratulations you won the game\n"
     ]
    }
   ],
   "source": [
    "from random import random\n",
    "list=[]\n",
    "for x in range(1,11):\n",
    "    list.append(int(round(random())))\n",
    "print(list)\n",
    "\n",
    "sum=0\n",
    "for x in list:\n",
    "    if x==1:\n",
    "        sum+=1\n",
    "print(f'You get head {sum} time')\n",
    "if sum>=5:\n",
    "    print('Congratulations you won the game')\n",
    "else:\n",
    "    print('You lose the game! Try Again')\n",
    "\n"
   ]
  },
  {
   "cell_type": "code",
   "execution_count": 33,
   "metadata": {},
   "outputs": [
    {
     "name": "stdout",
     "output_type": "stream",
     "text": [
      "[1, 1, 0, 1, 1, 1, 1, 1, 1, 0]\n",
      "You get head 8 time\n",
      "Congratulations You Have Won The Game\n"
     ]
    }
   ],
   "source": [
    "result=[int(round(random())) for x in range(1,11)]\n",
    "print(result)\n",
    "\n",
    "sum=len([x for x in result if x==1])\n",
    "print(f'You get head {sum} time')\n",
    "if sum>=5:\n",
    "    print('Congratulations You Have Won The Game')\n",
    "else:\n",
    "    print('You Lost The Game')\n"
   ]
  },
  {
   "cell_type": "code",
   "execution_count": 34,
   "metadata": {},
   "outputs": [
    {
     "name": "stdout",
     "output_type": "stream",
     "text": [
      "You get head 5 time\n",
      "Congratulations You won the game\n"
     ]
    }
   ],
   "source": [
    "count=len([x for x in [int(round(random())) for x in range(1,11)] if x ==1])\n",
    "if count>=5:\n",
    "    print(f'You get head {count} time')\n",
    "    print('Congratulations You won the game')\n",
    "else:\n",
    "  print('You lose the game')\n",
    "  print(f'You get head {count} time')"
   ]
  },
  {
   "cell_type": "code",
   "execution_count": 38,
   "metadata": {},
   "outputs": [
    {
     "name": "stdout",
     "output_type": "stream",
     "text": [
      "You lost the game\n"
     ]
    }
   ],
   "source": [
    "if  len([x for x in [int(round(random()))  for x in range(11) ] if x==1]) > 5 :\n",
    "    print('You won the game')\n",
    "    \n",
    "else:\n",
    "    print('You lost the game')\n",
    "\n",
    "\n"
   ]
  },
  {
   "cell_type": "code",
   "execution_count": null,
   "metadata": {},
   "outputs": [],
   "source": [
    "import os\n",
    "from pprint import pprint\n",
    "os.chdir('D:\\python practice')\n",
    "file_list=[]\n",
    "\n",
    "for file in os.listdir('D:\\python practice'):\n",
    "    if file.endswith('.txt'):\n",
    "        file_list.append(file)\n",
    "pprint(file_list)\n",
    "pprint(len(file_list))"
   ]
  },
  {
   "cell_type": "code",
   "execution_count": 56,
   "metadata": {},
   "outputs": [
    {
     "name": "stdout",
     "output_type": "stream",
     "text": [
      "['asth.txt',\n",
      " 'File1.txt',\n",
      " 'ketan.txt',\n",
      " 'kr.txt',\n",
      " 'kri.txt',\n",
      " 'krishna.txt',\n",
      " 'line.txt',\n",
      " 'myjsonfile.txt',\n",
      " 'number.txt',\n",
      " 'romanoff.txt',\n",
      " 'Somindra1.txt',\n",
      " 'Steve.txt',\n",
      " 'ytr.txt']\n"
     ]
    }
   ],
   "source": [
    "pprint([file for file in os.listdir('D:\\python practice') if file.endswith('.txt') ])\n",
    "\n"
   ]
  },
  {
   "cell_type": "code",
   "execution_count": 57,
   "metadata": {},
   "outputs": [
    {
     "name": "stdout",
     "output_type": "stream",
     "text": [
      "Help on function pprint in module pprint:\n",
      "\n",
      "pprint(object, stream=None, indent=1, width=80, depth=None, *, compact=False, sort_dicts=True, underscore_numbers=False)\n",
      "    Pretty-print a Python object to a stream [default is sys.stdout].\n",
      "\n"
     ]
    }
   ],
   "source": [
    "help(pprint)"
   ]
  },
  {
   "cell_type": "code",
   "execution_count": null,
   "metadata": {},
   "outputs": [],
   "source": [
    "import csv\n",
    "from pprint import pprint\n",
    "data= []\n",
    "\n",
    "for x in csv.DictReader(open('D:\\python practice/csv1.csv','r')):\n",
    "    data.append(x)\n",
    "\n",
    "pprint(data)"
   ]
  },
  {
   "cell_type": "code",
   "execution_count": 4,
   "metadata": {},
   "outputs": [
    {
     "name": "stdout",
     "output_type": "stream",
     "text": [
      "[{'age': '23', 'city': 'vadodra', 'name': 'Ritesh'},\n",
      " {'age': '26', 'city': 'vapi', 'name': 'anushka'},\n",
      " {'age': '36', 'city': 'GNR', 'name': 'shradha'},\n",
      " {'age': '67', 'city': 'AHD', 'name': 'komal'},\n",
      " {'age': '45', 'city': 'vadodra', 'name': 'manav'},\n",
      " {'age': '12', 'city': 'delhi', 'name': 'raj'},\n",
      " {'age': '25', 'city': 'bhavnagar', 'name': 'dinesh'},\n",
      " {'age': '56', 'city': 'surat', 'name': 'sachin'},\n",
      " {'age': '45', 'city': 'AHD', 'name': 'preet'}]\n"
     ]
    }
   ],
   "source": [
    "pprint([x for x in csv.DictReader(open('D:\\python practice/csv1.csv','r'))])\n"
   ]
  },
  {
   "cell_type": "code",
   "execution_count": 7,
   "metadata": {},
   "outputs": [
    {
     "name": "stdout",
     "output_type": "stream",
     "text": [
      "{'Chris', 'Diya', 'Bhavya', 'Giant', 'Aayush'}\n"
     ]
    }
   ],
   "source": [
    "names=['aAyusH','bHAVYA','ChRis','diya','e','f','GIANT','aAyush','ChRis']\n",
    "print({name[0].upper()+name[1:].lower() for name in names if len(name)>1 })\n",
    "\n",
    "#If you want to remove duplicate names you have to use set compreshension which syntax is {} curly braces."
   ]
  },
  {
   "cell_type": "code",
   "execution_count": 11,
   "metadata": {},
   "outputs": [
    {
     "name": "stdout",
     "output_type": "stream",
     "text": [
      "{1.2, 2, 3, 4, 1, 5}\n"
     ]
    }
   ],
   "source": [
    "s={1.2,1.2,1,2,3,4,2,4,5}\n",
    "print(s)\n"
   ]
  },
  {
   "cell_type": "code",
   "execution_count": 13,
   "metadata": {},
   "outputs": [
    {
     "name": "stdout",
     "output_type": "stream",
     "text": [
      "{'4', '2', ',', '3', '1'}\n"
     ]
    }
   ],
   "source": [
    "s1=set('1,1,2,3,3,4,2')\n",
    "print(s1)"
   ]
  },
  {
   "cell_type": "code",
   "execution_count": null,
   "metadata": {},
   "outputs": [],
   "source": [
    "for num in range(1,101):\n",
    "    if num>1:\n",
    "        for i in range(2,num):\n",
    "            if num%i==0:\n",
    "                break\n",
    "        else:\n",
    "            print(num)\n",
    "\n",
    "            \n"
   ]
  },
  {
   "cell_type": "code",
   "execution_count": 1,
   "metadata": {},
   "outputs": [
    {
     "name": "stdout",
     "output_type": "stream",
     "text": [
      "[8, 64, 216, 512, 1000, 3375, 8]\n",
      "[8, 64, 216, 512, 1000, 3375, 8]\n",
      "[8, 64, 216, 512, 1000, 3375, 8]\n"
     ]
    }
   ],
   "source": [
    "l1=[2,4,6,8,10,15,2]\n",
    "def cube(x):\n",
    "    return x**3\n",
    "cl=[]\n",
    "for i in l1:\n",
    "    cl.append(i**3)\n",
    "print(cl)\n",
    "\n",
    "print([x**3 for x in l1])\n",
    "\n",
    "print(list(map(lambda x: x**3,l1)))"
   ]
  },
  {
   "cell_type": "code",
   "execution_count": 2,
   "metadata": {},
   "outputs": [
    {
     "name": "stdout",
     "output_type": "stream",
     "text": [
      "[0, 0]\n",
      "[1, 1]\n",
      "[4, 8]\n",
      "[9, 27]\n",
      "[16, 64]\n",
      "[25, 125]\n",
      "[36, 216]\n",
      "[49, 343]\n",
      "[64, 512]\n",
      "[81, 729]\n"
     ]
    }
   ],
   "source": [
    "square = lambda x: x**2\n",
    "cube= lambda x : x**3\n",
    "\n",
    "fucs= [square,cube]\n",
    "for num in range(10):\n",
    "    value=map(lambda x : x(num),(lambda x : x**2,lambda x:x**3))\n",
    "    print(list(value))"
   ]
  },
  {
   "cell_type": "code",
   "execution_count": 3,
   "metadata": {},
   "outputs": [
    {
     "data": {
      "text/plain": [
       "[2, 3, 3, 24]"
      ]
     },
     "execution_count": 3,
     "metadata": {},
     "output_type": "execute_result"
    }
   ],
   "source": [
    "m = [2,3,4,54,4,3,24,27] \n",
    "n= [2,3,5,3,78,65,24,89]\n",
    "\n",
    "list(filter(lambda x:x in m,n))"
   ]
  },
  {
   "cell_type": "code",
   "execution_count": 4,
   "metadata": {},
   "outputs": [
    {
     "name": "stdout",
     "output_type": "stream",
     "text": [
      "<class 'list_iterator'>\n",
      "11\n"
     ]
    }
   ],
   "source": [
    "test_list=[11,22,22,3,34,56,3]\n",
    "i = iter(test_list)\n",
    "print(type(i))\n",
    "print(i.__next__())"
   ]
  },
  {
   "cell_type": "code",
   "execution_count": 5,
   "metadata": {},
   "outputs": [
    {
     "name": "stdout",
     "output_type": "stream",
     "text": [
      "22\n"
     ]
    }
   ],
   "source": [
    "print(next(i))"
   ]
  },
  {
   "cell_type": "code",
   "execution_count": 6,
   "metadata": {},
   "outputs": [
    {
     "name": "stdout",
     "output_type": "stream",
     "text": [
      "1\n",
      "12\n",
      "3\n",
      "4\n",
      "23\n"
     ]
    }
   ],
   "source": [
    "iter_test=iter([1,12,3,4,23])\n",
    "while True:\n",
    "\n",
    "    try:\n",
    "        j=next(iter_test)\n",
    "        print(j)\n",
    "    except StopIteration as e:\n",
    "            break"
   ]
  },
  {
   "cell_type": "code",
   "execution_count": 22,
   "metadata": {},
   "outputs": [
    {
     "name": "stdout",
     "output_type": "stream",
     "text": [
      "[1, 8, 27, 64, 125, 4096, 4913, 5832, 6859, 8000]\n",
      "[1, 8, 27, 64, 125, 4096, 4913, 5832, 6859, 8000]\n",
      "[1, 8, 27, 64, 125, 4096, 4913, 5832, 6859, 8000]\n"
     ]
    }
   ],
   "source": [
    "l1=[1,2,3,4,5,16,17,18,19,20]\n",
    "  \n",
    "l=[]\n",
    "for i in l1:\n",
    "  l.append(i**3)\n",
    "print(l)\n",
    "\n",
    "print([x**3 for x in l1])\n",
    "print(list(map(lambda x:x**3,l1)))\n"
   ]
  },
  {
   "cell_type": "code",
   "execution_count": 37,
   "metadata": {},
   "outputs": [
    {
     "name": "stdout",
     "output_type": "stream",
     "text": [
      "[1, 8, 27, 64, 125, 216, 343, 512, 729, 1000]\n",
      "[1, 8, 27, 64, 125, 216, 343, 512, 729, 1000]\n",
      "[1, 8, 27, 64, 125, 216, 343, 512, 729, 1000]\n"
     ]
    }
   ],
   "source": [
    "l1=[1,2,3,4,5,6,7,8,9,10]\n",
    "l=[]\n",
    "for i in l1:\n",
    "    l.append(i**3)\n",
    "print(l)\n",
    "\n",
    "print([i**3 for i in l1])\n",
    "print(list(map(lambda x : x**3 ,l1)))"
   ]
  },
  {
   "cell_type": "code",
   "execution_count": 80,
   "metadata": {},
   "outputs": [
    {
     "name": "stdout",
     "output_type": "stream",
     "text": [
      "[0, 0]\n",
      "[1, 1]\n",
      "[4, 8]\n",
      "[9, 27]\n",
      "[16, 64]\n",
      "[25, 125]\n",
      "[36, 216]\n",
      "[49, 343]\n",
      "[64, 512]\n",
      "[81, 729]\n"
     ]
    }
   ],
   "source": [
    "\n",
    "# print([(x**2 ,x**3) for x in range(10)])\n",
    "for num in range(10):\n",
    "    s= map(lambda x : x(num) ,(lambda x :x**2,lambda x:x**3))\n",
    "    print(list(s))"
   ]
  },
  {
   "cell_type": "code",
   "execution_count": 90,
   "metadata": {},
   "outputs": [
    {
     "data": {
      "text/plain": [
       "[90, 2, 1, 3, 4]"
      ]
     },
     "execution_count": 90,
     "metadata": {},
     "output_type": "execute_result"
    }
   ],
   "source": [
    "l1=[1,2,3,4,5,6,21,22,90,45]\n",
    "l2=[90,2,1,56,78,3,4]\n",
    "\n",
    "list(filter(lambda x:x in l1,l2))\n",
    "\n"
   ]
  },
  {
   "cell_type": "code",
   "execution_count": 91,
   "metadata": {},
   "outputs": [
    {
     "name": "stdout",
     "output_type": "stream",
     "text": [
      "The sum is 359\n"
     ]
    }
   ],
   "source": [
    "list=[23,45,67,89,90,45]\n",
    "sum=0\n",
    "for i in list:\n",
    "    sum+=i\n",
    "print(f'The sum is {sum}')"
   ]
  },
  {
   "cell_type": "code",
   "execution_count": 94,
   "metadata": {},
   "outputs": [
    {
     "name": "stdout",
     "output_type": "stream",
     "text": [
      "The sum is = 6011\n"
     ]
    }
   ],
   "source": [
    "list=[12,24,36,48,50,62,74,86,99,100,102,104,106,108,1000,1500,2500]\n",
    "\n",
    "from functools import reduce\n",
    "\n",
    "print('The sum is =',reduce(lambda x,y:x+y ,list))"
   ]
  },
  {
   "cell_type": "code",
   "execution_count": 96,
   "metadata": {},
   "outputs": [
    {
     "name": "stdout",
     "output_type": "stream",
     "text": [
      "The subtraction is =  -5987\n"
     ]
    }
   ],
   "source": [
    "list=[12,24,36,48,50,62,74,86,99,100,102,104,106,108,1000,1500,2500]\n",
    "\n",
    "from functools import reduce\n",
    "\n",
    "print('The subtraction is = ',reduce(lambda x,y:x-y,list))"
   ]
  },
  {
   "cell_type": "code",
   "execution_count": 97,
   "metadata": {},
   "outputs": [
    {
     "name": "stdout",
     "output_type": "stream",
     "text": [
      "The Multiplication is =  44264716274551003545600000000000000\n"
     ]
    }
   ],
   "source": [
    "list=[12,24,36,48,50,62,74,86,99,100,102,104,106,108,1000,1500,2500]\n",
    "from functools import reduce\n",
    "\n",
    "print('The Multiplication is = ',reduce(lambda x,y:x*y,list))"
   ]
  },
  {
   "cell_type": "code",
   "execution_count": 99,
   "metadata": {},
   "outputs": [
    {
     "name": "stdout",
     "output_type": "stream",
     "text": [
      "The division is =  1.8\n"
     ]
    }
   ],
   "source": [
    "list=[4500,2500]\n",
    "from functools import reduce\n",
    "print('The division is = ',reduce(lambda x,y:x/y,list))"
   ]
  },
  {
   "cell_type": "code",
   "execution_count": 2,
   "metadata": {},
   "outputs": [
    {
     "name": "stdout",
     "output_type": "stream",
     "text": [
      "[1, 8, 27, 64, 125, 216, 343, 512]\n"
     ]
    }
   ],
   "source": [
    "\n",
    "l1=[1,2,3,4,5,6,7,8]\n",
    "print(list(map(lambda x :x**3,l1)))\n",
    "\n",
    "\n"
   ]
  },
  {
   "cell_type": "code",
   "execution_count": 3,
   "metadata": {},
   "outputs": [
    {
     "name": "stdout",
     "output_type": "stream",
     "text": [
      "[8, 343, 512, 729, 175616, 474552, 39304]\n"
     ]
    }
   ],
   "source": [
    "l2=[2,7,8,9,56,78,34]\n",
    "print(list(map(lambda x:x**3,l2)))"
   ]
  },
  {
   "cell_type": "code",
   "execution_count": 11,
   "metadata": {},
   "outputs": [
    {
     "name": "stdout",
     "output_type": "stream",
     "text": [
      "{'a': 22, 'k': 8, 'j': 15, 'A': 6, 'K': 5, 'J': 28}\n",
      "{'a': 28, 'k': 13, 'j': 43}\n"
     ]
    }
   ],
   "source": [
    "mydict=dict(a=22,k=8,j=15,A=6,K=5,J=28)\n",
    "print(mydict)\n",
    "\n",
    "dict1={k.lower():mydict.get(k.lower())+mydict.get(k.upper())for k in mydict.keys()}\n",
    "print(dict1)"
   ]
  },
  {
   "cell_type": "code",
   "execution_count": 12,
   "metadata": {},
   "outputs": [
    {
     "name": "stdout",
     "output_type": "stream",
     "text": [
      "[4, 9, 16, 25, 36, 49, 64]\n"
     ]
    }
   ],
   "source": [
    "l1=[2,3,4,5,6,7,8]\n",
    "def myfunc(i):\n",
    "    return i**2\n",
    "print(list(map(myfunc,l1)))\n"
   ]
  },
  {
   "cell_type": "code",
   "execution_count": 13,
   "metadata": {},
   "outputs": [
    {
     "data": {
      "text/plain": [
       "[4, 9, 16, 25, 36, 49, 64]"
      ]
     },
     "execution_count": 13,
     "metadata": {},
     "output_type": "execute_result"
    }
   ],
   "source": [
    "l1=[2,3,4,5,6,7,8]\n",
    "list(map(lambda x:x**2,l1))"
   ]
  },
  {
   "cell_type": "code",
   "execution_count": 21,
   "metadata": {},
   "outputs": [
    {
     "data": {
      "text/plain": [
       "['Kangaroo', 'Zebra', 'Lion', 'Pride']"
      ]
     },
     "execution_count": 21,
     "metadata": {},
     "output_type": "execute_result"
    }
   ],
   "source": [
    "name=['kAnGaroo','zEBrA','LION','pRiDE']\n",
    "list(map(lambda str:str[0].upper()+str[1:].lower(),name))"
   ]
  },
  {
   "cell_type": "code",
   "execution_count": 19,
   "metadata": {},
   "outputs": [
    {
     "data": {
      "text/plain": [
       "['Kangaroo', 'Zebra', 'Lion', 'Pride']"
      ]
     },
     "execution_count": 19,
     "metadata": {},
     "output_type": "execute_result"
    }
   ],
   "source": [
    "\n",
    "list(map(lambda str: str[0].upper() + str[1:].lower(),['kAnGaroo','zEBrA','LION','pRiDE']))"
   ]
  },
  {
   "cell_type": "code",
   "execution_count": 23,
   "metadata": {},
   "outputs": [
    {
     "name": "stdout",
     "output_type": "stream",
     "text": [
      "[4, 8]\n",
      "[9, 27]\n",
      "[16, 64]\n",
      "[25, 125]\n",
      "[36, 216]\n",
      "[49, 343]\n",
      "[64, 512]\n",
      "[81, 729]\n",
      "[100, 1000]\n"
     ]
    }
   ],
   "source": [
    "l1=[2,3,4,5,6,7,8,9,10]\n",
    "funcs=(lambda x : x**2 ,lambda x: x**3)\n",
    "for num in l1:\n",
    "    print(list(map(lambda x : x(num),funcs)))"
   ]
  },
  {
   "cell_type": "code",
   "execution_count": 30,
   "metadata": {},
   "outputs": [
    {
     "name": "stdout",
     "output_type": "stream",
     "text": [
      "[[1, 1], [4, 8], [9, 27], [16, 64], [25, 125]]\n"
     ]
    }
   ],
   "source": [
    "print([list(map(lambda x :x(num),[lambda x :x**2 ,lambda x:x**3]))for num in(1,2,3,4,5)])"
   ]
  },
  {
   "cell_type": "code",
   "execution_count": null,
   "metadata": {},
   "outputs": [],
   "source": []
  },
  {
   "cell_type": "code",
   "execution_count": 32,
   "metadata": {},
   "outputs": [
    {
     "name": "stdout",
     "output_type": "stream",
     "text": [
      "[-15, -14, -13, -12, -11, -10, -9, -8, -7, -6, -5, -4, -3, -2, -1, 0, 1, 2, 3, 4, 5, 6, 7, 8, 9, 10, 11, 12, 13, 14]\n"
     ]
    }
   ],
   "source": [
    "l1=list(range(-15,15))\n",
    "print(l1)"
   ]
  },
  {
   "cell_type": "code",
   "execution_count": 44,
   "metadata": {},
   "outputs": [
    {
     "data": {
      "text/plain": [
       "[-15, -14, -13, -12, -11, 1, 2, 3, 4, 5, 6, 7, 8, 9, 10, 11, 12, 13, 14]"
      ]
     },
     "execution_count": 44,
     "metadata": {},
     "output_type": "execute_result"
    }
   ],
   "source": [
    "list(filter((lambda x:x <-10 or x>0),l1))"
   ]
  },
  {
   "cell_type": "code",
   "execution_count": 50,
   "metadata": {},
   "outputs": [
    {
     "data": {
      "text/plain": [
       "['Michael', 'Harry', 'Logan']"
      ]
     },
     "execution_count": 50,
     "metadata": {},
     "output_type": "execute_result"
    }
   ],
   "source": [
    "list(filter((lambda x:len(x)>4),['Michael','Harry','Logan','om','ram','jay']))"
   ]
  },
  {
   "cell_type": "code",
   "execution_count": 54,
   "metadata": {},
   "outputs": [
    {
     "name": "stdout",
     "output_type": "stream",
     "text": [
      "The sum is =  326\n"
     ]
    }
   ],
   "source": [
    "l1=[23,24,78,89,45,67]\n",
    "from functools import reduce\n",
    "print('The sum is = ',reduce((lambda x,y:x+y),l1))"
   ]
  },
  {
   "cell_type": "code",
   "execution_count": 2,
   "metadata": {},
   "outputs": [
    {
     "name": "stdout",
     "output_type": "stream",
     "text": [
      "[1, 2, 3, 4, 5, 6, 7, 8]\n"
     ]
    }
   ],
   "source": [
    "print([i for i in range(1,9)])\n"
   ]
  },
  {
   "cell_type": "code",
   "execution_count": 19,
   "metadata": {},
   "outputs": [
    {
     "name": "stdout",
     "output_type": "stream",
     "text": [
      "[[4, 8], [9, 27], [16, 64], [25, 125], [36, 216]]\n"
     ]
    }
   ],
   "source": [
    "print([list(map(lambda x:x(num),[lambda x:x**2 ,lambda x:x**3]))for num in(2,3,4,5,6)])\n"
   ]
  },
  {
   "cell_type": "code",
   "execution_count": 22,
   "metadata": {},
   "outputs": [
    {
     "name": "stdout",
     "output_type": "stream",
     "text": [
      "[[27, 27], [64, 64], [125, 125], [216, 216], [343, 343]]\n"
     ]
    }
   ],
   "source": [
    "print([list(map(lambda x : x (num),(lambda x:x**2 ,lambda x:x**3 )))for num in(3,4,5,6,7)])"
   ]
  },
  {
   "cell_type": "code",
   "execution_count": 2,
   "metadata": {},
   "outputs": [],
   "source": [
    "from tkinter import *\n",
    "root= Tk()\n",
    "root.geometry(\"500x300+700+250\")\n",
    "root.title(\"MY FIRST WINDOW\")\n",
    "\n",
    "root.mainloop()"
   ]
  },
  {
   "cell_type": "code",
   "execution_count": null,
   "metadata": {},
   "outputs": [],
   "source": []
  }
 ],
 "metadata": {
  "kernelspec": {
   "display_name": "Python 3.10.7 64-bit",
   "language": "python",
   "name": "python3"
  },
  "language_info": {
   "codemirror_mode": {
    "name": "ipython",
    "version": 3
   },
   "file_extension": ".py",
   "mimetype": "text/x-python",
   "name": "python",
   "nbconvert_exporter": "python",
   "pygments_lexer": "ipython3",
   "version": "3.10.7"
  },
  "orig_nbformat": 4,
  "vscode": {
   "interpreter": {
    "hash": "2c6599e157872e0c80a1169ca1e185cdf85fff8ba1e0db7a7b864ffd8a8fc2c3"
   }
  }
 },
 "nbformat": 4,
 "nbformat_minor": 2
}
