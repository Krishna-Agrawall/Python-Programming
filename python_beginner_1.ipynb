{
 "cells": [
  {
   "cell_type": "code",
   "execution_count": null,
   "id": "95924840-28a7-412b-8509-0bcd3dd59f8c",
   "metadata": {},
   "outputs": [
    {
     "name": "stdout",
     "output_type": "stream",
     "text": [
      "In if\n",
      "a is positive\n",
      "In Main Body\n"
     ]
    }
   ],
   "source": [
    "#  if else \n",
    "\n",
    "a=3.5\n",
    "\n",
    "\n",
    "if a>=0:\n",
    "    print(\"In if\")\n",
    "    if a==0:\n",
    "       print(\"a is zero\")\n",
    "    else:\n",
    "         print(\"a is positive\")\n",
    "        \n",
    "     \n",
    "    \n",
    "else:\n",
    "    print(\"In Else\")\n",
    "    if a<0:\n",
    "         print(\"a is not greater than 0\")\n",
    "         \n",
    "  \n",
    "    else:\n",
    "         print(\"a is negative\")\n",
    "   \n",
    "    \n",
    "print(\"In Main Body\")\n"
   ]
  },
  {
   "cell_type": "code",
   "execution_count": 14,
   "id": "af6e08ab-1d65-4dea-9b07-dffcd0efee11",
   "metadata": {},
   "outputs": [
    {
     "name": "stdout",
     "output_type": "stream",
     "text": [
      "krishna anilkumar agrawal\n",
      "['monday', 'tuesday', 'wednesday', 'thrusday']\n"
     ]
    }
   ],
   "source": [
    "# Multiline statements\n",
    "\n",
    "name = \"krishna \\\n",
    "anilkumar agrawal\"\n",
    "print(name)\n",
    "\n",
    "\n",
    "days=[\"monday\",\"tuesday\",\"wednesday\"\n",
    "      ,\"thrusday\"]\n",
    "print(days)"
   ]
  },
  {
   "cell_type": "code",
   "execution_count": 19,
   "id": "44fae523-f967-4b2b-9a5a-3f8fafdcb02b",
   "metadata": {},
   "outputs": [
    {
     "name": "stdout",
     "output_type": "stream",
     "text": [
      "4\n"
     ]
    }
   ],
   "source": [
    "# python numbers\n",
    "\n",
    "a=4;b=34\n",
    "del a\n",
    "print(a)\n"
   ]
  },
  {
   "cell_type": "code",
   "execution_count": 28,
   "id": "391c3d4c-17f5-4e3d-b20f-0203d1592c96",
   "metadata": {},
   "outputs": [
    {
     "name": "stdout",
     "output_type": "stream",
     "text": [
      "hello world\n",
      "h\n",
      "llo\n",
      "hello worldhello world\n",
      "hello world i am krishna\n"
     ]
    }
   ],
   "source": [
    "# python strings\n",
    "\n",
    "str=\"hello world\"\n",
    "print(str) # Prints complete string\n",
    "print(str[0])# Prints first character of the string\n",
    "print(str[2:5])# Prints characters starting from 3rd to 5th\n",
    "print(str*2)# Prints string two times\n",
    "print(str + \" i am krishna\") # Prints concatenated string"
   ]
  },
  {
   "cell_type": "code",
   "execution_count": 34,
   "id": "7547c64a-7edb-40c1-af08-ef74b7bdb720",
   "metadata": {},
   "outputs": [
    {
     "name": "stdout",
     "output_type": "stream",
     "text": [
      "[12, 45.2, 'krishna', -34]\n",
      "12\n",
      "[45.2, 'krishna']\n",
      "[56, 34, 56, 34]\n",
      "[56, 34]\n"
     ]
    }
   ],
   "source": [
    "# python lists\n",
    "\n",
    "list=[12,45.2,\"krishna\",-34]\n",
    "tinylist=[56,34]\n",
    "print(list)\n",
    "print(list[0])\n",
    "print(list[1:3])\n",
    "print(tinylist * 2)\n",
    "print(tinylist)"
   ]
  },
  {
   "cell_type": "code",
   "execution_count": 2,
   "id": "053c5e4f-9d65-4889-b718-8c98a2073e82",
   "metadata": {},
   "outputs": [
    {
     "name": "stdout",
     "output_type": "stream",
     "text": [
      "('k', 'r', 'i', 's', 'h', 'n', 'a')\n",
      "<class 'tuple'>\n"
     ]
    }
   ],
   "source": [
    "#  python tuple\n",
    "\n",
    "a= tuple(\"krishna\")\n",
    "print(a)\n",
    "print(type(a))\n"
   ]
  },
  {
   "cell_type": "code",
   "execution_count": 15,
   "id": "929c64b1-0da2-430a-a674-30203f5087e3",
   "metadata": {},
   "outputs": [
    {
     "name": "stdout",
     "output_type": "stream",
     "text": [
      "{1, 2, 3, 4, 5, 6, 7}\n",
      "<class 'set'>\n",
      "{'i', 'a', 'k', 'n', 'h', 'r', 's'}\n"
     ]
    }
   ],
   "source": [
    " # python sets\n",
    "    \n",
    "a= {1,2,3,4,5,5,5,6,7,7,7}\n",
    "print(a)\n",
    "print(type(a))\n",
    "\n",
    "a=set(\"krisshnna\")\n",
    "print(a)\n"
   ]
  },
  {
   "cell_type": "code",
   "execution_count": 23,
   "id": "b448fbf4-0b39-4025-a78f-6e10ad782f3b",
   "metadata": {},
   "outputs": [
    {
     "name": "stdout",
     "output_type": "stream",
     "text": [
      "<class 'NoneType'>\n",
      "None\n"
     ]
    }
   ],
   "source": [
    "# None\n",
    "\n",
    "a = None\n",
    "print(type(a))\n",
    "print(a)\n"
   ]
  },
  {
   "cell_type": "code",
   "execution_count": 25,
   "id": "38ca6ae7-0650-45e6-8f28-6b152c5eb712",
   "metadata": {},
   "outputs": [
    {
     "name": "stdout",
     "output_type": "stream",
     "text": [
      "True\n",
      "False\n"
     ]
    }
   ],
   "source": [
    "# isinstance  is a object and it checks two things object and datatype\n",
    "\n",
    "a=5\n",
    "print(isinstance(a,int))\n",
    "\n",
    "a=5.5\n",
    "print(isinstance(a,int))"
   ]
  },
  {
   "cell_type": "code",
   "execution_count": 26,
   "id": "ceb0b2bc-5006-4d8d-a1e1-a8597f8f6b2a",
   "metadata": {},
   "outputs": [
    {
     "name": "stdout",
     "output_type": "stream",
     "text": [
      "<class 'str'>\n",
      " krishna\n"
     ]
    }
   ],
   "source": [
    "# local variable and whitespace character  . white space is also a character\n",
    "\n",
    "a=\" krishna\"\n",
    "print(type(a))\n",
    "print(a)"
   ]
  },
  {
   "cell_type": "code",
   "execution_count": 31,
   "id": "ede1f573-9275-4b85-b690-a59ac15e2d76",
   "metadata": {},
   "outputs": [
    {
     "name": "stdout",
     "output_type": "stream",
     "text": [
      "a is great\n",
      "Not same\n"
     ]
    }
   ],
   "source": [
    "a=20\n",
    "b=2\n",
    "if a>b:\n",
    "    print(\"a is great\")\n",
    "else:\n",
    "    print(\"b is great\")\n",
    "    \n",
    "if a==b:\n",
    "    print(\"Both are equal\")\n",
    "else:\n",
    "    print(\"Not same\")"
   ]
  },
  {
   "cell_type": "code",
   "execution_count": 34,
   "id": "790bcaff-4000-4535-9921-7c7a42541c2b",
   "metadata": {},
   "outputs": [
    {
     "name": "stdout",
     "output_type": "stream",
     "text": [
      "The value of c is  20\n",
      "The value of c is  10\n"
     ]
    }
   ],
   "source": [
    "a=20;b=10;c=0\n",
    "c+=a\n",
    "print(\"The value of c is \",c)\n",
    "\n",
    "c-=b\n",
    "print(\"The value of c is \",c)\n"
   ]
  },
  {
   "cell_type": "code",
   "execution_count": 39,
   "id": "5591e961-2e0a-4486-b27e-9cd54b420f12",
   "metadata": {},
   "outputs": [
    {
     "name": "stdout",
     "output_type": "stream",
     "text": [
      "<class 'dict'>\n",
      "{'name': 'krishna', 'age': 17}\n"
     ]
    }
   ],
   "source": [
    "# dictionary\n",
    "a={'name':'krishna','age':17}\n",
    "print(type(a))\n",
    "print(a)"
   ]
  },
  {
   "cell_type": "code",
   "execution_count": 48,
   "id": "d41cfeee-e47d-4e76-82cb-1dcf4ea36451",
   "metadata": {},
   "outputs": [
    {
     "name": "stdout",
     "output_type": "stream",
     "text": [
      "<class 'bool'>\n",
      "True\n",
      "56\n",
      "5\n",
      "23\n",
      "[12, 13, 23, 34, 56]\n"
     ]
    }
   ],
   "source": [
    "# bool\n",
    "\n",
    "a=16>7\n",
    "print(type(a))\n",
    "print(a)\n",
    "\n",
    "# now we check bool with tuple\n",
    "a=(12,13,15,34,56)\n",
    "print(a[4])\n",
    "print(len(a))\n",
    "\n",
    "#a[2]=23\n",
    "#print(a[2])\n",
    "print(a)\n"
   ]
  },
  {
   "cell_type": "code",
   "execution_count": 54,
   "id": "c68d62d6-75cf-4733-be53-c8f26ef8dd14",
   "metadata": {},
   "outputs": [
    {
     "name": "stdout",
     "output_type": "stream",
     "text": [
      "i\n",
      "krishna\n",
      "KRISHNA\n",
      "7\n"
     ]
    }
   ],
   "source": [
    "n=(\"krishna\")\n",
    "print(n[2])\n",
    "print(n.lower())\n",
    "print(n.upper())\n",
    "print(len(n))"
   ]
  },
  {
   "cell_type": "code",
   "execution_count": 58,
   "id": "95541478-e62e-4367-ad24-4a3f29a7b843",
   "metadata": {},
   "outputs": [
    {
     "name": "stdout",
     "output_type": "stream",
     "text": [
      "krishna\n"
     ]
    }
   ],
   "source": [
    "'''if you take variable 'and' it will give error because its a reserved keyword, \n",
    "   but if you want to choose and variale just type \"and_\" '''\n",
    "\n",
    "and_='krishna'\n",
    "print(and_)"
   ]
  },
  {
   "cell_type": "code",
   "execution_count": 66,
   "id": "9b1643c0-972b-4bd4-8688-1339995fd7d7",
   "metadata": {},
   "outputs": [
    {
     "name": "stdout",
     "output_type": "stream",
     "text": [
      "True\n",
      "True\n"
     ]
    },
    {
     "data": {
      "text/plain": [
       "2300"
      ]
     },
     "execution_count": 66,
     "metadata": {},
     "output_type": "execute_result"
    }
   ],
   "source": [
    "# ternary operator means 1 line if-else\n",
    "\n",
    "a=2300\n",
    "b=2200\n",
    "c=a>b\n",
    "print(c)\n",
    "a if c else b\n",
    "\n",
    "\n",
    "#or second method\n",
    "\n",
    "a=2300\n",
    "b=2200\n",
    "c=a>b\n",
    "print(c)\n",
    "a if a>b else b\n"
   ]
  },
  {
   "cell_type": "code",
   "execution_count": 72,
   "id": "46ebeeba-59c1-4acd-af19-dc3430e29e83",
   "metadata": {},
   "outputs": [
    {
     "data": {
      "text/plain": [
       "True"
      ]
     },
     "execution_count": 72,
     "metadata": {},
     "output_type": "execute_result"
    }
   ],
   "source": [
    "# and operation if the both conditions are true then it will give true  or false\n",
    "p=23>22\n",
    "q=3>2\n",
    "p and q"
   ]
  },
  {
   "cell_type": "code",
   "execution_count": 74,
   "id": "6dd155b6-7270-404a-bee7-4692fa1352c1",
   "metadata": {},
   "outputs": [
    {
     "name": "stdout",
     "output_type": "stream",
     "text": [
      "Enter the order value =  1001.1\n"
     ]
    },
    {
     "name": "stdout",
     "output_type": "stream",
     "text": [
      "<class 'float'>\n",
      "The value you have to paid is =  900.99\n"
     ]
    }
   ],
   "source": [
    "# discount\n",
    "\n",
    "order_value=float(input(\"Enter the order value = \"))\n",
    "print(type(order_value))\n",
    "p=order_value*0.9\n",
    "r=order_value\n",
    "q=order_value>1000\n",
    "\n",
    "print(\"The value you have to paid is = \",p if q else r)\n"
   ]
  },
  {
   "cell_type": "code",
   "execution_count": 82,
   "id": "514f5340-9bbc-409d-baf2-20412aeb6e1a",
   "metadata": {},
   "outputs": [
    {
     "name": "stdout",
     "output_type": "stream",
     "text": [
      "True\n",
      "True\n",
      "False\n",
      "True\n"
     ]
    }
   ],
   "source": [
    "# membership check\n",
    "\n",
    "li=[12,34,56,76,23,90]\n",
    "name=\"krishna\"\n",
    "\n",
    "x=56\n",
    "l='k'\n",
    "print(x in li)\n",
    "print(l in name)\n",
    "\n",
    "\n",
    "print(100 in [23,45,34,24])\n",
    "print('k' in \"krishna\")"
   ]
  },
  {
   "cell_type": "code",
   "execution_count": 84,
   "id": "c128f457-536b-40ea-b986-74def8599d92",
   "metadata": {},
   "outputs": [
    {
     "name": "stdout",
     "output_type": "stream",
     "text": [
      "False\n",
      "True\n"
     ]
    }
   ],
   "source": [
    "# object identify check\n",
    "\n",
    "p=23;q=23;r=24\n",
    "print(p is not q)\n",
    "print(p==q)\n"
   ]
  },
  {
   "cell_type": "code",
   "execution_count": 89,
   "id": "2865fb2a-e19b-4cfe-82fb-d13a03aad88d",
   "metadata": {},
   "outputs": [
    {
     "name": "stdout",
     "output_type": "stream",
     "text": [
      "1.548474581743633\n",
      "blue\n"
     ]
    }
   ],
   "source": [
    "# random and choice\n",
    "\n",
    "import random\n",
    "print(random.random()*10)\n",
    "print(random.choice(['red','yellow','orange','blue','violet']))"
   ]
  },
  {
   "cell_type": "code",
   "execution_count": 90,
   "id": "5cfffd31-eb28-482b-80df-b52356d63a05",
   "metadata": {},
   "outputs": [
    {
     "name": "stdout",
     "output_type": "stream",
     "text": [
      "2765587638640\n",
      "2765587638640\n"
     ]
    }
   ],
   "source": [
    "# id\n",
    "a=3\n",
    "print(id(a))\n",
    "print(id(3))"
   ]
  },
  {
   "cell_type": "code",
   "execution_count": 5,
   "id": "a06c13c5-16f1-4226-8e83-272bca086d01",
   "metadata": {},
   "outputs": [
    {
     "name": "stdout",
     "output_type": "stream",
     "text": [
      "Enter the value of a =  2\n",
      "Enter the value of b =  2\n"
     ]
    },
    {
     "name": "stdout",
     "output_type": "stream",
     "text": [
      "The sum of a and b is =  4\n"
     ]
    }
   ],
   "source": [
    "a=int(input('Enter the value of a = '))\n",
    "b=int(input('Enter the value of b = '))\n",
    "print(\"The sum of a and b is = \",a+b) "
   ]
  },
  {
   "cell_type": "code",
   "execution_count": 8,
   "id": "fec1836f-7ef4-432d-aec1-680be5f51b57",
   "metadata": {},
   "outputs": [
    {
     "name": "stdout",
     "output_type": "stream",
     "text": [
      "Enter the value of a =  3\n"
     ]
    },
    {
     "name": "stdout",
     "output_type": "stream",
     "text": [
      "odd number\n"
     ]
    }
   ],
   "source": [
    "a=int(input('Enter the value of a = '))\n",
    "\n",
    "\n",
    "if a%2==0:\n",
    "    print('even number')\n",
    "else:\n",
    "    print('odd number')"
   ]
  },
  {
   "cell_type": "code",
   "execution_count": 21,
   "id": "4fbda3d3-7034-4e9c-81b9-fee577821826",
   "metadata": {},
   "outputs": [
    {
     "name": "stdout",
     "output_type": "stream",
     "text": [
      "Enter the value of a =  3\n",
      "Enter the value of b =  5\n"
     ]
    },
    {
     "name": "stdout",
     "output_type": "stream",
     "text": [
      "The value of b is greater then a \n"
     ]
    }
   ],
   "source": [
    "a=int(input('Enter the value of a = '))\n",
    "b=int(input('Enter the value of b = '))\n",
    "\n",
    "if a>=b:\n",
    "    print('The value of a is greater then b ')\n",
    "    \n",
    "else:\n",
    "     print('The value of b is greater then a ')\n",
    "   "
   ]
  },
  {
   "cell_type": "code",
   "execution_count": 37,
   "id": "38208dd1-0bf5-463e-8532-87b531019c2f",
   "metadata": {},
   "outputs": [
    {
     "name": "stdout",
     "output_type": "stream",
     "text": [
      "[45, 34, 67, 32, 5]\n"
     ]
    }
   ],
   "source": [
    "# append work is to add another element or object in the last\n",
    "a=[45,34,67,32]\n",
    "a.append(5)\n",
    "print(a)"
   ]
  },
  {
   "cell_type": "code",
   "execution_count": 38,
   "id": "8070fbc6-d4bc-463c-bbda-5d0310eaff38",
   "metadata": {},
   "outputs": [
    {
     "name": "stdout",
     "output_type": "stream",
     "text": [
      "[54, 34, 29]\n"
     ]
    }
   ],
   "source": [
    "a=[23,45,67,89,21,56,[54,34,29],42]\n",
    "print(a[6][1]2)"
   ]
  },
  {
   "cell_type": "code",
   "execution_count": 42,
   "id": "a16e5a9d-bb66-4c2c-840d-01dbbc7a497f",
   "metadata": {},
   "outputs": [
    {
     "name": "stdout",
     "output_type": "stream",
     "text": [
      "[-9, 12, 23, 34, 45, 56, 67]\n"
     ]
    }
   ],
   "source": [
    "# sort\n",
    "a=[12,23,34,45,56,67,-9]\n",
    "a.sort()\n",
    "print(a)"
   ]
  }
 ],
 "metadata": {
  "kernelspec": {
   "display_name": "Python 3.10.7 64-bit",
   "language": "python",
   "name": "python3"
  },
  "language_info": {
   "codemirror_mode": {
    "name": "ipython",
    "version": 3
   },
   "file_extension": ".py",
   "mimetype": "text/x-python",
   "name": "python",
   "nbconvert_exporter": "python",
   "pygments_lexer": "ipython3",
   "version": "3.10.7"
  },
  "vscode": {
   "interpreter": {
    "hash": "2c6599e157872e0c80a1169ca1e185cdf85fff8ba1e0db7a7b864ffd8a8fc2c3"
   }
  }
 },
 "nbformat": 4,
 "nbformat_minor": 5
}
