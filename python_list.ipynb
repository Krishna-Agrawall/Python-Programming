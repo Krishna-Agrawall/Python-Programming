{
 "cells": [
  {
   "cell_type": "code",
   "execution_count": 8,
   "id": "7d9b511f-e2a2-4061-8055-a629e758e7fa",
   "metadata": {},
   "outputs": [
    {
     "name": "stdout",
     "output_type": "stream",
     "text": [
      "<class 'list'>\n",
      "22\n"
     ]
    }
   ],
   "source": [
    "a=[12,34,23,'krishna',56,[45,[34,43,22],78,90]]\n",
    "print(type(a))\n",
    "print(a[5][1][2])"
   ]
  },
  {
   "cell_type": "code",
   "execution_count": 9,
   "id": "b62cab39-3d48-4c15-9184-ecc78e375373",
   "metadata": {},
   "outputs": [
    {
     "name": "stdout",
     "output_type": "stream",
     "text": [
      "<class 'list'>\n",
      "[34, 22, [23, 56, 78, 90], 56]\n"
     ]
    }
   ],
   "source": [
    "ml=[23,56,78,90]\n",
    "sublist=[34,22,ml,56]\n",
    "print(type(sublist))\n",
    "print(sublist)\n"
   ]
  },
  {
   "cell_type": "code",
   "execution_count": 30,
   "id": "2ef77709-3540-46b2-b0e1-40e9162d99b5",
   "metadata": {},
   "outputs": [
    {
     "name": "stdout",
     "output_type": "stream",
     "text": [
      "[45, 23, 'krishna', 56, [1, 2, 3], 'agrawal']\n"
     ]
    }
   ],
   "source": [
    "list1=[45,23,'krishna',56,[1,2,3]]\n",
    "list2=[42,67,89,90]\n",
    "list1.append('agrawal')\n",
    "print(list1)"
   ]
  },
  {
   "cell_type": "code",
   "execution_count": 31,
   "id": "e66167f3-014c-44a0-afbc-3a6569e02fb9",
   "metadata": {},
   "outputs": [
    {
     "name": "stdout",
     "output_type": "stream",
     "text": [
      "[45, 23, 'krishna', 56, [1, 2, 3], 'agrawal', [42, 67, 89, 90]]\n"
     ]
    }
   ],
   "source": [
    "list1.append(list2)\n",
    "print(list1)"
   ]
  },
  {
   "cell_type": "code",
   "execution_count": 32,
   "id": "490a1cec-6904-4248-896e-375fe0403611",
   "metadata": {},
   "outputs": [
    {
     "name": "stdout",
     "output_type": "stream",
     "text": [
      "[45, 23, 'krishna', 56, [1, 2, 3], 'agrawal', [42, 67, 89, 90], 'k', 'r', 'i', 's', 'h', 'n', 'a']\n"
     ]
    }
   ],
   "source": [
    "#extend work is to separate\n",
    "list1.extend('krishna')\n",
    "print(list1)"
   ]
  },
  {
   "cell_type": "code",
   "execution_count": 33,
   "id": "b412e059-91c1-4682-b685-d204548b67ae",
   "metadata": {},
   "outputs": [
    {
     "name": "stdout",
     "output_type": "stream",
     "text": [
      "[45, 23, 'krishna', 56, [1, 2, 3], 'agrawal', [42, 67, 89, 90], 'k', 'r', 'i', 's', 'h', 'n', 'a', 42, 67, 89, 90]\n"
     ]
    }
   ],
   "source": [
    "list1.extend(list2)\n",
    "print(list1)"
   ]
  },
  {
   "cell_type": "code",
   "execution_count": 34,
   "id": "a9bc63fc-1499-4e31-80d9-dc8fabaf9f7b",
   "metadata": {},
   "outputs": [
    {
     "name": "stdout",
     "output_type": "stream",
     "text": [
      "[45, 23, 'krishna', 56, 'agrawal', [42, 67, 89, 90], 'k', 'r', 'i', 's', 'h', 'n', 'a', 42, 67, 89, 90]\n"
     ]
    }
   ],
   "source": [
    "list1.remove([1,2,3])\n",
    "print(list1)"
   ]
  },
  {
   "cell_type": "code",
   "execution_count": 35,
   "id": "cb20bd6d-492c-4454-ab42-4c26efc667b8",
   "metadata": {},
   "outputs": [
    {
     "name": "stdout",
     "output_type": "stream",
     "text": [
      "[-23, 2.2, 3, 8.9, 12, 45]\n"
     ]
    }
   ],
   "source": [
    "mylist=[12,45,8.9,3,2.2,-23]\n",
    "\n",
    "mylist.sort()\n",
    "print(mylist)"
   ]
  },
  {
   "cell_type": "code",
   "execution_count": 36,
   "id": "7a3c4dad-b4f7-44fc-8bf8-12a6c04ae378",
   "metadata": {},
   "outputs": [
    {
     "name": "stdout",
     "output_type": "stream",
     "text": [
      "[45, 12, 8.9, 3, 2.2, -23]\n"
     ]
    }
   ],
   "source": [
    "mylist.reverse()\n",
    "print(mylist)"
   ]
  },
  {
   "cell_type": "code",
   "execution_count": 43,
   "id": "fe245a4e-79df-4b6b-84c4-73d7a273a311",
   "metadata": {},
   "outputs": [
    {
     "name": "stdout",
     "output_type": "stream",
     "text": [
      "[56, 21, 90, 34, 7.2]\n"
     ]
    }
   ],
   "source": [
    "# pop \n",
    "personallist=[34,56,21,90,34,7.2]\n",
    "mynum=personallist.pop(0)\n",
    "print(personallist)\n"
   ]
  },
  {
   "cell_type": "code",
   "execution_count": 44,
   "id": "ce31a454-56a7-4dd1-b5b6-cd1e1c7c91ad",
   "metadata": {},
   "outputs": [
    {
     "data": {
      "text/plain": [
       "1"
      ]
     },
     "execution_count": 44,
     "metadata": {},
     "output_type": "execute_result"
    }
   ],
   "source": [
    "mylist=[34,1,24,90,14]\n",
    "min(mylist)"
   ]
  },
  {
   "cell_type": "code",
   "execution_count": 45,
   "id": "1614b720-7b1f-44e0-a638-c65a2838b95e",
   "metadata": {},
   "outputs": [
    {
     "data": {
      "text/plain": [
       "90"
      ]
     },
     "execution_count": 45,
     "metadata": {},
     "output_type": "execute_result"
    }
   ],
   "source": [
    "max(mylist)"
   ]
  },
  {
   "cell_type": "code",
   "execution_count": 48,
   "id": "8f4ac568-87c6-4dae-aa00-27e6accf1936",
   "metadata": {},
   "outputs": [
    {
     "name": "stdout",
     "output_type": "stream",
     "text": [
      "['k', 'r', 'i', 's', 'h', 'n', 'a', ' ', 'a', 'g', 'r', 'a', 'w', 'a', 'l']\n"
     ]
    }
   ],
   "source": [
    "name='krishna agrawal'\n",
    "l1=list(name)\n",
    "print(l1)"
   ]
  },
  {
   "cell_type": "code",
   "execution_count": 55,
   "id": "d64d9f85-91c9-4a8b-b36a-0c9bfbc83680",
   "metadata": {},
   "outputs": [
    {
     "name": "stdout",
     "output_type": "stream",
     "text": [
      "[12, 45, 77]\n"
     ]
    }
   ],
   "source": [
    "mylist=[12,23,45,56,77]\n",
    "\n",
    "#print(mylist[start:stop:step])\n",
    "\n",
    "#start means the number you want to start\n",
    "#stop means the number you want to stop on 2 then it will print 12,23,45\n",
    "#step means it take value  the number you choose, suppose i give 2 it will direct get 2 second element  \n",
    "\n",
    "print(mylist[0::2])\n"
   ]
  },
  {
   "cell_type": "code",
   "execution_count": 57,
   "id": "39df5865-93fd-49af-a5dc-55d0f88d2a59",
   "metadata": {},
   "outputs": [
    {
     "name": "stdout",
     "output_type": "stream",
     "text": [
      "[45, 56, 77]\n"
     ]
    }
   ],
   "source": [
    "print(mylist[2:5])"
   ]
  },
  {
   "cell_type": "code",
   "execution_count": 58,
   "id": "44aac6cb-b375-410e-91f3-e15eb0c97e11",
   "metadata": {},
   "outputs": [
    {
     "name": "stdout",
     "output_type": "stream",
     "text": [
      "[45, 77]\n"
     ]
    }
   ],
   "source": [
    "print(mylist[2: :2])"
   ]
  },
  {
   "cell_type": "code",
   "execution_count": 61,
   "id": "8f22d8af-bcb9-4558-8f72-2286bf689108",
   "metadata": {},
   "outputs": [
    {
     "name": "stdout",
     "output_type": "stream",
     "text": [
      "[77, 56, 45, 23, 12]\n"
     ]
    }
   ],
   "source": [
    "print(mylist[::-1])"
   ]
  },
  {
   "cell_type": "code",
   "execution_count": 62,
   "id": "cbee4df5-0858-4f9c-abfc-153e05644c9b",
   "metadata": {},
   "outputs": [
    {
     "name": "stdout",
     "output_type": "stream",
     "text": [
      "The 5th element i deleted is =  6\n"
     ]
    }
   ],
   "source": [
    "mylist=[2,23,34,45,56,6,8,7]\n",
    "print(\"The 5th element i deleted is = \",mylist.pop(5))"
   ]
  },
  {
   "cell_type": "code",
   "execution_count": 63,
   "id": "1544cfae-529e-4d28-83d5-25121d100581",
   "metadata": {},
   "outputs": [
    {
     "name": "stdout",
     "output_type": "stream",
     "text": [
      "(45, 32, 23, 56)\n"
     ]
    }
   ],
   "source": [
    "mytupple=(45,32,23,56)\n",
    "print(mytupple)"
   ]
  },
  {
   "cell_type": "code",
   "execution_count": 69,
   "id": "dbf67b0d-6ba4-4a99-a2a4-e317a81e6891",
   "metadata": {},
   "outputs": [
    {
     "ename": "TypeError",
     "evalue": "'tuple' object does not support item assignment",
     "output_type": "error",
     "traceback": [
      "\u001b[1;31m---------------------------------------------------------------------------\u001b[0m",
      "\u001b[1;31mTypeError\u001b[0m                                 Traceback (most recent call last)",
      "Input \u001b[1;32mIn [69]\u001b[0m, in \u001b[0;36m<cell line: 1>\u001b[1;34m()\u001b[0m\n\u001b[1;32m----> 1\u001b[0m mytupple[\u001b[38;5;241m2\u001b[39m]\u001b[38;5;241m=\u001b[39m\u001b[38;5;241m45\u001b[39m\n\u001b[0;32m      2\u001b[0m \u001b[38;5;28mprint\u001b[39m(mytupple)\n",
      "\u001b[1;31mTypeError\u001b[0m: 'tuple' object does not support item assignment"
     ]
    }
   ],
   "source": [
    "mytupple[2]=45\n",
    "print(mytupple)"
   ]
  },
  {
   "cell_type": "code",
   "execution_count": 71,
   "id": "735ac6c1-1569-4464-a51f-4e6a111f8b52",
   "metadata": {},
   "outputs": [
    {
     "name": "stdout",
     "output_type": "stream",
     "text": [
      "((45, 32, 23, 56), 34, 23, [2, 23, 34, 45, 56, 8, 7])\n"
     ]
    }
   ],
   "source": [
    "t1=(mytupple,34,23,mylist)\n",
    "print(t1)"
   ]
  },
  {
   "cell_type": "code",
   "execution_count": 72,
   "id": "e2828a6b-d1c1-463c-9c57-76f6f0da5ccf",
   "metadata": {},
   "outputs": [
    {
     "name": "stdout",
     "output_type": "stream",
     "text": [
      "((45, 32, 23, 56), 34, 23, [2, 56, 34, 45, 56, 8, 7])\n"
     ]
    }
   ],
   "source": [
    "t1[3][1]=56\n",
    "print(t1)"
   ]
  },
  {
   "cell_type": "code",
   "execution_count": 73,
   "id": "c3aad322-121c-442a-b25a-682ba37bcc5b",
   "metadata": {},
   "outputs": [
    {
     "name": "stdout",
     "output_type": "stream",
     "text": [
      "<class 'dict'>\n",
      "{}\n"
     ]
    }
   ],
   "source": [
    "#dict = {}\n",
    "dict=dict()\n",
    "print(type(dict))\n",
    "print(dict)"
   ]
  },
  {
   "cell_type": "code",
   "execution_count": 82,
   "id": "b161248d-1602-4260-ae4c-eee5bb534105",
   "metadata": {},
   "outputs": [
    {
     "name": "stdout",
     "output_type": "stream",
     "text": [
      "1\n",
      "{'rd': 'red'}\n"
     ]
    }
   ],
   "source": [
    "dict['rd']='red'\n",
    "print(len(dict))\n",
    "print(dict)"
   ]
  },
  {
   "cell_type": "code",
   "execution_count": 84,
   "id": "96919d1e-1f06-4b26-a269-4e19888ec9dc",
   "metadata": {},
   "outputs": [
    {
     "name": "stdout",
     "output_type": "stream",
     "text": [
      "red\n",
      "blue\n",
      "yellow\n"
     ]
    }
   ],
   "source": [
    "dict['bl']='blue'\n",
    "dict['yl']='yellow'\n",
    "print(dict['rd'])\n",
    "print(dict['bl'])\n",
    "print(dict['yl'])"
   ]
  },
  {
   "cell_type": "code",
   "execution_count": 98,
   "id": "7c3d0e23-b302-4058-8733-271b7a00d584",
   "metadata": {},
   "outputs": [
    {
     "name": "stdout",
     "output_type": "stream",
     "text": [
      "rd\n",
      "red\n",
      "bl\n",
      "blue\n",
      "yl\n",
      "yellow\n"
     ]
    }
   ],
   "source": [
    "for x in dict:\n",
    "    print(x)\n",
    "    print(dict[x])"
   ]
  },
  {
   "cell_type": "code",
   "execution_count": 97,
   "id": "2743e70e-a146-4d2e-b5e0-67544015d8c3",
   "metadata": {},
   "outputs": [
    {
     "name": "stdout",
     "output_type": "stream",
     "text": [
      "dict_keys(['rd', 'bl', 'yl'])\n",
      "<class 'dict_keys'>\n"
     ]
    }
   ],
   "source": [
    "print(dict.keys())\n",
    "print(type(dict.keys()))"
   ]
  },
  {
   "cell_type": "code",
   "execution_count": 100,
   "id": "270037ca-996d-409b-a1c1-02b71155b443",
   "metadata": {},
   "outputs": [
    {
     "name": "stdout",
     "output_type": "stream",
     "text": [
      "dict_values(['red', 'blue', 'yellow'])\n",
      "<class 'dict_values'>\n"
     ]
    }
   ],
   "source": [
    "print(dict.values())\n",
    "print(type(dict.values()))"
   ]
  },
  {
   "cell_type": "code",
   "execution_count": 114,
   "id": "0654877e-3fa0-428c-84c0-63a1f271d787",
   "metadata": {},
   "outputs": [
    {
     "name": "stdout",
     "output_type": "stream",
     "text": [
      "The name is :  Krishna Agrawal \n",
      "The age is :  17 \n",
      "Date of birth is :  08-06-2005\n"
     ]
    }
   ],
   "source": [
    "dict={'name':'Krishna Agrawal','age':'17','D-O-B':'08-06-2005'}\n",
    "print(\"The name is : \",dict['name'] ,'\\nThe age is : ',dict['age'],\"\\nDate of birth is : \",dict['D-O-B'])"
   ]
  },
  {
   "cell_type": "code",
   "execution_count": 118,
   "id": "7349385a-09e9-40be-a173-70a13df2501b",
   "metadata": {},
   "outputs": [
    {
     "name": "stdout",
     "output_type": "stream",
     "text": [
      "The name is :  Anil Agrawal \n",
      "The age is :  43 \n",
      "The Date of birth is :  28-08-1979\n"
     ]
    }
   ],
   "source": [
    "dict2={'name':'Anil Agrawal','age':'43','D-O-B':'28-08-1979'}\n",
    "print(\"The name is : \",dict2['name'],\"\\nThe age is : \",dict2['age'],\"\\nThe Date of birth is : \",dict2['D-O-B'])\n"
   ]
  },
  {
   "cell_type": "code",
   "execution_count": 122,
   "id": "64243f35-52c6-4cf5-82b2-51e09b4d948a",
   "metadata": {},
   "outputs": [
    {
     "name": "stdout",
     "output_type": "stream",
     "text": [
      "({'name': 'Krishna Agrawal', 'age': '17', 'D-O-B': '08-06-2005'}, {'name': 'Anil Agrawal', 'age': '43', 'D-O-B': '28-08-1979'})\n",
      "<class 'tuple'>\n"
     ]
    }
   ],
   "source": [
    "mydict=(dict,dict2)\n",
    "print(mydict)\n",
    "print(type(mydict))\n"
   ]
  },
  {
   "cell_type": "code",
   "execution_count": 127,
   "id": "bd433c4f-f6a3-4085-a41c-7e2673e47b32",
   "metadata": {},
   "outputs": [
    {
     "name": "stdout",
     "output_type": "stream",
     "text": [
      "Krishna Agrawal 43\n",
      "Anil Agrawal 43\n"
     ]
    }
   ],
   "source": [
    "\n",
    "print(mydict[0]['name'],mydict[1]['age'])\n",
    "print(mydict[1]['name'],mydict[1]['age'])"
   ]
  },
  {
   "cell_type": "code",
   "execution_count": 130,
   "id": "c39dc3d5-988b-4601-bf6d-84b0f299a567",
   "metadata": {},
   "outputs": [
    {
     "name": "stdout",
     "output_type": "stream",
     "text": [
      "<class 'str'>\n",
      "({'name': 'Krishna Agrawal', 'age': '17', 'D-O-B': '08-06-2005'}, {'name': 'Anil Agrawal', 'age': '43', 'D-O-B': '28-08-1979'})\n"
     ]
    }
   ],
   "source": [
    "mydictstr=str(mydict)\n",
    "print(type(mydictstr))\n",
    "print(mydictstr)"
   ]
  },
  {
   "cell_type": "code",
   "execution_count": 132,
   "id": "afbd26c5-aebf-43e6-b31e-761daa6b51a2",
   "metadata": {},
   "outputs": [
    {
     "name": "stdout",
     "output_type": "stream",
     "text": [
      "{'name': 'Krishna Agrawal', 'age': '17', 'D-O-B': '08-06-2005', 'country': 'india'}\n"
     ]
    }
   ],
   "source": [
    "dict['country']='india'\n",
    "print(dict)"
   ]
  },
  {
   "cell_type": "code",
   "execution_count": 149,
   "id": "c4bf5c69-0a90-4daf-9bd4-6ae7d542e0e1",
   "metadata": {},
   "outputs": [
    {
     "name": "stdout",
     "output_type": "stream",
     "text": [
      "{'name': 'Krishna Agrawal', 'age': '17', 'D-O-B': '08-06-2005', 'country': 'india', 'like': 'sports'}\n",
      "{'like': 'sports'}\n"
     ]
    }
   ],
   "source": [
    "dict3={'like':'sports'}\n",
    "dict.update(dict3)\n",
    "print(dict)\n",
    "print(dict3)"
   ]
  },
  {
   "cell_type": "code",
   "execution_count": 151,
   "id": "009728f4-178a-46d5-a9df-0b330afed185",
   "metadata": {},
   "outputs": [
    {
     "name": "stdout",
     "output_type": "stream",
     "text": [
      "{'like': 'sports', 'type': 'indoor'}\n"
     ]
    }
   ],
   "source": [
    "dict3['type']='indoor'\n",
    "print(dict3)"
   ]
  },
  {
   "cell_type": "code",
   "execution_count": 152,
   "id": "d8a8824c-bc47-49b1-8e0a-cb3d23a7d027",
   "metadata": {},
   "outputs": [
    {
     "name": "stdout",
     "output_type": "stream",
     "text": [
      "{'like': 'sports'}\n"
     ]
    }
   ],
   "source": [
    "del(dict3['type'])\n",
    "print(dict3)"
   ]
  },
  {
   "cell_type": "code",
   "execution_count": 156,
   "id": "4badd549-3cf2-4822-871f-742f65eae88e",
   "metadata": {},
   "outputs": [
    {
     "name": "stdout",
     "output_type": "stream",
     "text": [
      "['k', 'r', 'i', 's', 'h', 'n', 'a']\n",
      "['k', 'i', 's', 'h', 'n', 'a']\n"
     ]
    }
   ],
   "source": [
    "name=list('krishna')\n",
    "print(name)\n",
    "del(name[1])\n",
    "print(name)"
   ]
  },
  {
   "cell_type": "code",
   "execution_count": 157,
   "id": "e6439599-dd94-435a-bc82-4f6733ca77fe",
   "metadata": {},
   "outputs": [
    {
     "name": "stdout",
     "output_type": "stream",
     "text": [
      "3.6895038689889055\n"
     ]
    }
   ],
   "source": [
    "import math\n",
    "num = math.asinh(20)\n",
    "print(num)"
   ]
  },
  {
   "cell_type": "code",
   "execution_count": 158,
   "id": "d23e3cf4-2db7-4628-88a2-4e45ce80ed6a",
   "metadata": {},
   "outputs": [
    {
     "data": {
      "text/plain": [
       "120"
      ]
     },
     "execution_count": 158,
     "metadata": {},
     "output_type": "execute_result"
    }
   ],
   "source": [
    "math.factorial(5)"
   ]
  },
  {
   "cell_type": "code",
   "execution_count": 160,
   "id": "12436366-fb86-494b-8483-4adb26e25bc7",
   "metadata": {},
   "outputs": [
    {
     "data": {
      "text/plain": [
       "125.0"
      ]
     },
     "execution_count": 160,
     "metadata": {},
     "output_type": "execute_result"
    }
   ],
   "source": [
    "math.fsum([12,23,34,56])"
   ]
  },
  {
   "cell_type": "code",
   "execution_count": 161,
   "id": "9b4651e6-d42f-4be6-aa8e-09e5b2a09fed",
   "metadata": {},
   "outputs": [
    {
     "data": {
      "text/plain": [
       "5"
      ]
     },
     "execution_count": 161,
     "metadata": {},
     "output_type": "execute_result"
    }
   ],
   "source": [
    "math.ceil(4.23)"
   ]
  },
  {
   "cell_type": "code",
   "execution_count": 163,
   "id": "4901dee2-ac54-46c2-b868-230e7ddfed9e",
   "metadata": {},
   "outputs": [
    {
     "data": {
      "text/plain": [
       "45"
      ]
     },
     "execution_count": 163,
     "metadata": {},
     "output_type": "execute_result"
    }
   ],
   "source": [
    "math.floor(45.23)"
   ]
  },
  {
   "cell_type": "code",
   "execution_count": 175,
   "id": "c40b1c80-93ee-4fe6-b2d4-d639de28aefa",
   "metadata": {},
   "outputs": [
    {
     "name": "stdout",
     "output_type": "stream",
     "text": [
      "0.3960057700857115\n"
     ]
    }
   ],
   "source": [
    "import random\n",
    "n=random.random()\n",
    "print(n)\n",
    "\n",
    "       \n",
    "       \n",
    "    \n",
    " \n",
    "      \n",
    "       \n",
    "       \n",
    "       "
   ]
  },
  {
   "cell_type": "code",
   "execution_count": 177,
   "id": "639f044d-35bf-4e11-afdd-3ef87429f3b1",
   "metadata": {},
   "outputs": [
    {
     "name": "stdout",
     "output_type": "stream",
     "text": [
      "12\n"
     ]
    }
   ],
   "source": [
    "number=random.randint(1,200)\n",
    "print(number)"
   ]
  },
  {
   "cell_type": "code",
   "execution_count": 182,
   "id": "d5c13183-287d-410f-a227-6b64047a6965",
   "metadata": {},
   "outputs": [
    {
     "name": "stdout",
     "output_type": "stream",
     "text": [
      "Enter Any Number Between 1 to 100 :  34\n"
     ]
    },
    {
     "name": "stdout",
     "output_type": "stream",
     "text": [
      "54\n",
      "You Lose The Game\n"
     ]
    }
   ],
   "source": [
    "number=int(input('Enter Any Number Between 1 to 100 : '))\n",
    "Comp=random.randint(1,100)\n",
    "print(Comp)\n",
    "if number == Comp:\n",
    "    print('Congratulations You Won The Game')\n",
    "else:\n",
    "    print('You Lose The Game')"
   ]
  },
  {
   "cell_type": "code",
   "execution_count": 192,
   "id": "21b74850-6e20-46f8-9e7a-6614c37b7f28",
   "metadata": {},
   "outputs": [
    {
     "name": "stdout",
     "output_type": "stream",
     "text": [
      "ram\n"
     ]
    }
   ],
   "source": [
    "name=['krishna','shloka','ram','shiva']\n",
    "choice=random.choice(name)\n",
    "print(choice)\n",
    "#choice=random.choice(['GOD'])\n",
    "#print(choice[1])"
   ]
  },
  {
   "cell_type": "code",
   "execution_count": null,
   "id": "ea2a0e6e-eb58-42ec-bb46-991a7cdb9066",
   "metadata": {},
   "outputs": [],
   "source": []
  },
  {
   "cell_type": "code",
   "execution_count": null,
   "id": "ae825448-8f7e-498d-9839-84f9bea64754",
   "metadata": {},
   "outputs": [],
   "source": []
  }
 ],
 "metadata": {
  "kernelspec": {
   "display_name": "Python 3.10.7 64-bit",
   "language": "python",
   "name": "python3"
  },
  "language_info": {
   "codemirror_mode": {
    "name": "ipython",
    "version": 3
   },
   "file_extension": ".py",
   "mimetype": "text/x-python",
   "name": "python",
   "nbconvert_exporter": "python",
   "pygments_lexer": "ipython3",
   "version": "3.10.7"
  },
  "vscode": {
   "interpreter": {
    "hash": "2c6599e157872e0c80a1169ca1e185cdf85fff8ba1e0db7a7b864ffd8a8fc2c3"
   }
  }
 },
 "nbformat": 4,
 "nbformat_minor": 5
}
