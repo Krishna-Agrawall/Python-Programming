{
 "cells": [
  {
   "cell_type": "code",
   "execution_count": 1,
   "metadata": {},
   "outputs": [
    {
     "name": "stdout",
     "output_type": "stream",
     "text": [
      "The value of a + b is =  5\n"
     ]
    }
   ],
   "source": [
    "#1\n",
    "a=2\n",
    "b=3\n",
    "print('The value of a + b is = ',a+b)"
   ]
  },
  {
   "cell_type": "code",
   "execution_count": 4,
   "metadata": {},
   "outputs": [
    {
     "name": "stdout",
     "output_type": "stream",
     "text": [
      "Hello World\n",
      "Hello World\n",
      "Hello World\n",
      "Hello World\n",
      "\n"
     ]
    }
   ],
   "source": [
    "#2\n",
    "print(4*'Hello World\\n')"
   ]
  },
  {
   "cell_type": "code",
   "execution_count": 5,
   "metadata": {},
   "outputs": [
    {
     "name": "stdout",
     "output_type": "stream",
     "text": [
      "Hello World\n"
     ]
    }
   ],
   "source": [
    "#3\n",
    "# This is helllo world program\n",
    "print('Hello World')"
   ]
  },
  {
   "cell_type": "code",
   "execution_count": 6,
   "metadata": {},
   "outputs": [
    {
     "name": "stdout",
     "output_type": "stream",
     "text": [
      "2 5\n"
     ]
    }
   ],
   "source": [
    "x=4 \n",
    "y=x+1\n",
    "x=2\n",
    "print(x,y)"
   ]
  },
  {
   "cell_type": "code",
   "execution_count": 7,
   "metadata": {},
   "outputs": [
    {
     "name": "stdout",
     "output_type": "stream",
     "text": [
      "6 4\n"
     ]
    }
   ],
   "source": [
    "x,y=2,6 \n",
    "x,y=y,x+2 \n",
    "print(x,y)"
   ]
  },
  {
   "cell_type": "code",
   "execution_count": 13,
   "metadata": {},
   "outputs": [
    {
     "data": {
      "text/plain": [
       "16"
      ]
     },
     "execution_count": 13,
     "metadata": {},
     "output_type": "execute_result"
    }
   ],
   "source": [
    "def square(x):\n",
    "    return x*x\n",
    "square(4)"
   ]
  },
  {
   "cell_type": "code",
   "execution_count": 18,
   "metadata": {},
   "outputs": [
    {
     "data": {
      "text/plain": [
       "13"
      ]
     },
     "execution_count": 18,
     "metadata": {},
     "output_type": "execute_result"
    }
   ],
   "source": [
    "f=square\n",
    "f(3)\n",
    "\n",
    "def fxy(f,x,y):\n",
    "    return f(x) + f(y)\n",
    "\n",
    "fxy(f,2,3)"
   ]
  },
  {
   "cell_type": "code",
   "execution_count": 21,
   "metadata": {},
   "outputs": [
    {
     "name": "stdout",
     "output_type": "stream",
     "text": [
      "4\n",
      "0\n",
      "0\n"
     ]
    }
   ],
   "source": [
    "x=0\n",
    "y=0\n",
    "\n",
    "def incr(x):\n",
    "    y=x+1\n",
    "    return y\n",
    "\n",
    "storing_the_value_of_y=incr(3)\n",
    "print(storing_the_value_of_y)\n",
    "\n",
    "print(x)\n",
    "print(y)\n"
   ]
  },
  {
   "cell_type": "code",
   "execution_count": 22,
   "metadata": {},
   "outputs": [
    {
     "data": {
      "text/plain": [
       "50.24"
      ]
     },
     "execution_count": 22,
     "metadata": {},
     "output_type": "execute_result"
    }
   ],
   "source": [
    "pi=3.14\n",
    "def area(r):\n",
    "    return pi*r*r\n",
    "area(4)"
   ]
  },
  {
   "cell_type": "code",
   "execution_count": 27,
   "metadata": {},
   "outputs": [
    {
     "name": "stdout",
     "output_type": "stream",
     "text": [
      "0\n",
      "1\n"
     ]
    }
   ],
   "source": [
    "a=0\n",
    "b=0\n",
    "\n",
    "def num():\n",
    "    global a,b\n",
    "    b=a+1\n",
    "   \n",
    "    return b\n",
    "num()\n",
    "print(a)\n",
    "print(b)\n",
    "\n"
   ]
  },
  {
   "cell_type": "code",
   "execution_count": 3,
   "metadata": {},
   "outputs": [
    {
     "data": {
      "text/plain": [
       "4"
      ]
     },
     "execution_count": 3,
     "metadata": {},
     "output_type": "execute_result"
    }
   ],
   "source": [
    "def multi(x,y):\n",
    "    return x*y\n",
    "multi(2,2)"
   ]
  },
  {
   "cell_type": "code",
   "execution_count": 6,
   "metadata": {},
   "outputs": [
    {
     "name": "stdout",
     "output_type": "stream",
     "text": [
      "1\n",
      "1\n"
     ]
    }
   ],
   "source": [
    "x=1\n",
    "def f():\n",
    "    return x\n",
    "print(x)\n",
    "print(f())"
   ]
  },
  {
   "cell_type": "code",
   "execution_count": 5,
   "metadata": {},
   "outputs": [
    {
     "name": "stdout",
     "output_type": "stream",
     "text": [
      "1\n",
      "2\n",
      "1\n"
     ]
    }
   ],
   "source": [
    "x=1\n",
    "def f():\n",
    "    x=2\n",
    "    return x\n",
    "print(x)\n",
    "print(f())\n",
    "print(x)"
   ]
  },
  {
   "cell_type": "code",
   "execution_count": 9,
   "metadata": {},
   "outputs": [
    {
     "name": "stdout",
     "output_type": "stream",
     "text": [
      "1\n"
     ]
    },
    {
     "ename": "UnboundLocalError",
     "evalue": "local variable 'x' referenced before assignment",
     "output_type": "error",
     "traceback": [
      "\u001b[1;31m---------------------------------------------------------------------------\u001b[0m",
      "\u001b[1;31mUnboundLocalError\u001b[0m                         Traceback (most recent call last)",
      "Cell \u001b[1;32mIn [9], line 8\u001b[0m\n\u001b[0;32m      5\u001b[0m     \u001b[39mreturn\u001b[39;00m x\u001b[39m+\u001b[39my\n\u001b[0;32m      7\u001b[0m \u001b[39mprint\u001b[39m(x)\n\u001b[1;32m----> 8\u001b[0m \u001b[39mprint\u001b[39m(f())\n\u001b[0;32m      9\u001b[0m \u001b[39mprint\u001b[39m(x)\n",
      "Cell \u001b[1;32mIn [9], line 3\u001b[0m, in \u001b[0;36mf\u001b[1;34m()\u001b[0m\n\u001b[0;32m      2\u001b[0m \u001b[39mdef\u001b[39;00m \u001b[39mf\u001b[39m():\n\u001b[1;32m----> 3\u001b[0m     y\u001b[39m=\u001b[39mx\n\u001b[0;32m      4\u001b[0m     x\u001b[39m=\u001b[39m\u001b[39m2\u001b[39m\n\u001b[0;32m      5\u001b[0m     \u001b[39mreturn\u001b[39;00m x\u001b[39m+\u001b[39my\n",
      "\u001b[1;31mUnboundLocalError\u001b[0m: local variable 'x' referenced before assignment"
     ]
    }
   ],
   "source": [
    "x=1\n",
    "def f():\n",
    "    y=x\n",
    "    x=2\n",
    "    return x+y\n",
    "\n",
    "print(x)\n",
    "print(f())\n",
    "print(x)"
   ]
  },
  {
   "cell_type": "code",
   "execution_count": 10,
   "metadata": {},
   "outputs": [
    {
     "name": "stdout",
     "output_type": "stream",
     "text": [
      "2 9\n"
     ]
    }
   ],
   "source": [
    "x=2\n",
    "def f(a):\n",
    "    x= a*a\n",
    "    return x\n",
    "y=f(3)\n",
    "print(x,y)"
   ]
  },
  {
   "cell_type": "code",
   "execution_count": 20,
   "metadata": {},
   "outputs": [
    {
     "name": "stdout",
     "output_type": "stream",
     "text": [
      "3\n"
     ]
    }
   ],
   "source": [
    "def count_digits(a,*args):\n",
    "    return a,*args\n",
    "b=count_digits(5,4,5)\n",
    "print(len(b))\n",
    "\n",
    " "
   ]
  },
  {
   "cell_type": "code",
   "execution_count": 34,
   "metadata": {},
   "outputs": [
    {
     "name": "stdout",
     "output_type": "stream",
     "text": [
      "None\n"
     ]
    }
   ],
   "source": [
    "def istrcmp(a,b):\n",
    "    if a==is\n",
    "    \n",
    "c=istrcmp('Krishna','Agrawal')\n",
    "print(c)\n"
   ]
  },
  {
   "cell_type": "code",
   "execution_count": 36,
   "metadata": {},
   "outputs": [
    {
     "name": "stdout",
     "output_type": "stream",
     "text": [
      "The result is :  70\n"
     ]
    }
   ],
   "source": [
    "a=int(input('Enter the number a = '))\n",
    "b=int(input('Enter the number b = '))\n",
    "\n",
    "if a*b <1000:\n",
    "    print('The result is : ',a*b)\n",
    "\n",
    "elif a*b>1000:\n",
    "    print('The result is : ',a+b)"
   ]
  },
  {
   "cell_type": "code",
   "execution_count": 4,
   "metadata": {},
   "outputs": [
    {
     "name": "stdout",
     "output_type": "stream",
     "text": [
      "Printing current and previous number sum in a range(10)\n",
      "Current Number 0 Previous Number 0 Sum:  0\n",
      "Current Number 1 Previous Number 0 Sum:  1\n",
      "Current Number 2 Previous Number 1 Sum:  3\n",
      "Current Number 3 Previous Number 2 Sum:  5\n",
      "Current Number 4 Previous Number 3 Sum:  7\n",
      "Current Number 5 Previous Number 4 Sum:  9\n",
      "Current Number 6 Previous Number 5 Sum:  11\n",
      "Current Number 7 Previous Number 6 Sum:  13\n",
      "Current Number 8 Previous Number 7 Sum:  15\n",
      "Current Number 9 Previous Number 8 Sum:  17\n"
     ]
    }
   ],
   "source": [
    "print('Printing current and previous number sum in a range(10)')\n",
    "print('Current Number 0 Previous Number 0 Sum:  0')\n",
    "for i in range(1,10):\n",
    "    print(f'Current Number {i} Previous Number {i-1} Sum: ',i+(i-1))\n"
   ]
  },
  {
   "cell_type": "code",
   "execution_count": 33,
   "metadata": {},
   "outputs": [
    {
     "name": "stdout",
     "output_type": "stream",
     "text": [
      "Original String is krishna\n",
      "Printing only even index chars\n",
      "k\n",
      "i\n",
      "h\n",
      "a\n"
     ]
    }
   ],
   "source": [
    "ask_user_enter_the_string_name=str(input(' Enter Your Name: '))\n",
    "print(f'Original String is {ask_user_enter_the_string_name}')\n",
    "print('Printing only even index chars')\n",
    "x=list(ask_user_enter_the_string_name)\n",
    "for i in x[::2]:\n",
    "    print(i)\n",
    "   "
   ]
  },
  {
   "cell_type": "code",
   "execution_count": 38,
   "metadata": {},
   "outputs": [
    {
     "name": "stdout",
     "output_type": "stream",
     "text": [
      "Removing characters from a string\n",
      "Original string: krishna\n",
      "hna\n",
      "Original string: pynative\n",
      "native\n"
     ]
    }
   ],
   "source": [
    "def remove_chars(word, n):\n",
    "    print('Original string:', word)\n",
    "    x = word[n:]\n",
    "    return x\n",
    "\n",
    "print(\"Removing characters from a string\")\n",
    "print(remove_chars(\"krishna\", 4))\n",
    "print(remove_chars(\"pynative\", 2))"
   ]
  },
  {
   "cell_type": "code",
   "execution_count": 41,
   "metadata": {},
   "outputs": [
    {
     "name": "stdout",
     "output_type": "stream",
     "text": [
      "Given List:  [10, 20, 30, 40, 10]\n",
      "result is True\n",
      "Given List:  [75, 65, 35, 75, 30]\n",
      "result is False\n"
     ]
    }
   ],
   "source": [
    "numbers_x = [10, 20, 30, 40, 10]\n",
    "\n",
    "print('Given List: ',numbers_x)\n",
    "if numbers_x[0]==numbers_x[4]:\n",
    "    print('result is True')\n",
    "else:\n",
    "    print('result is False')\n",
    "\n",
    "\n",
    "numbers_y = [75, 65, 35, 75, 30]\n",
    "\n",
    "print('Given List: ',numbers_y)\n",
    "if numbers_y[0]==numbers_y[4]:\n",
    "    print('result is True')\n",
    "else:\n",
    "    print('result is False')\n",
    "\n",
    "\n",
    "\n",
    "\n"
   ]
  },
  {
   "cell_type": "code",
   "execution_count": 59,
   "metadata": {},
   "outputs": [
    {
     "name": "stdout",
     "output_type": "stream",
     "text": [
      "Given list is  [10, 20, 33, 46, 55]\n",
      "10\n",
      "20\n",
      "55\n"
     ]
    }
   ],
   "source": [
    "number=[10,20,33,46,55]\n",
    "print('Given list is ',number)\n",
    "\n",
    "for num in number:\n",
    "    if num%5==0:\n",
    "        print(num)\n",
    "\n"
   ]
  },
  {
   "cell_type": "code",
   "execution_count": 63,
   "metadata": {},
   "outputs": [
    {
     "name": "stdout",
     "output_type": "stream",
     "text": [
      "Emma appeared 2 times\n"
     ]
    }
   ],
   "source": [
    "str_x = \"Emma is good developer. Emma is a writer\"\n",
    "print('Emma appeared',str_x.count('Emma'),'times')\n"
   ]
  },
  {
   "cell_type": "code",
   "execution_count": 71,
   "metadata": {},
   "outputs": [
    {
     "name": "stdout",
     "output_type": "stream",
     "text": [
      "1\n",
      "22\n",
      "333\n",
      "4444\n",
      "55555\n"
     ]
    }
   ],
   "source": [
    "for i in (1*'1',2*'2',3*'3',4*'4',5*'5'):\n",
    "    print(i)\n"
   ]
  },
  {
   "cell_type": "code",
   "execution_count": 74,
   "metadata": {},
   "outputs": [
    {
     "name": "stdout",
     "output_type": "stream",
     "text": [
      "Number is palindrome\n"
     ]
    }
   ],
   "source": [
    "num1=int(input('Enter first number'))\n",
    "num2=int(input('Enter second number'))\n",
    "num3=int(input('Enter third number'))\n",
    "\n",
    "if num1==num3:\n",
    "    print('Number is palindrome')\n",
    "else:\n",
    "    print('Number is not palindrome')"
   ]
  },
  {
   "cell_type": "code",
   "execution_count": 139,
   "metadata": {},
   "outputs": [
    {
     "name": "stdout",
     "output_type": "stream",
     "text": [
      "25,35,40,60,90,"
     ]
    }
   ],
   "source": [
    "'''\n",
    "Create a new list from a two list using the following condition\n",
    "\n",
    "Given a two list of numbers, write a program to create a new list such that the new list should \n",
    "contain odd numbers from the first list and even numbers from the second list.\n",
    "'''\n",
    "\n",
    "list1 = [10, 20, 25, 30, 35]\n",
    "list2 = [40, 45, 60, 75, 90]\n",
    "\n",
    "for i in list1:\n",
    "    if i%2!=0 :\n",
    "       print(i,end=',')\n",
    "for y in list2:\n",
    "    if y%2==0:\n",
    "        print(y,end=',')\n",
    "\n",
    "    \n",
    "     "
   ]
  },
  {
   "cell_type": "markdown",
   "metadata": {},
   "source": [
    "# Input and Output Exercise"
   ]
  },
  {
   "cell_type": "code",
   "execution_count": 3,
   "metadata": {},
   "outputs": [
    {
     "name": "stdout",
     "output_type": "stream",
     "text": [
      "The number of number a and b is =  24\n"
     ]
    }
   ],
   "source": [
    "#Write a program to accept two numbers from the user and calculate multiplication\n",
    "\n",
    "a=int(input('Enter The Number A = '))\n",
    "b=int(input('Enter The Number B = '))\n",
    "\n",
    "\n",
    "\n",
    "print('The number of number a and b is = ',a*b)"
   ]
  },
  {
   "cell_type": "code",
   "execution_count": 13,
   "metadata": {},
   "outputs": [
    {
     "name": "stdout",
     "output_type": "stream",
     "text": [
      "Name**Is**James\n"
     ]
    }
   ],
   "source": [
    "'''\n",
    "Exercise 2: Display three string “Name”, “Is”, “James” as “Name**Is**James”\n",
    "Use the print() function to format the given words in the mentioned format. Display the ** separator\n",
    "between each string.\n",
    "\n",
    "Expected Output:\n",
    "\n",
    "For example: print('Name', 'Is', 'James') will display Name**Is**James\n",
    "'''\n",
    "\n",
    "print('Name','Is','James',sep='**')"
   ]
  },
  {
   "cell_type": "code",
   "execution_count": 18,
   "metadata": {},
   "outputs": [
    {
     "name": "stdout",
     "output_type": "stream",
     "text": [
      "The octal number of decimal number 8 is  0o10\n"
     ]
    }
   ],
   "source": [
    "'''\n",
    "Exercise 3: Convert Decimal number to octal using print() output formatting\n",
    "Given:\n",
    "\n",
    "num = 8\n",
    "Expected Output:\n",
    "\n",
    "The octal number of decimal number 8 is 10\n",
    "'''\n",
    "\n",
    "num=8\n",
    "\n",
    "\n",
    "print('The octal number of decimal number 8 is ',oct(8))\n",
    "\n"
   ]
  },
  {
   "cell_type": "code",
   "execution_count": 22,
   "metadata": {},
   "outputs": [
    {
     "name": "stdout",
     "output_type": "stream",
     "text": [
      "458.54\n"
     ]
    }
   ],
   "source": [
    "'''\n",
    "Exercise 4: Display float number with 2 decimal places using print()\n",
    "Given:\n",
    "\n",
    "num = 458.541315\n",
    "Expected Output:\n",
    "\n",
    "458.54\n",
    "'''\n",
    "num = 458.541315\n",
    "print('%.2f' % num)\n",
    "\n"
   ]
  },
  {
   "cell_type": "code",
   "execution_count": 24,
   "metadata": {},
   "outputs": [
    {
     "name": "stdout",
     "output_type": "stream",
     "text": [
      "[2.2, 3.2, 4.2, 5.2, 6.2, 7.2]\n"
     ]
    }
   ],
   "source": [
    "'''\n",
    "Exercise 5: Accept a list of 5 float numbers as an input from the user\n",
    "\n",
    "Expected Output:\n",
    "\n",
    "[78.6, 78.6, 85.3, 1.2, 3.5]\n",
    "'''\n",
    "\n",
    "list=[]\n",
    "\n",
    "for i in range(6):\n",
    "    \n",
    "    num=float(input())\n",
    "    list.append(num)\n",
    "\n",
    "print(list)"
   ]
  },
  {
   "cell_type": "code",
   "execution_count": 47,
   "metadata": {},
   "outputs": [
    {
     "ename": "TypeError",
     "evalue": "argument should be integer or None, not 'str'",
     "output_type": "error",
     "traceback": [
      "\u001b[1;31m---------------------------------------------------------------------------\u001b[0m",
      "\u001b[1;31mTypeError\u001b[0m                                 Traceback (most recent call last)",
      "Cell \u001b[1;32mIn [47], line 41\u001b[0m\n\u001b[0;32m     39\u001b[0m \u001b[39mwith\u001b[39;00m \u001b[39mopen\u001b[39m(\u001b[39m'\u001b[39m\u001b[39mnew_test.txt\u001b[39m\u001b[39m'\u001b[39m,\u001b[39m'\u001b[39m\u001b[39mw\u001b[39m\u001b[39m'\u001b[39m) \u001b[39mas\u001b[39;00m f:\n\u001b[0;32m     40\u001b[0m      \u001b[39mwith\u001b[39;00m \u001b[39mopen\u001b[39m(\u001b[39m'\u001b[39m\u001b[39mtest.txt\u001b[39m\u001b[39m'\u001b[39m,\u001b[39m'\u001b[39m\u001b[39mr\u001b[39m\u001b[39m'\u001b[39m):\n\u001b[1;32m---> 41\u001b[0m         \u001b[39mprint\u001b[39m(f\u001b[39m.\u001b[39mread(\u001b[39m'\u001b[39m\u001b[39mtest.txt\u001b[39m\u001b[39m'\u001b[39m))\n\u001b[0;32m     42\u001b[0m      f\u001b[39m.\u001b[39mclose()\n",
      "\u001b[1;31mTypeError\u001b[0m: argument should be integer or None, not 'str'"
     ]
    }
   ],
   "source": [
    "'''\n",
    "Exercise 6: Write all content of a given file into a new file by skipping line number 5\n",
    "\n",
    "See:\n",
    "\n",
    "Create a test.txt file and add the below content to it.\n",
    "\n",
    "Given test.txt file:\n",
    "\n",
    "line1\n",
    "line2\n",
    "line3\n",
    "line4\n",
    "line5\n",
    "line6\n",
    "line7\n",
    "Expected Output: new_file.txt\n",
    "\n",
    "line1\n",
    "line2\n",
    "line3\n",
    "line4\n",
    "line6\n",
    "line7\n",
    "\n",
    "'''\n",
    "\n",
    "with open('test.txt','w')as f:\n",
    "    f.write('line1\\n')\n",
    "    f.write('line2\\n')\n",
    "    f.write('line3\\n')\n",
    "    f.write('line4\\n')\n",
    "    f.write('line5\\n')\n",
    "    f.write('line6\\n')\n",
    "    f.write('line7\\n')\n",
    "   \n",
    "    f.close()\n",
    "\n",
    "with open('new_test.txt','w') as f:\n",
    "     with open('test.txt','r'):\n",
    "        print(f.read('test.txt'))\n",
    "     f.close()\n",
    "\n",
    "\n"
   ]
  },
  {
   "cell_type": "code",
   "execution_count": null,
   "metadata": {},
   "outputs": [],
   "source": []
  }
 ],
 "metadata": {
  "kernelspec": {
   "display_name": "Python 3.10.7 64-bit",
   "language": "python",
   "name": "python3"
  },
  "language_info": {
   "codemirror_mode": {
    "name": "ipython",
    "version": 3
   },
   "file_extension": ".py",
   "mimetype": "text/x-python",
   "name": "python",
   "nbconvert_exporter": "python",
   "pygments_lexer": "ipython3",
   "version": "3.10.7"
  },
  "orig_nbformat": 4,
  "vscode": {
   "interpreter": {
    "hash": "2c6599e157872e0c80a1169ca1e185cdf85fff8ba1e0db7a7b864ffd8a8fc2c3"
   }
  }
 },
 "nbformat": 4,
 "nbformat_minor": 2
}
