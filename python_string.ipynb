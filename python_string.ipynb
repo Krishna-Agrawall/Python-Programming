{
 "cells": [
  {
   "cell_type": "code",
   "execution_count": 12,
   "id": "70e41d88-f962-461b-8144-5235cf7a8c15",
   "metadata": {},
   "outputs": [
    {
     "name": "stdout",
     "output_type": "stream",
     "text": [
      "I\n",
      "krishna\n"
     ]
    }
   ],
   "source": [
    "string='KRISHNA'\n",
    "print(string[2])\n",
    "print(string.lower())"
   ]
  },
  {
   "cell_type": "code",
   "execution_count": 6,
   "id": "0229ee41-4d5f-4adb-b516-046bbd5519ad",
   "metadata": {},
   "outputs": [
    {
     "name": "stdout",
     "output_type": "stream",
     "text": [
      "Krishna agrawal\n",
      "Shiv mehta\n"
     ]
    }
   ],
   "source": [
    "name='krishna agrawal'\n",
    "name1='shiv mehta'\n",
    "\n",
    "print(name.capitalize())\n",
    "print(name1.capitalize())\n",
    "\n"
   ]
  },
  {
   "cell_type": "code",
   "execution_count": 17,
   "id": "05972dab-3e57-4a6b-b732-80c580a122b8",
   "metadata": {},
   "outputs": [
    {
     "name": "stdout",
     "output_type": "stream",
     "text": [
      "---------------------------------------*----------------------------------------\n",
      "*****************************************************************krishna agrawal\n",
      "krishna agrawal+++++++++++++++++++++++++++++++++++++++++++++++++++++++++++++++++++++++++++++++++++++\n"
     ]
    }
   ],
   "source": [
    "name='krishna agrawal'\n",
    "#print('*'.center(80,'-'))\n",
    "#print(name.center(80,' '))\n",
    "print(name.center(80,'-'))\n",
    "\n",
    "print(name.rjust(80,'*'))\n",
    "print(name.ljust(100,'+'))\n"
   ]
  },
  {
   "cell_type": "code",
   "execution_count": 27,
   "id": "2482ac79-e26f-4460-94cc-16c1969b1908",
   "metadata": {},
   "outputs": [
    {
     "name": "stdout",
     "output_type": "stream",
     "text": [
      "The length of string is =  14\n",
      "0\n"
     ]
    }
   ],
   "source": [
    "str='This is string'\n",
    "print('The length of string is = ',len(str))\n",
    "print(str.count('e'))"
   ]
  },
  {
   "cell_type": "code",
   "execution_count": 35,
   "id": "37602bec-ab94-4d90-8b82-680161020688",
   "metadata": {},
   "outputs": [
    {
     "name": "stdout",
     "output_type": "stream",
     "text": [
      "This\tis an\n",
      "example of\tstring\n",
      "Hope!you\tlearnwell\n",
      "b'This\\tis an\\nexample of\\tstring\\nHope!you\\tlearnwell'\n"
     ]
    }
   ],
   "source": [
    "str='This\\tis an\\nexample of\\tstring\\nHope!you\\tlearnwell'\n",
    "\n",
    "#str=r'This\\tis an\\nexample of\\tstring\\nHope!you\\tlearnwell'\n",
    "\n",
    "# r means raw \n",
    "\n",
    "\n",
    "print(str)\n",
    "\n",
    "str=(str.encode('UTF-8','strict'))\n",
    "#encode meaning is that it gives the binary format\n",
    "print(str)\n",
    "\n"
   ]
  },
  {
   "cell_type": "code",
   "execution_count": 47,
   "id": "b96f6894-c91c-4d17-aa0b-7ff6f8545dbf",
   "metadata": {},
   "outputs": [
    {
     "name": "stdout",
     "output_type": "stream",
     "text": [
      "Encoded string b'VGhpcyBpcyBhbiBleGFtcGxlIG9mIHNhZmUgZmlsZSB0cmFuc2ZlcnJpZw=='\n"
     ]
    }
   ],
   "source": [
    "import base64\n",
    "str='This is an example of safe file transferrig'\n",
    "str=str.encode('UTF-8','strict')\n",
    "Str=base64.b64encode(str)\n",
    "print('Encoded string',Str)"
   ]
  },
  {
   "cell_type": "code",
   "execution_count": 48,
   "id": "0002800b-4c34-4d4b-93e0-6023fce43782",
   "metadata": {},
   "outputs": [
    {
     "name": "stdout",
     "output_type": "stream",
     "text": [
      "Decoded String b'This is an example of safe file transferrig'\n"
     ]
    }
   ],
   "source": [
    "Str=Str.decode('utf-8',errors='strict')\n",
    "Str=base64.b64decode(Str)\n",
    "print('Decoded String',Str)\n",
    "               "
   ]
  },
  {
   "cell_type": "code",
   "execution_count": 54,
   "id": "29337ec6-9705-475c-a7ff-30df95795926",
   "metadata": {},
   "outputs": [
    {
     "name": "stdout",
     "output_type": "stream",
     "text": [
      "True\n"
     ]
    }
   ],
   "source": [
    "str='Hello Everyone My Name Is Krishna Agrawal!'\n",
    "k='!'\n",
    "print(str.endswith(k))"
   ]
  },
  {
   "cell_type": "code",
   "execution_count": 59,
   "id": "3c8c7bde-db23-40a2-96f7-a291fe58be23",
   "metadata": {},
   "outputs": [
    {
     "name": "stdout",
     "output_type": "stream",
     "text": [
      "Hi my name is Krishna Agrawal\n"
     ]
    }
   ],
   "source": [
    "# This method known as concatination\n",
    "Str='Agrawal'\n",
    "print('Hi my name is Krishna '+Str)\n",
    "\n"
   ]
  },
  {
   "cell_type": "code",
   "execution_count": 63,
   "id": "241ea33e-865f-42b4-a51f-d45d3d58c61e",
   "metadata": {},
   "outputs": [
    {
     "name": "stdout",
     "output_type": "stream",
     "text": [
      "OK! your name is RohitSharma\n",
      "Agrawal....\n"
     ]
    }
   ],
   "source": [
    "name='Sharma'\n",
    "print('OK! your name is Rohit'+name)\n",
    "print(Str+'....')"
   ]
  },
  {
   "cell_type": "code",
   "execution_count": 73,
   "id": "6c5ba16a-949c-48bb-a7e6-14ec44f43ce5",
   "metadata": {},
   "outputs": [
    {
     "name": "stdout",
     "output_type": "stream",
     "text": [
      "krishna krishna krishna krishna \n",
      "krishna agrawal\n"
     ]
    }
   ],
   "source": [
    "k='krishna '\n",
    "print(4*k)\n",
    "a='agrawal'\n",
    "print(k+a)"
   ]
  },
  {
   "cell_type": "code",
   "execution_count": 90,
   "id": "a95faa34-b01e-4a67-ab33-4422288376d5",
   "metadata": {},
   "outputs": [
    {
     "name": "stdout",
     "output_type": "stream",
     "text": [
      "        H       e       llo My  N       ame Is  Krishn  Agrawal\n"
     ]
    }
   ],
   "source": [
    "str='\\tH\\te\\tllo My\\tN\\tame Is\\tKrishn\\tAgrawal'\n",
    "\n",
    "print(str.expandtabs(8))"
   ]
  },
  {
   "cell_type": "code",
   "execution_count": 99,
   "id": "50640348-f583-48e5-ac60-37a6e66f04e2",
   "metadata": {},
   "outputs": [
    {
     "name": "stdout",
     "output_type": "stream",
     "text": [
      "5\n",
      "41\n"
     ]
    }
   ],
   "source": [
    "str='Welcome To The Python Programming Language'\n",
    "str1='is'\n",
    "print (str.find('m'))\n",
    "print (str.rfind('e')) #r means reverse"
   ]
  },
  {
   "cell_type": "code",
   "execution_count": 101,
   "id": "aec4ccdf-1cd3-409b-b7bb-7362430b84e6",
   "metadata": {},
   "outputs": [
    {
     "name": "stdout",
     "output_type": "stream",
     "text": [
      "True\n"
     ]
    }
   ],
   "source": [
    "str='We are doing python programming' # it gives false when you give white space , so don't give space \n",
    "str='Helloeveryone'\n",
    "print(str.isalnum())"
   ]
  },
  {
   "cell_type": "code",
   "execution_count": 103,
   "id": "af4ffbcb-605d-44ae-aea5-4c5ebc9d07c1",
   "metadata": {},
   "outputs": [
    {
     "name": "stdout",
     "output_type": "stream",
     "text": [
      "True\n"
     ]
    }
   ],
   "source": [
    "str='he'\n",
    "print(str.isalpha())"
   ]
  },
  {
   "cell_type": "code",
   "execution_count": 108,
   "id": "430e0f4f-cd9a-495b-a0f0-462a978138be",
   "metadata": {},
   "outputs": [
    {
     "name": "stdout",
     "output_type": "stream",
     "text": [
      "True\n"
     ]
    }
   ],
   "source": [
    "str=\"234\"\n",
    "str='3,2,3' # when you run this statement it also gives the false because the special characters are involved in this process\n",
    "print(str.isdigit())"
   ]
  },
  {
   "cell_type": "code",
   "execution_count": 112,
   "id": "edec3951-06f6-4176-b08c-801269e850a2",
   "metadata": {},
   "outputs": [
    {
     "name": "stdout",
     "output_type": "stream",
     "text": [
      "False\n",
      "KRISHNA\n"
     ]
    }
   ],
   "source": [
    "name='Krishna'\n",
    "print(name.isupper())\n",
    "print(name.upper())"
   ]
  },
  {
   "cell_type": "code",
   "execution_count": 114,
   "id": "d478aaf9-8551-4c9b-b410-8e5994d0a2be",
   "metadata": {},
   "outputs": [
    {
     "name": "stdout",
     "output_type": "stream",
     "text": [
      "False\n",
      "krishna\n",
      "False\n"
     ]
    }
   ],
   "source": [
    "name='KRISHNA'\n",
    "print(name.islower())\n",
    "print(name.lower())"
   ]
  },
  {
   "cell_type": "code",
   "execution_count": 133,
   "id": "e502c916-6568-450d-9ede-830d079f7fab",
   "metadata": {},
   "outputs": [
    {
     "name": "stdout",
     "output_type": "stream",
     "text": [
      "a-krishna-b-krishna-c-krishna-d\n",
      "a-b-c-d\n"
     ]
    }
   ],
   "source": [
    "name='-krishna-'\n",
    "l='-'\n",
    "s=['a','b','c','d']\n",
    "print(name.join(s))\n",
    "print(l.join(s))"
   ]
  },
  {
   "cell_type": "code",
   "execution_count": 135,
   "id": "c49c881d-3dad-4b73-8163-384793101764",
   "metadata": {},
   "outputs": [
    {
     "name": "stdout",
     "output_type": "stream",
     "text": [
      "krishna**************************************\n"
     ]
    }
   ],
   "source": [
    "name='krishna'\n",
    "print(name.ljust(45,'*'))"
   ]
  },
  {
   "cell_type": "code",
   "execution_count": 141,
   "id": "f1005495-0006-4b54-a36b-1f674c0e66ed",
   "metadata": {},
   "outputs": [
    {
     "name": "stdout",
     "output_type": "stream",
     "text": [
      "{115: 65, 105: 90}\n",
      "ThZA ZA AtrZng example ! WoW!!\n"
     ]
    }
   ],
   "source": [
    "# This was an old method for translating\n",
    "\n",
    "intab='si'\n",
    "outtab='AZ'\n",
    "\n",
    "str='This is string example ! WoW!!'\n",
    "transtab=(str.maketrans(intab,outtab))\n",
    "print(transtab)\n",
    "print(str.translate(str.maketrans(transtab)))"
   ]
  },
  {
   "cell_type": "code",
   "execution_count": 142,
   "id": "e2305aa1-dc50-4d6f-858d-b3398e5e0b05",
   "metadata": {},
   "outputs": [
    {
     "name": "stdout",
     "output_type": "stream",
     "text": [
      "x\n"
     ]
    }
   ],
   "source": [
    "print(max(str))"
   ]
  },
  {
   "cell_type": "code",
   "execution_count": 146,
   "id": "651ec9ee-850d-42f2-89df-d5c41a623043",
   "metadata": {},
   "outputs": [
    {
     "name": "stdout",
     "output_type": "stream",
     "text": [
      "Thia ia atring example ! WoW!!\n"
     ]
    }
   ],
   "source": [
    "print(str.replace('s','a'))"
   ]
  },
  {
   "cell_type": "code",
   "execution_count": 157,
   "id": "213bb29c-1ae6-456e-b88e-6bb25ec0bf9e",
   "metadata": {},
   "outputs": [
    {
     "name": "stdout",
     "output_type": "stream",
     "text": [
      "['This', 'was', 'an', 'example', 'of', 'string']\n",
      "T h i s   w a s   a n   e x a m p l e   o f   s t r i n g\n"
     ]
    }
   ],
   "source": [
    "str='This was an example of string'\n",
    "str1=str.split()\n",
    "print(str1)\n",
    "print(' '.join(str))"
   ]
  },
  {
   "cell_type": "code",
   "execution_count": 165,
   "id": "8e2d80ef-cc71-4929-aba5-7d097a81c07a",
   "metadata": {},
   "outputs": [
    {
     "name": "stdout",
     "output_type": "stream",
     "text": [
      "['This ', 'an example of string']\n"
     ]
    }
   ],
   "source": [
    "#str1=str.split(' ',1)\n",
    "str1=str.split('was ',1)\n",
    "print(str1)\n"
   ]
  },
  {
   "cell_type": "code",
   "execution_count": 166,
   "id": "1767d1aa-1981-4c5a-9dad-f636b17079a5",
   "metadata": {},
   "outputs": [
    {
     "name": "stdout",
     "output_type": "stream",
     "text": [
      "['this', 'was', 'an,example,of string']\n"
     ]
    }
   ],
   "source": [
    "str='this,was,an,example,of string'\n",
    "str1=str.split(',',2)\n",
    "print(str1)"
   ]
  },
  {
   "cell_type": "code",
   "execution_count": 168,
   "id": "615134ef-1b30-4956-b4fc-fe7eaee2d810",
   "metadata": {},
   "outputs": [
    {
     "name": "stdout",
     "output_type": "stream",
     "text": [
      "tHIS WAS AN EXAMPLE OF STrINg\n"
     ]
    }
   ],
   "source": [
    "# The swap case converts the capital letter into small and small into capital\n",
    "\n",
    "str='This was an example of stRinG'\n",
    "str1=str.swapcase()\n",
    "print(str1)"
   ]
  },
  {
   "cell_type": "code",
   "execution_count": 174,
   "id": "db0f274b-6301-4fbd-b74c-32e2a883abd5",
   "metadata": {},
   "outputs": [
    {
     "name": "stdout",
     "output_type": "stream",
     "text": [
      "Tetdyi od\n"
     ]
    }
   ],
   "source": [
    "#slicing rule\n",
    "\n",
    "str='The today is monday'\n",
    "#str1=str[1:11:2]\n",
    "str1=str[0:18:2]\n",
    "print(str1)\n"
   ]
  },
  {
   "cell_type": "code",
   "execution_count": 179,
   "id": "568d4964-849e-4ff8-883e-e597e7608c97",
   "metadata": {},
   "outputs": [
    {
     "name": "stdout",
     "output_type": "stream",
     "text": [
      "e:\\krishna agrawal\n"
     ]
    }
   ],
   "source": [
    "str='e:\\krishna agrawal'\n",
    "print(str)"
   ]
  },
  {
   "cell_type": "code",
   "execution_count": 188,
   "id": "12fb69a0-1108-4fc9-91ec-cf0e8b962d11",
   "metadata": {},
   "outputs": [
    {
     "name": "stdout",
     "output_type": "stream",
     "text": [
      "MY first name is : Krishna and my last name is : agrawal and my age is : 17\n",
      "My first name is : Krishna and my last name is : agrawal and my age is : 17\n"
     ]
    }
   ],
   "source": [
    "f_name='Krishna'\n",
    "l_name='agrawal'\n",
    "age=17\n",
    "print(\"MY first name is : %s and my last name is : %s and my age is : %d\" %(f_name,l_name,age)) #old method\n",
    "print(f'My first name is : {f_name} and my last name is : {l_name} and my age is : {age}') # new method\n",
    "\n",
    "# f means 'formatted string' and if you don't put f first,the program will not give the output that you want "
   ]
  },
  {
   "cell_type": "code",
   "execution_count": 192,
   "id": "996f83d3-5a93-43e8-ac53-3eb7dec73419",
   "metadata": {},
   "outputs": [
    {
     "name": "stdout",
     "output_type": "stream",
     "text": [
      "Hello Everone my name is : Krishna Agrawal\n",
      " My age is : 17\n"
     ]
    }
   ],
   "source": [
    "str1='Krishna '\n",
    "str2='Agrawal'\n",
    "age=17\n",
    "print(f'Hello Everone my name is : {str1+str2}\\n My age is : {age}')"
   ]
  },
  {
   "cell_type": "code",
   "execution_count": 204,
   "id": "1b9b30bf-1ac7-49f8-ab31-c3ecffba7099",
   "metadata": {},
   "outputs": [
    {
     "name": "stdout",
     "output_type": "stream",
     "text": [
      "Hello Everone my name is : Krishna Agrawal\n",
      " My age is : 17.3432\n",
      "Hello Everone my name is : Krishna Agrawal\n",
      " My age is : 17.34\n"
     ]
    }
   ],
   "source": [
    "str1='Krishna '\n",
    "str2='Agrawal'\n",
    "salary=17.3432\n",
    "print(f'Hello Everone my name is : {str1+str2}\\n My age is : {salary}')  \n",
    "print(f'Hello Everone my name is : {str1+str2}\\n My age is : {salary:.2f}')  #for decimal"
   ]
  },
  {
   "cell_type": "code",
   "execution_count": 203,
   "id": "f72bca53-4d57-4d81-8ae2-0a12cd4f74ec",
   "metadata": {},
   "outputs": [
    {
     "name": "stdout",
     "output_type": "stream",
     "text": [
      "My salary is :0xd7d\n",
      "My salary is :110101111101\n",
      "My salary is :6575\n"
     ]
    }
   ],
   "source": [
    "salary=3453\n",
    "print(f'My salary is :{salary:#0x}')  #for hexa\n",
    "print(f'My salary is :{salary:b}')  #for binary\n",
    "print(f'My salary is :{salary:o}')  #for octal"
   ]
  },
  {
   "cell_type": "code",
   "execution_count": 3,
   "id": "5a39a7ff-6722-4041-a6e9-582b6bea7959",
   "metadata": {},
   "outputs": [
    {
     "name": "stdout",
     "output_type": "stream",
     "text": [
      "range(0, 5)\n",
      "<class 'range'>\n"
     ]
    }
   ],
   "source": [
    "print(range(5))\n",
    "print(type(range(5)))\n"
   ]
  },
  {
   "cell_type": "code",
   "execution_count": 17,
   "id": "fe2777a6-5497-4e0e-85b3-f68ed856e1b3",
   "metadata": {},
   "outputs": [
    {
     "name": "stdout",
     "output_type": "stream",
     "text": [
      "(1, 3, 5, 7, 9, 11, 13, 15, 17, 19, 21, 23, 25, 27, 29, 31, 33, 35, 37, 39, 41, 43, 45, 47, 49, 51, 53, 55, 57, 59, 61, 63, 65, 67, 69, 71, 73, 75, 77, 79, 81, 83, 85, 87, 89, 91, 93, 95, 97, 99, 101, 103, 105, 107, 109, 111, 113, 115, 117, 119, 121, 123, 125, 127, 129, 131, 133, 135, 137, 139, 141, 143, 145, 147, 149)\n"
     ]
    }
   ],
   "source": [
    "r=tuple(range(1,150,2))\n",
    "\n",
    "print(r)"
   ]
  },
  {
   "cell_type": "code",
   "execution_count": 19,
   "id": "26f2a9e0-0faf-46e1-8eb9-434fccceba6e",
   "metadata": {},
   "outputs": [
    {
     "name": "stdout",
     "output_type": "stream",
     "text": [
      " Hello everyone I am Krishna Agrawal\n",
      "                    I am learning python programming\n",
      "        and with python i also learning html,css,javascript\n",
      "           Today date and day is 3-10-2022 , MONDAY\n",
      "    TIME:10:26 P.M. \n"
     ]
    }
   ],
   "source": [
    "str= ''' Hello everyone I am Krishna Agrawal\n",
    "                    I am learning python programming\n",
    "        and with python i also learning html,css,javascript\n",
    "           Today date and day is 3-10-2022 , MONDAY\n",
    "    TIME:10:26 P.M. '''\n",
    "print(str)\n",
    "           "
   ]
  },
  {
   "cell_type": "code",
   "execution_count": null,
   "id": "601e82f1-f95f-45b3-980b-5d7878082d56",
   "metadata": {},
   "outputs": [],
   "source": [
    "folder='D:\\\\c language'\n",
    "print(folder)"
   ]
  },
  {
   "cell_type": "code",
   "execution_count": 6,
   "id": "23688e34-c148-4bf8-bbdd-9593d5056275",
   "metadata": {},
   "outputs": [
    {
     "name": "stdout",
     "output_type": "stream",
     "text": [
      "x = 20\n",
      "y = 23\n"
     ]
    }
   ],
   "source": [
    "x=20;y=23\n",
    "print(f'{x = }\\n{y = }') "
   ]
  },
  {
   "cell_type": "markdown",
   "id": "97984ac8-e24a-4648-969b-60fd9b4d2d69",
   "metadata": {},
   "source": []
  },
  {
   "cell_type": "code",
   "execution_count": 2,
   "id": "df6f2526-d920-47b6-8c86-f01716fca9d4",
   "metadata": {},
   "outputs": [
    {
     "name": "stdout",
     "output_type": "stream",
     "text": [
      "Enter the value of x =  45\n",
      "Enter the value of y =  45\n"
     ]
    },
    {
     "name": "stdout",
     "output_type": "stream",
     "text": [
      "The value of x is =  45\n",
      "The value of y is =  45\n",
      "The total is =  90\n"
     ]
    }
   ],
   "source": [
    "a=int(input('Enter the value of x = ')) \n",
    "b=int(input('Enter the value of y = '))\n",
    "print('The value of x is = ',a)\n",
    "print('The value of y is = ',b)\n",
    "print('The total is = ',a+b)\n"
   ]
  },
  {
   "cell_type": "code",
   "execution_count": 11,
   "id": "1c24d401-36f9-43dd-80f9-781d831a0f5b",
   "metadata": {},
   "outputs": [
    {
     "name": "stdout",
     "output_type": "stream",
     "text": [
      "10011001\n"
     ]
    }
   ],
   "source": [
    "salary=153\n",
    "print(f'{salary:b}')"
   ]
  },
  {
   "cell_type": "code",
   "execution_count": 17,
   "id": "518b69d0-247f-4e05-9585-c042fe8dced2",
   "metadata": {},
   "outputs": [
    {
     "name": "stdout",
     "output_type": "stream",
     "text": [
      " 323,233,000,000,000.06\n"
     ]
    }
   ],
   "source": [
    "apple_market=32.3233 * 10e12\n",
    "print(f'{apple_market: ,}') #comma separate"
   ]
  },
  {
   "cell_type": "code",
   "execution_count": 21,
   "id": "bf68d4fa-d222-4092-be27-6bd32f416021",
   "metadata": {},
   "outputs": [
    {
     "name": "stdout",
     "output_type": "stream",
     "text": [
      "8323.671%\n"
     ]
    }
   ],
   "source": [
    "percentage=83.2367134151\n",
    "print(f'{percentage:.3%}') #percentage"
   ]
  },
  {
   "cell_type": "code",
   "execution_count": 1,
   "id": "cd557a05-7a57-478f-9699-c3fee6089d56",
   "metadata": {},
   "outputs": [
    {
     "name": "stdout",
     "output_type": "stream",
     "text": [
      "datetime:2022-10-06 07:10:19.594034\n",
      "\n",
      "datetime: 10/06/2022 07:10:19\n",
      "date: 10/06/2022\n",
      "time: 07:10:19.594034\n",
      "time: 07:10:19 AM\n",
      "time: 07:10\n"
     ]
    }
   ],
   "source": [
    "import datetime\n",
    "today = datetime.datetime.utcnow()\n",
    "print(f'datetime:{today}\\n')\n",
    "\n",
    "print(f'datetime:{today: %m/%d/%Y %H:%M:%S}')\n",
    "print(f'date: {today:%m/%d/%Y}')\n",
    "print(f'time: {today:%H:%M:%S.%f}')\n",
    "print(f'time: {today:%H:%M:%S %p}')\n",
    "print(f'time: {today:%H:%M}')\n"
   ]
  },
  {
   "cell_type": "code",
   "execution_count": 3,
   "id": "bb67f08e-2ba0-46b9-9b77-c6f28a245414",
   "metadata": {},
   "outputs": [
    {
     "name": "stdout",
     "output_type": "stream",
     "text": [
      "True\n",
      "False\n"
     ]
    }
   ],
   "source": [
    "str='This Is An Example Of String'\n",
    "str1='This is an example of string'\n",
    "print(str.istitle())\n",
    "print(str1.istitle())"
   ]
  },
  {
   "cell_type": "code",
   "execution_count": 6,
   "id": "4bc9cb78-893f-4275-a62c-de704c706114",
   "metadata": {},
   "outputs": [
    {
     "name": "stdout",
     "output_type": "stream",
     "text": [
      "* * * * * * * * * * * * Hello Everyone I Am Krishna Agrawal\n"
     ]
    }
   ],
   "source": [
    "str='* * * * * * * * * * * * Hello Everyone I Am Krishna Agrawal'\n",
    "print(str.lstrip())"
   ]
  },
  {
   "cell_type": "code",
   "execution_count": null,
   "id": "410c94fe-8404-478e-a7ab-b541240c8b26",
   "metadata": {},
   "outputs": [],
   "source": []
  }
 ],
 "metadata": {
  "kernelspec": {
   "display_name": "Python 3.10.7 64-bit",
   "language": "python",
   "name": "python3"
  },
  "language_info": {
   "codemirror_mode": {
    "name": "ipython",
    "version": 3
   },
   "file_extension": ".py",
   "mimetype": "text/x-python",
   "name": "python",
   "nbconvert_exporter": "python",
   "pygments_lexer": "ipython3",
   "version": "3.10.7"
  },
  "vscode": {
   "interpreter": {
    "hash": "2c6599e157872e0c80a1169ca1e185cdf85fff8ba1e0db7a7b864ffd8a8fc2c3"
   }
  }
 },
 "nbformat": 4,
 "nbformat_minor": 5
}
