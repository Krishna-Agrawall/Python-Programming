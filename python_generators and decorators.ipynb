{
 "cells": [
  {
   "cell_type": "code",
   "execution_count": 11,
   "metadata": {},
   "outputs": [
    {
     "name": "stdout",
     "output_type": "stream",
     "text": [
      "<class 'list'>\n",
      "1\n",
      "2\n"
     ]
    }
   ],
   "source": [
    "l=[1,2,3,4,5,6,7]\n",
    "i=iter(l)\n",
    "print(type(l))\n",
    "print(i.__next__())\n",
    "print(next(i))"
   ]
  },
  {
   "cell_type": "code",
   "execution_count": 13,
   "metadata": {},
   "outputs": [
    {
     "name": "stdout",
     "output_type": "stream",
     "text": [
      "4\n",
      "5\n"
     ]
    }
   ],
   "source": [
    "print(next(i))\n",
    "print(next(i))"
   ]
  },
  {
   "cell_type": "code",
   "execution_count": 14,
   "metadata": {},
   "outputs": [
    {
     "name": "stdout",
     "output_type": "stream",
     "text": [
      "6\n",
      "7\n"
     ]
    }
   ],
   "source": [
    "print(next(i))\n",
    "print(next(i))"
   ]
  },
  {
   "cell_type": "code",
   "execution_count": 15,
   "metadata": {},
   "outputs": [
    {
     "ename": "StopIteration",
     "evalue": "",
     "output_type": "error",
     "traceback": [
      "\u001b[1;31m---------------------------------------------------------------------------\u001b[0m",
      "\u001b[1;31mStopIteration\u001b[0m                             Traceback (most recent call last)",
      "Cell \u001b[1;32mIn [15], line 1\u001b[0m\n\u001b[1;32m----> 1\u001b[0m \u001b[39mprint\u001b[39m(\u001b[39mnext\u001b[39m(i))\n",
      "\u001b[1;31mStopIteration\u001b[0m: "
     ]
    }
   ],
   "source": [
    "print(next(i))"
   ]
  },
  {
   "cell_type": "code",
   "execution_count": 17,
   "metadata": {},
   "outputs": [
    {
     "name": "stdout",
     "output_type": "stream",
     "text": [
      "[1, 2, 3, 4, 5, 6, 7, 8, 9, 10]\n",
      "[1, 2, 3, 4, 78]\n"
     ]
    }
   ],
   "source": [
    "print([ i for i in range(1,11)])\n",
    "print([ i for i in [1,2,3,4,78]])"
   ]
  },
  {
   "cell_type": "code",
   "execution_count": null,
   "metadata": {},
   "outputs": [],
   "source": [
    "try:\n",
    "    a=int(input('Enter the value of a = '))\n",
    "    b=int(input('Enter the value of b = '))\n",
    "    print(type(a))\n",
    "    print(type(b))\n",
    "    print('Addition of two numbers is = ',a+b)\n",
    "except:\n",
    "    print('In Integers only')\n",
    "finally:\n",
    "    print('In')"
   ]
  },
  {
   "cell_type": "code",
   "execution_count": 24,
   "metadata": {},
   "outputs": [
    {
     "name": "stdout",
     "output_type": "stream",
     "text": [
      "78\n",
      "90\n",
      "45\n",
      "67\n"
     ]
    }
   ],
   "source": [
    "iter_test=iter([78,90,45,67])\n",
    "while True:\n",
    "    try:\n",
    "       j=next(iter_test)\n",
    "       print(j)\n",
    "    except StopIteration as e:\n",
    "        break\n",
    "\n",
    "    \n"
   ]
  },
  {
   "cell_type": "code",
   "execution_count": 29,
   "metadata": {},
   "outputs": [
    {
     "name": "stdout",
     "output_type": "stream",
     "text": [
      "75\n",
      "34\n",
      "90\n",
      "39\n"
     ]
    }
   ],
   "source": [
    "iter_test=iter([75,34,90,39])\n",
    "while True:\n",
    "    try:\n",
    "       j=next(iter_test)\n",
    "       print(j)\n",
    "    except StopIteration as e:\n",
    "        break\n",
    " \n",
    "   "
   ]
  },
  {
   "cell_type": "code",
   "execution_count": 36,
   "metadata": {},
   "outputs": [
    {
     "name": "stdout",
     "output_type": "stream",
     "text": [
      "45\n",
      "67\n",
      "89\n",
      "62\n"
     ]
    }
   ],
   "source": [
    "iter_test=iter([45,67,89,62])\n",
    "while True:                        # True means the loop will take value continue\n",
    "\n",
    "    try:\n",
    "        j=next(iter_test)\n",
    "        print(j)\n",
    "    except StopIteration as i:\n",
    "        break"
   ]
  },
  {
   "cell_type": "code",
   "execution_count": null,
   "metadata": {},
   "outputs": [],
   "source": [
    "help(True)"
   ]
  },
  {
   "cell_type": "code",
   "execution_count": 8,
   "metadata": {},
   "outputs": [
    {
     "name": "stdout",
     "output_type": "stream",
     "text": [
      "<class 'list_iterator'>\n",
      "56\n",
      "78\n",
      "34\n",
      "92\n",
      "42\n"
     ]
    },
    {
     "ename": "StopIteration",
     "evalue": "",
     "output_type": "error",
     "traceback": [
      "\u001b[1;31m---------------------------------------------------------------------------\u001b[0m",
      "\u001b[1;31mStopIteration\u001b[0m                             Traceback (most recent call last)",
      "Cell \u001b[1;32mIn [8], line 9\u001b[0m\n\u001b[0;32m      7\u001b[0m \u001b[39mprint\u001b[39m(\u001b[39mnext\u001b[39m(i))\n\u001b[0;32m      8\u001b[0m \u001b[39mprint\u001b[39m(\u001b[39mnext\u001b[39m(i))\n\u001b[1;32m----> 9\u001b[0m \u001b[39mprint\u001b[39m(\u001b[39mnext\u001b[39m(i))\n",
      "\u001b[1;31mStopIteration\u001b[0m: "
     ]
    }
   ],
   "source": [
    "l=[56,78,34,92,42]\n",
    "i= iter(l)\n",
    "print(type(i))\n",
    "print(i.__next__())\n",
    "print((next(i)))\n",
    "print(next(i))\n",
    "print(next(i))\n",
    "print(next(i))\n",
    "print(next(i))"
   ]
  },
  {
   "cell_type": "code",
   "execution_count": 9,
   "metadata": {},
   "outputs": [
    {
     "name": "stdout",
     "output_type": "stream",
     "text": [
      "[33, 56, 82, 71]\n"
     ]
    }
   ],
   "source": [
    "print([ i for i in [33,56,82,71]] )"
   ]
  },
  {
   "cell_type": "code",
   "execution_count": 19,
   "metadata": {},
   "outputs": [
    {
     "name": "stdout",
     "output_type": "stream",
     "text": [
      "23\n",
      "45\n",
      "67\n",
      "89\n",
      "90\n"
     ]
    }
   ],
   "source": [
    "mylist=iter([23,45,67,89,90])\n",
    "while True:\n",
    "    try:\n",
    "        j=next(mylist)\n",
    "        print(j)\n",
    "    except StopIteration as i:\n",
    "        break"
   ]
  },
  {
   "cell_type": "code",
   "execution_count": 1,
   "metadata": {},
   "outputs": [
    {
     "name": "stdout",
     "output_type": "stream",
     "text": [
      "<class '__main__.PowTwo'>\n",
      "<class '__main__.PowTwo'>\n",
      "1\n"
     ]
    }
   ],
   "source": [
    "class PowTwo:\n",
    "    def __init__(self,max=0):\n",
    "     self.max=max\n",
    "\n",
    "    def __iter__(self):\n",
    "        self.n=0  # n number is by default 0 we give so it will take 2 raise to 0 \n",
    "        return self\n",
    "\n",
    "    def __next__(self):\n",
    "        if self.n<=self.max:\n",
    "            result=2**self.n\n",
    "            self.n+=1\n",
    "            return result\n",
    "        else:\n",
    "            raise StopIteration\n",
    "\n",
    "ptwo=PowTwo(10) # Creating my iteratable object\n",
    "print(type(ptwo))\n",
    "i=ptwo.__iter__()\n",
    "print(type(i))\n",
    "print(i.__next__())\n"
   ]
  },
  {
   "cell_type": "code",
   "execution_count": 2,
   "metadata": {},
   "outputs": [
    {
     "name": "stdout",
     "output_type": "stream",
     "text": [
      "2\n"
     ]
    }
   ],
   "source": [
    "print(next(i))"
   ]
  },
  {
   "cell_type": "code",
   "execution_count": 3,
   "metadata": {},
   "outputs": [
    {
     "name": "stdout",
     "output_type": "stream",
     "text": [
      "4\n"
     ]
    }
   ],
   "source": [
    "print(next(i))"
   ]
  },
  {
   "cell_type": "code",
   "execution_count": 4,
   "metadata": {},
   "outputs": [
    {
     "data": {
      "text/plain": [
       "8"
      ]
     },
     "execution_count": 4,
     "metadata": {},
     "output_type": "execute_result"
    }
   ],
   "source": [
    "next(i)"
   ]
  },
  {
   "cell_type": "code",
   "execution_count": 5,
   "metadata": {},
   "outputs": [
    {
     "data": {
      "text/plain": [
       "16"
      ]
     },
     "execution_count": 5,
     "metadata": {},
     "output_type": "execute_result"
    }
   ],
   "source": [
    "next(i)"
   ]
  },
  {
   "cell_type": "code",
   "execution_count": 6,
   "metadata": {},
   "outputs": [
    {
     "data": {
      "text/plain": [
       "32"
      ]
     },
     "execution_count": 6,
     "metadata": {},
     "output_type": "execute_result"
    }
   ],
   "source": [
    "next(i)"
   ]
  },
  {
   "cell_type": "code",
   "execution_count": 7,
   "metadata": {},
   "outputs": [
    {
     "data": {
      "text/plain": [
       "64"
      ]
     },
     "execution_count": 7,
     "metadata": {},
     "output_type": "execute_result"
    }
   ],
   "source": [
    "next(i)"
   ]
  },
  {
   "cell_type": "code",
   "execution_count": 8,
   "metadata": {},
   "outputs": [
    {
     "data": {
      "text/plain": [
       "128"
      ]
     },
     "execution_count": 8,
     "metadata": {},
     "output_type": "execute_result"
    }
   ],
   "source": [
    "next(i)"
   ]
  },
  {
   "cell_type": "code",
   "execution_count": 8,
   "metadata": {},
   "outputs": [
    {
     "data": {
      "text/plain": [
       "128"
      ]
     },
     "execution_count": 8,
     "metadata": {},
     "output_type": "execute_result"
    }
   ],
   "source": [
    "next(i)"
   ]
  },
  {
   "cell_type": "code",
   "execution_count": 9,
   "metadata": {},
   "outputs": [
    {
     "data": {
      "text/plain": [
       "256"
      ]
     },
     "execution_count": 9,
     "metadata": {},
     "output_type": "execute_result"
    }
   ],
   "source": [
    "next(i)"
   ]
  },
  {
   "cell_type": "code",
   "execution_count": 10,
   "metadata": {},
   "outputs": [
    {
     "data": {
      "text/plain": [
       "512"
      ]
     },
     "execution_count": 10,
     "metadata": {},
     "output_type": "execute_result"
    }
   ],
   "source": [
    "next(i)"
   ]
  },
  {
   "cell_type": "code",
   "execution_count": 11,
   "metadata": {},
   "outputs": [
    {
     "data": {
      "text/plain": [
       "1024"
      ]
     },
     "execution_count": 11,
     "metadata": {},
     "output_type": "execute_result"
    }
   ],
   "source": [
    "next(i)"
   ]
  },
  {
   "cell_type": "code",
   "execution_count": 12,
   "metadata": {},
   "outputs": [
    {
     "ename": "StopIteration",
     "evalue": "",
     "output_type": "error",
     "traceback": [
      "\u001b[1;31m---------------------------------------------------------------------------\u001b[0m",
      "\u001b[1;31mStopIteration\u001b[0m                             Traceback (most recent call last)",
      "Cell \u001b[1;32mIn [12], line 1\u001b[0m\n\u001b[1;32m----> 1\u001b[0m \u001b[39mnext\u001b[39m(i)\n",
      "Cell \u001b[1;32mIn [1], line 15\u001b[0m, in \u001b[0;36mPowTwo.__next__\u001b[1;34m(self)\u001b[0m\n\u001b[0;32m     13\u001b[0m     \u001b[39mreturn\u001b[39;00m result\n\u001b[0;32m     14\u001b[0m \u001b[39melse\u001b[39;00m:\n\u001b[1;32m---> 15\u001b[0m     \u001b[39mraise\u001b[39;00m \u001b[39mStopIteration\u001b[39;00m\n",
      "\u001b[1;31mStopIteration\u001b[0m: "
     ]
    }
   ],
   "source": [
    "next(i)"
   ]
  },
  {
   "cell_type": "code",
   "execution_count": 13,
   "metadata": {},
   "outputs": [
    {
     "name": "stdout",
     "output_type": "stream",
     "text": [
      "1\n",
      "2\n",
      "4\n",
      "8\n",
      "16\n",
      "32\n",
      "64\n",
      "128\n",
      "256\n",
      "512\n",
      "1024\n"
     ]
    }
   ],
   "source": [
    "for i in ptwo:\n",
    "    print(i)"
   ]
  },
  {
   "cell_type": "code",
   "execution_count": 2,
   "metadata": {},
   "outputs": [
    {
     "name": "stdout",
     "output_type": "stream",
     "text": [
      "<class 'generator'>\n",
      "<class 'generator'>\n",
      "<generator object my_gen at 0x000001A1E686AF10>\n"
     ]
    }
   ],
   "source": [
    "# Generator function\n",
    "def my_gen():\n",
    "    n=1\n",
    "\n",
    "    print('This is gonna print first')\n",
    "    yield 2*n*n+5\n",
    "    # Generator functions contains yield statement\n",
    "\n",
    "    n=n+1\n",
    "    print('This is gonna print second time ')\n",
    "    yield 2*n*n+5\n",
    "\n",
    "    n=n+1\n",
    "    print('This is gonna print third time ')\n",
    "    yield 2*n*n+5\n",
    "\n",
    "    n=n+1\n",
    "    print('This is gonna print fourth time ')\n",
    "    yield 2*n*n+5\n",
    "\n",
    "    n=n+1\n",
    "    print('This is gonna print fifth time ')\n",
    "    yield 2*n*n+5\n",
    "\n",
    "    n=n+1\n",
    "    print('This is gonna print sixth time ')\n",
    "    yield 2*n*n+5\n",
    "\n",
    "    n=n+1\n",
    "    print('This is gonna print seven time ')\n",
    "    yield 2*n*n+5\n",
    "\n",
    "    n=n+1\n",
    "    print('This is gonna print eight time ')\n",
    "    yield 2*n*n+5\n",
    "\n",
    "    n=n+1\n",
    "    print('This is gonna print nine time ')\n",
    "    yield 2*n*n+5\n",
    "\n",
    "n=my_gen()\n",
    "print(type(n))\n",
    "print(type(my_gen()))\n",
    "print(n)\n"
   ]
  },
  {
   "cell_type": "code",
   "execution_count": 3,
   "metadata": {},
   "outputs": [
    {
     "name": "stdout",
     "output_type": "stream",
     "text": [
      "This is gonna print first\n"
     ]
    },
    {
     "data": {
      "text/plain": [
       "7"
      ]
     },
     "execution_count": 3,
     "metadata": {},
     "output_type": "execute_result"
    }
   ],
   "source": [
    "next(n)"
   ]
  },
  {
   "cell_type": "code",
   "execution_count": 4,
   "metadata": {},
   "outputs": [
    {
     "name": "stdout",
     "output_type": "stream",
     "text": [
      "This is gonna print second time \n",
      "13\n"
     ]
    }
   ],
   "source": [
    "print(n.__next__())"
   ]
  },
  {
   "cell_type": "code",
   "execution_count": 5,
   "metadata": {},
   "outputs": [
    {
     "name": "stdout",
     "output_type": "stream",
     "text": [
      "This is gonna print third time \n"
     ]
    },
    {
     "data": {
      "text/plain": [
       "23"
      ]
     },
     "execution_count": 5,
     "metadata": {},
     "output_type": "execute_result"
    }
   ],
   "source": [
    "next(n)"
   ]
  },
  {
   "cell_type": "code",
   "execution_count": 6,
   "metadata": {},
   "outputs": [
    {
     "name": "stdout",
     "output_type": "stream",
     "text": [
      "This is gonna print fourth time \n"
     ]
    },
    {
     "data": {
      "text/plain": [
       "37"
      ]
     },
     "execution_count": 6,
     "metadata": {},
     "output_type": "execute_result"
    }
   ],
   "source": [
    "next(n)"
   ]
  },
  {
   "cell_type": "code",
   "execution_count": 8,
   "metadata": {},
   "outputs": [
    {
     "name": "stdout",
     "output_type": "stream",
     "text": [
      "This is gonna print fifth time \n"
     ]
    },
    {
     "data": {
      "text/plain": [
       "55"
      ]
     },
     "execution_count": 8,
     "metadata": {},
     "output_type": "execute_result"
    }
   ],
   "source": [
    "next(n)"
   ]
  },
  {
   "cell_type": "code",
   "execution_count": 9,
   "metadata": {},
   "outputs": [
    {
     "name": "stdout",
     "output_type": "stream",
     "text": [
      "This is gonna print sixth time \n"
     ]
    },
    {
     "data": {
      "text/plain": [
       "77"
      ]
     },
     "execution_count": 9,
     "metadata": {},
     "output_type": "execute_result"
    }
   ],
   "source": [
    "next(n)"
   ]
  },
  {
   "cell_type": "code",
   "execution_count": 10,
   "metadata": {},
   "outputs": [
    {
     "name": "stdout",
     "output_type": "stream",
     "text": [
      "This is gonna print seven time \n"
     ]
    },
    {
     "data": {
      "text/plain": [
       "103"
      ]
     },
     "execution_count": 10,
     "metadata": {},
     "output_type": "execute_result"
    }
   ],
   "source": [
    "next(n)\n"
   ]
  },
  {
   "cell_type": "code",
   "execution_count": 11,
   "metadata": {},
   "outputs": [
    {
     "name": "stdout",
     "output_type": "stream",
     "text": [
      "This is gonna print eight time \n"
     ]
    },
    {
     "data": {
      "text/plain": [
       "133"
      ]
     },
     "execution_count": 11,
     "metadata": {},
     "output_type": "execute_result"
    }
   ],
   "source": [
    "next(n)"
   ]
  },
  {
   "cell_type": "code",
   "execution_count": 12,
   "metadata": {},
   "outputs": [
    {
     "name": "stdout",
     "output_type": "stream",
     "text": [
      "This is gonna print nine time \n"
     ]
    },
    {
     "data": {
      "text/plain": [
       "167"
      ]
     },
     "execution_count": 12,
     "metadata": {},
     "output_type": "execute_result"
    }
   ],
   "source": [
    "next(n)"
   ]
  },
  {
   "cell_type": "code",
   "execution_count": 13,
   "metadata": {},
   "outputs": [
    {
     "ename": "StopIteration",
     "evalue": "",
     "output_type": "error",
     "traceback": [
      "\u001b[1;31m---------------------------------------------------------------------------\u001b[0m",
      "\u001b[1;31mStopIteration\u001b[0m                             Traceback (most recent call last)",
      "Cell \u001b[1;32mIn [13], line 1\u001b[0m\n\u001b[1;32m----> 1\u001b[0m \u001b[39mnext\u001b[39m(n)\n",
      "\u001b[1;31mStopIteration\u001b[0m: "
     ]
    }
   ],
   "source": [
    "next(n)"
   ]
  },
  {
   "cell_type": "code",
   "execution_count": 14,
   "metadata": {},
   "outputs": [
    {
     "name": "stdout",
     "output_type": "stream",
     "text": [
      "This is gonna print first\n",
      "7\n",
      "This is gonna print second time \n",
      "13\n",
      "This is gonna print third time \n",
      "23\n",
      "This is gonna print fourth time \n",
      "37\n",
      "This is gonna print fifth time \n",
      "55\n",
      "This is gonna print sixth time \n",
      "77\n",
      "This is gonna print seven time \n",
      "103\n",
      "This is gonna print eight time \n",
      "133\n",
      "This is gonna print nine time \n",
      "167\n"
     ]
    }
   ],
   "source": [
    "for i in my_gen():\n",
    "    print(i)"
   ]
  },
  {
   "cell_type": "code",
   "execution_count": 35,
   "metadata": {},
   "outputs": [],
   "source": [
    "def my_mul():\n",
    "    n=1\n",
    "\n",
    "    # print('This is gonna print first time')\n",
    "    yield n*2\n",
    "\n",
    "    n*=3\n",
    "    # print('This is gonna print second time')\n",
    "    yield n*2\n",
    "\n",
    "    n*=3\n",
    "    # print('This is gonna print third time')\n",
    "    yield n*2\n",
    "\n",
    "    n*=3\n",
    "    # print('This is gonna print fourth time')\n",
    "    yield n*2\n",
    "\n",
    "    n*=3\n",
    "    # print('This is gonna print fifth time')\n",
    "    yield n*2"
   ]
  },
  {
   "cell_type": "code",
   "execution_count": 19,
   "metadata": {},
   "outputs": [
    {
     "name": "stdout",
     "output_type": "stream",
     "text": [
      "<class 'generator'>\n",
      "<class 'generator'>\n",
      "<generator object my_mul at 0x000001A1E68686D0>\n"
     ]
    }
   ],
   "source": [
    "z=my_mul()\n",
    "print(type(z))\n",
    "print(type(my_mul()))\n",
    "print(my_mul())\n"
   ]
  },
  {
   "cell_type": "code",
   "execution_count": 20,
   "metadata": {},
   "outputs": [
    {
     "name": "stdout",
     "output_type": "stream",
     "text": [
      "This is gonna print first time\n"
     ]
    },
    {
     "data": {
      "text/plain": [
       "2"
      ]
     },
     "execution_count": 20,
     "metadata": {},
     "output_type": "execute_result"
    }
   ],
   "source": [
    "next(z)"
   ]
  },
  {
   "cell_type": "code",
   "execution_count": 21,
   "metadata": {},
   "outputs": [
    {
     "name": "stdout",
     "output_type": "stream",
     "text": [
      "This is gonna print second time\n"
     ]
    },
    {
     "data": {
      "text/plain": [
       "6"
      ]
     },
     "execution_count": 21,
     "metadata": {},
     "output_type": "execute_result"
    }
   ],
   "source": [
    "next(z)"
   ]
  },
  {
   "cell_type": "code",
   "execution_count": 22,
   "metadata": {},
   "outputs": [
    {
     "name": "stdout",
     "output_type": "stream",
     "text": [
      "This is gonna print third time\n"
     ]
    },
    {
     "data": {
      "text/plain": [
       "18"
      ]
     },
     "execution_count": 22,
     "metadata": {},
     "output_type": "execute_result"
    }
   ],
   "source": [
    "next(z)"
   ]
  },
  {
   "cell_type": "code",
   "execution_count": 23,
   "metadata": {},
   "outputs": [
    {
     "name": "stdout",
     "output_type": "stream",
     "text": [
      "This is gonna print fourth time\n"
     ]
    },
    {
     "data": {
      "text/plain": [
       "54"
      ]
     },
     "execution_count": 23,
     "metadata": {},
     "output_type": "execute_result"
    }
   ],
   "source": [
    "next(z)"
   ]
  },
  {
   "cell_type": "code",
   "execution_count": 24,
   "metadata": {},
   "outputs": [
    {
     "name": "stdout",
     "output_type": "stream",
     "text": [
      "This is gonna print fifth time\n"
     ]
    },
    {
     "data": {
      "text/plain": [
       "162"
      ]
     },
     "execution_count": 24,
     "metadata": {},
     "output_type": "execute_result"
    }
   ],
   "source": [
    "next(z)"
   ]
  },
  {
   "cell_type": "code",
   "execution_count": 25,
   "metadata": {},
   "outputs": [
    {
     "ename": "StopIteration",
     "evalue": "",
     "output_type": "error",
     "traceback": [
      "\u001b[1;31m---------------------------------------------------------------------------\u001b[0m",
      "\u001b[1;31mStopIteration\u001b[0m                             Traceback (most recent call last)",
      "Cell \u001b[1;32mIn [25], line 1\u001b[0m\n\u001b[1;32m----> 1\u001b[0m \u001b[39mnext\u001b[39m(z)\n",
      "\u001b[1;31mStopIteration\u001b[0m: "
     ]
    }
   ],
   "source": [
    "next(z)"
   ]
  },
  {
   "cell_type": "code",
   "execution_count": 36,
   "metadata": {},
   "outputs": [
    {
     "data": {
      "text/plain": [
       "[2, 6, 18, 54, 162]"
      ]
     },
     "execution_count": 36,
     "metadata": {},
     "output_type": "execute_result"
    }
   ],
   "source": [
    "list(my_mul())"
   ]
  },
  {
   "cell_type": "code",
   "execution_count": 31,
   "metadata": {},
   "outputs": [
    {
     "name": "stdout",
     "output_type": "stream",
     "text": [
      "This is gonna print first time\n",
      "2\n",
      "This is gonna print second time\n",
      "6\n",
      "This is gonna print third time\n",
      "18\n",
      "This is gonna print fourth time\n",
      "54\n",
      "This is gonna print fifth time\n",
      "162\n"
     ]
    }
   ],
   "source": [
    "for i in my_mul():\n",
    "    print(i)"
   ]
  },
  {
   "cell_type": "code",
   "execution_count": 28,
   "metadata": {},
   "outputs": [
    {
     "data": {
      "text/plain": [
       "[2, 6, 27]"
      ]
     },
     "execution_count": 28,
     "metadata": {},
     "output_type": "execute_result"
    }
   ],
   "source": [
    "# A simple generator function\n",
    "\n",
    "def my_gen():\n",
    "    n=1\n",
    "\n",
    "    #print('This is printed first')\n",
    "    #Generator function contains yield statements\n",
    "    yield n*2\n",
    "\n",
    "    n*=3\n",
    "    yield n*2\n",
    "\n",
    "    n*=3\n",
    "    yield n*3\n",
    "\n",
    "list(my_gen())\n",
    "\n",
    "    "
   ]
  },
  {
   "cell_type": "markdown",
   "metadata": {},
   "source": [
    "Python Generator with a loop"
   ]
  },
  {
   "cell_type": "code",
   "execution_count": 44,
   "metadata": {},
   "outputs": [
    {
     "name": "stdout",
     "output_type": "stream",
     "text": [
      "[14, 13, 12, 11, 10, 9, 8, 7, 6, 5, 4, 3, 2, 1, 0]\n",
      "lawargA anhsirK"
     ]
    }
   ],
   "source": [
    "def rev_str(mystr):\n",
    "    l=len(mystr)\n",
    "    index=list(range(l-1,-1,-1))\n",
    "    print(index)\n",
    "    for i in index:\n",
    "        print(mystr[i], end='')\n",
    "rev_str('Krishna Agrawal')"
   ]
  },
  {
   "cell_type": "code",
   "execution_count": 50,
   "metadata": {},
   "outputs": [
    {
     "name": "stdout",
     "output_type": "stream",
     "text": [
      "<class 'function'>\n",
      "lawargA anhsirk\n",
      "amrahS teeM\n"
     ]
    }
   ],
   "source": [
    "def rev_str(mystr):\n",
    "    l=len(mystr)\n",
    "    for i in range(l-1,-1,-1):\n",
    "        yield mystr[i]\n",
    "\n",
    "print(type(rev_str))\n",
    "print(''.join(list(rev_str('krishna Agrawal'))))\n",
    "print(''.join(list(rev_str('Meet Sharma'))))"
   ]
  },
  {
   "cell_type": "code",
   "execution_count": 51,
   "metadata": {},
   "outputs": [
    {
     "name": "stdout",
     "output_type": "stream",
     "text": [
      " \n",
      "c\n",
      " \n",
      "d\n",
      "n\n",
      "a\n",
      " \n",
      "o\n",
      "g\n",
      "n\n",
      "a\n",
      "J\n"
     ]
    }
   ],
   "source": [
    "for i in rev_str('Jango and c '):\n",
    "    print(i)"
   ]
  },
  {
   "cell_type": "code",
   "execution_count": 52,
   "metadata": {},
   "outputs": [
    {
     "name": "stdout",
     "output_type": "stream",
     "text": [
      "egaugnal gnimmargorp nohtyp gninrael yltnerruc ma I\n"
     ]
    }
   ],
   "source": [
    "print(''.join([char for char in rev_str('I am currently learning python programming language')]))"
   ]
  },
  {
   "cell_type": "code",
   "execution_count": 53,
   "metadata": {},
   "outputs": [
    {
     "name": "stdout",
     "output_type": "stream",
     "text": [
      "lawargA anhsirK\n"
     ]
    }
   ],
   "source": [
    "def rev_str(mystr):\n",
    "    l=len(mystr)\n",
    "    for i in range(l-1,-1,-1):\n",
    "        yield mystr[i]\n",
    "\n",
    "print(''.join (rev_str('Krishna Agrawal')))"
   ]
  },
  {
   "cell_type": "code",
   "execution_count": 59,
   "metadata": {},
   "outputs": [
    {
     "name": "stdout",
     "output_type": "stream",
     "text": [
      "n\n",
      "o\n",
      "h\n",
      "t\n",
      "y\n",
      "P\n"
     ]
    }
   ],
   "source": [
    "char='Python'\n",
    "for i in range(len(char)-1,-1,-1):\n",
    "    print(char[i])"
   ]
  },
  {
   "cell_type": "markdown",
   "metadata": {},
   "source": [
    "Python Generator Expression"
   ]
  },
  {
   "cell_type": "code",
   "execution_count": 1,
   "metadata": {},
   "outputs": [
    {
     "name": "stdout",
     "output_type": "stream",
     "text": [
      "[4, 9, 16, 25, 36, 49]\n",
      "<generator object <genexpr> at 0x0000025E3E06A2D0>\n",
      "4\n",
      "9\n",
      "16\n",
      "25\n",
      "36\n",
      "49\n"
     ]
    }
   ],
   "source": [
    "mylist=[2,3,4,5,6,7]\n",
    "print([x**2 for x in mylist])  # using lc (list comprehension)\n",
    "\n",
    "#now using generator object\n",
    "\n",
    "n=(x**2 for x in mylist)\n",
    "print(n)\n",
    "print(next(n))\n",
    "print(next(n))\n",
    "print(next(n))\n",
    "print(next(n))\n",
    "print(next(n))\n",
    "print(next(n))"
   ]
  },
  {
   "cell_type": "code",
   "execution_count": 13,
   "metadata": {},
   "outputs": [
    {
     "name": "stdout",
     "output_type": "stream",
     "text": [
      "<class 'generator'>\n",
      "27\n",
      "64\n",
      "125\n",
      "216\n",
      "343\n",
      "512\n",
      "804357\n"
     ]
    },
    {
     "ename": "StopIteration",
     "evalue": "",
     "output_type": "error",
     "traceback": [
      "\u001b[1;31m---------------------------------------------------------------------------\u001b[0m",
      "\u001b[1;31mStopIteration\u001b[0m                             Traceback (most recent call last)",
      "Cell \u001b[1;32mIn [13], line 11\u001b[0m\n\u001b[0;32m      9\u001b[0m \u001b[39mprint\u001b[39m(\u001b[39mnext\u001b[39m(a))\n\u001b[0;32m     10\u001b[0m \u001b[39mprint\u001b[39m(\u001b[39mnext\u001b[39m(a))\n\u001b[1;32m---> 11\u001b[0m \u001b[39mprint\u001b[39m(\u001b[39mnext\u001b[39m(a))\n",
      "\u001b[1;31mStopIteration\u001b[0m: "
     ]
    }
   ],
   "source": [
    "list=[3,4,5,6,7,8,93]\n",
    "a=(x**3 for x in list)\n",
    "print(type(a))\n",
    "print(next(a))\n",
    "print(next(a))\n",
    "print(next(a))\n",
    "print(next(a))\n",
    "print(next(a))\n",
    "print(next(a))\n",
    "print(next(a))\n",
    "print(next(a))"
   ]
  },
  {
   "cell_type": "code",
   "execution_count": 14,
   "metadata": {},
   "outputs": [
    {
     "data": {
      "text/plain": [
       "-5"
      ]
     },
     "execution_count": 14,
     "metadata": {},
     "output_type": "execute_result"
    }
   ],
   "source": [
    "list=[34,67,89,0,-3,-5,2]\n",
    "min(x for x in list)\n"
   ]
  },
  {
   "cell_type": "code",
   "execution_count": 15,
   "metadata": {},
   "outputs": [
    {
     "data": {
      "text/plain": [
       "89"
      ]
     },
     "execution_count": 15,
     "metadata": {},
     "output_type": "execute_result"
    }
   ],
   "source": [
    "max(x for x in list)"
   ]
  },
  {
   "cell_type": "code",
   "execution_count": 16,
   "metadata": {},
   "outputs": [
    {
     "name": "stdout",
     "output_type": "stream",
     "text": [
      "3136\n"
     ]
    }
   ],
   "source": [
    "list=[56,78,34,59]\n",
    "a=(x**2 for x in list)\n",
    "print(next(a))"
   ]
  },
  {
   "cell_type": "code",
   "execution_count": 28,
   "metadata": {},
   "outputs": [
    {
     "name": "stdout",
     "output_type": "stream",
     "text": [
      "1\n"
     ]
    }
   ],
   "source": [
    "class inf_itr:\n",
    "    def __iter__(self):\n",
    "        self.n=1\n",
    "        return self\n",
    "    def __next__(self):\n",
    "        num=self.n\n",
    "        self.n+=2\n",
    "        return num\n",
    "\n",
    "odd=inf_itr()\n",
    "odd_itr=iter(odd)\n",
    "print(next(odd))\n",
    "\n",
    "# iter(odd)\n",
    "# print(next(odd))\n",
    "# print(next(odd))"
   ]
  },
  {
   "cell_type": "markdown",
   "metadata": {},
   "source": [
    "Now we will see generator using function"
   ]
  },
  {
   "cell_type": "code",
   "execution_count": 16,
   "metadata": {},
   "outputs": [
    {
     "name": "stdout",
     "output_type": "stream",
     "text": [
      "[1, 2, 4, 8, 16, 32, 64, 128, 256, 512, 1024, 2048, 4096, 8192, 16384, 32768, 65536, 131072, 262144, 524288, 1048576]\n"
     ]
    }
   ],
   "source": [
    "def powtwo(max =0):\n",
    "    n=0\n",
    "    while n<=max:\n",
    "        yield 2**n\n",
    "        n+=1\n",
    "print(list(powtwo(20)))\n"
   ]
  },
  {
   "cell_type": "code",
   "execution_count": 5,
   "metadata": {},
   "outputs": [
    {
     "name": "stdout",
     "output_type": "stream",
     "text": [
      "<class '__main__.Powtwo'>\n",
      "<class '__main__.Powtwo'>\n",
      "<__main__.Powtwo object at 0x0000025E08DDEAD0>\n",
      "1\n",
      "2\n",
      "4\n",
      "8\n",
      "16\n",
      "32\n"
     ]
    }
   ],
   "source": [
    "class Powtwo:\n",
    "    def __init__(self,max=0):\n",
    "        self.max=max\n",
    "    \n",
    "    def __iter__(self):\n",
    "        self.n=0\n",
    "        return self\n",
    "    def __next__(self):\n",
    "        if self.n<=self.max:\n",
    "            result=2**self.n\n",
    "            self.n+=1\n",
    "            return result\n",
    "        else:\n",
    "            raise StopIteration\n",
    "            \n",
    "ptwo=Powtwo(10)\n",
    "print(type(ptwo))\n",
    "i=ptwo.__iter__()\n",
    "print(type(i))\n",
    "print(i)\n",
    "print(next(ptwo))\n",
    "print(i.__next__())\n",
    "print(next(i))\n",
    "print(next(i))\n",
    "print(next(i))\n",
    "print(next(i))\n"
   ]
  },
  {
   "cell_type": "code",
   "execution_count": 6,
   "metadata": {},
   "outputs": [
    {
     "name": "stdout",
     "output_type": "stream",
     "text": [
      "1\n",
      "2\n",
      "4\n",
      "8\n",
      "16\n",
      "32\n",
      "64\n",
      "128\n",
      "256\n",
      "512\n",
      "1024\n"
     ]
    }
   ],
   "source": [
    "for i in ptwo:\n",
    "    print(i)"
   ]
  },
  {
   "cell_type": "code",
   "execution_count": 18,
   "metadata": {},
   "outputs": [],
   "source": [
    "def my_gen():\n",
    "    n=1\n",
    "    print('This is gonna print first')\n",
    "    yield 2*n*n+5\n",
    "\n",
    "    n=n+1\n",
    "    print('This is gonna print second')\n",
    "    yield 2*n*n+5\n",
    "\n",
    "    n=n+1\n",
    "    print('This is gonna print third')\n",
    "    yield 2*n*n+5\n",
    "  \n",
    "    n=n+1\n",
    "    print('This is gonna print fourth')\n",
    "    yield 2*n*n+5\n",
    "\n",
    "\n",
    "    n=n+1\n",
    "    print('This is gonna print fifth')\n",
    "    yield 2*n*n+5\n",
    "\n",
    "   \n",
    "    "
   ]
  },
  {
   "cell_type": "code",
   "execution_count": 19,
   "metadata": {},
   "outputs": [
    {
     "name": "stdout",
     "output_type": "stream",
     "text": [
      "<class 'generator'>\n",
      "<generator object my_gen at 0x0000025E0B029380>\n",
      "This is gonna print first\n",
      "7\n",
      "This is gonna print second\n",
      "13\n"
     ]
    }
   ],
   "source": [
    "z=my_gen()\n",
    "print(type(z))\n",
    "i=z.__iter__()\n",
    "print(i)\n",
    "print(i.__next__())\n",
    "print(next(i))"
   ]
  },
  {
   "cell_type": "code",
   "execution_count": 21,
   "metadata": {},
   "outputs": [
    {
     "name": "stdout",
     "output_type": "stream",
     "text": [
      "This is gonna print third\n",
      "<generator object my_gen at 0x0000025E0B029380>\n",
      "This is gonna print fourth\n",
      "<generator object my_gen at 0x0000025E0B029380>\n",
      "This is gonna print fifth\n",
      "<generator object my_gen at 0x0000025E0B029380>\n"
     ]
    }
   ],
   "source": [
    "for e in i :\n",
    "    print(i)"
   ]
  },
  {
   "cell_type": "code",
   "execution_count": 26,
   "metadata": {},
   "outputs": [
    {
     "name": "stdout",
     "output_type": "stream",
     "text": [
      "<__main__.odd object at 0x0000025E0960B8B0>\n",
      "<__main__.odd object at 0x0000025E0960B8B0>\n",
      "1\n",
      "3\n"
     ]
    }
   ],
   "source": [
    "class odd:\n",
    "    def __iter__(self):\n",
    "        self.n=1\n",
    "        return self\n",
    "    def __next__(self):\n",
    "        num=self.n\n",
    "        self.n +=2\n",
    "        return num\n",
    "\n",
    "odd_str=odd()\n",
    "print(odd_str)\n",
    "i=odd_str.__iter__()\n",
    "print(i)\n",
    "print(i.__next__())\n",
    "print(i.__next__())\n",
    "\n",
    "\n",
    "    \n"
   ]
  },
  {
   "cell_type": "code",
   "execution_count": 30,
   "metadata": {},
   "outputs": [
    {
     "name": "stdout",
     "output_type": "stream",
     "text": [
      "<class 'generator'>\n",
      "<class 'generator'>\n",
      "<class 'generator'>\n",
      "<class 'generator'>\n",
      "0\n",
      "1\n",
      "2\n",
      "3\n",
      "4\n",
      "5\n"
     ]
    }
   ],
   "source": [
    "def all_even():\n",
    "    n=0\n",
    "    while True:\n",
    "        yield n\n",
    "        n+=2\n",
    "\n",
    "def all_odd():\n",
    "    n=1\n",
    "    while True:\n",
    "        yield n\n",
    "        n+=2\n",
    "\n",
    "e=all_even()\n",
    "o=all_odd()\n",
    "print(type(e))\n",
    "print(type(o))\n",
    "i=e.__iter__()\n",
    "s=o.__iter__()\n",
    "print(type(i))\n",
    "print(type(s))\n",
    "print(next(i))\n",
    "print(next(s))\n",
    "print(next(i))\n",
    "print(next(s))\n",
    "print(next(i))\n",
    "print(next(s))\n",
    "\n"
   ]
  },
  {
   "cell_type": "code",
   "execution_count": null,
   "metadata": {},
   "outputs": [
    {
     "name": "stdout",
     "output_type": "stream",
     "text": [
      "1,"
     ]
    },
    {
     "ename": "KeyError",
     "evalue": "0",
     "output_type": "error",
     "traceback": [
      "\u001b[1;31m---------------------------------------------------------------------------\u001b[0m",
      "\u001b[1;31mKeyError\u001b[0m                                  Traceback (most recent call last)",
      "Cell \u001b[1;32mIn [48], line 4\u001b[0m\n\u001b[0;32m      1\u001b[0m fib\u001b[39m=\u001b[39mfib_gen()\n\u001b[0;32m      3\u001b[0m \u001b[39mfor\u001b[39;00m i \u001b[39min\u001b[39;00m \u001b[39mrange\u001b[39m(\u001b[39m1\u001b[39m,\u001b[39m10\u001b[39m):\n\u001b[1;32m----> 4\u001b[0m     \u001b[39mprint\u001b[39m(fib(i),end\u001b[39m=\u001b[39m\u001b[39m'\u001b[39m\u001b[39m,\u001b[39m\u001b[39m'\u001b[39m)\n",
      "Cell \u001b[1;32mIn [46], line 12\u001b[0m, in \u001b[0;36mfib_gen.__call__\u001b[1;34m(self, n)\u001b[0m\n\u001b[0;32m     10\u001b[0m         \u001b[39mself\u001b[39m\u001b[39m.\u001b[39mgenerated[\u001b[39m1\u001b[39m]\u001b[39m=\u001b[39m\u001b[39m1\u001b[39m\n\u001b[0;32m     11\u001b[0m     \u001b[39melse\u001b[39;00m:\n\u001b[1;32m---> 12\u001b[0m         \u001b[39mself\u001b[39m\u001b[39m.\u001b[39mgenerated[n]\u001b[39m=\u001b[39m\u001b[39mself\u001b[39m\u001b[39m.\u001b[39mgenerated[n\u001b[39m-\u001b[39m\u001b[39m1\u001b[39m]\u001b[39m+\u001b[39m\u001b[39mself\u001b[39;49m\u001b[39m.\u001b[39;49mgenerated[n\u001b[39m-\u001b[39;49m\u001b[39m2\u001b[39;49m]\n\u001b[0;32m     14\u001b[0m \u001b[39mreturn\u001b[39;00m \u001b[39mself\u001b[39m\u001b[39m.\u001b[39mgenerated[n]\n",
      "\u001b[1;31mKeyError\u001b[0m: 0"
     ]
    }
   ],
   "source": [
    "fib=fib_gen()\n",
    "\n",
    "for i in range(1,10):\n",
    "    print(fib(i),end=',')"
   ]
  },
  {
   "cell_type": "code",
   "execution_count": 5,
   "metadata": {},
   "outputs": [],
   "source": [
    "class fib_gen:\n",
    "    def __init__(self):\n",
    "        self.generated={}\n",
    "\n",
    "    def __call__(self,n):\n",
    "        if n not in self.generated:\n",
    "            if n==0:\n",
    "                self.generated[0]=0\n",
    "            elif n==1:\n",
    "                self.generated[1]=1\n",
    "            else:\n",
    "                self.generated[n]=self.generated[n-1] + self.generated[n-2]\n",
    "        return self.generated[n]\n",
    "\n",
    "                "
   ]
  },
  {
   "cell_type": "code",
   "execution_count": 8,
   "metadata": {},
   "outputs": [
    {
     "name": "stdout",
     "output_type": "stream",
     "text": [
      "<class '__main__.fib_gen'>\n",
      "0,1,1,2,3,5,8,13,21,34,"
     ]
    }
   ],
   "source": [
    "fib=fib_gen()\n",
    "print(type(fib))\n",
    "for i in range(10):\n",
    "    print(fib(i),end=',')"
   ]
  },
  {
   "cell_type": "code",
   "execution_count": 22,
   "metadata": {},
   "outputs": [],
   "source": [
    "class fib_gen:\n",
    "    def __init__(self):\n",
    "        self.generated={}\n",
    "    def __call__(self,n):\n",
    "       \n",
    "            if n==0:\n",
    "                self.generated[0]=0\n",
    "            elif n==1:\n",
    "                self.generated[1]=1\n",
    "            else:\n",
    "                self.generated[n]=self.generated[n-1]+self.generated[n-2]\n",
    "            return self.generated[n]\n",
    "\n",
    "\n",
    "\n"
   ]
  },
  {
   "cell_type": "code",
   "execution_count": 23,
   "metadata": {},
   "outputs": [
    {
     "name": "stdout",
     "output_type": "stream",
     "text": [
      "0,1,1,2,3,5,8,13,21,34,"
     ]
    }
   ],
   "source": [
    "fib=fib_gen()\n",
    "for i in range(10):\n",
    "    print(fib(i),end=',')"
   ]
  },
  {
   "cell_type": "markdown",
   "metadata": {},
   "source": [
    "Pipelining Generators"
   ]
  },
  {
   "cell_type": "code",
   "execution_count": 30,
   "metadata": {},
   "outputs": [
    {
     "name": "stdout",
     "output_type": "stream",
     "text": [
      "Total pizza sold are =  34\n"
     ]
    }
   ],
   "source": [
    "with open('D:\\python practice/sales_pipeline.txt')as file:\n",
    "    # hour=(int(x)for x in (int(line[3])for line in file))\n",
    "    print('Total pizza sold are = ',(sum(int(line[3])for line in file)))"
   ]
  },
  {
   "cell_type": "code",
   "execution_count": 31,
   "metadata": {},
   "outputs": [
    {
     "name": "stdout",
     "output_type": "stream",
     "text": [
      "Total pizzas sold are =  34\n"
     ]
    }
   ],
   "source": [
    "with open('D:\\python practice/sales_pipeline.txt')as file:\n",
    "    print('Total pizzas sold are = ',(sum(int(line[3])for line in file)))"
   ]
  },
  {
   "cell_type": "code",
   "execution_count": null,
   "metadata": {},
   "outputs": [],
   "source": []
  },
  {
   "cell_type": "markdown",
   "metadata": {},
   "source": [
    "Python Decorators"
   ]
  },
  {
   "cell_type": "code",
   "execution_count": 37,
   "metadata": {},
   "outputs": [
    {
     "name": "stdout",
     "output_type": "stream",
     "text": [
      "called same function hello\n",
      "<class 'function'>\n",
      "<function myfunc at 0x00000231C8C4EB00>\n",
      "<class 'function'>\n",
      "<function myfunc at 0x00000231C8C4EB00>\n",
      "Both are same\n",
      "called same function hello\n"
     ]
    }
   ],
   "source": [
    "a=90\n",
    "b=a\n",
    "\n",
    "def myfunc(call):\n",
    "    print('called same function',call)\n",
    "\n",
    "myfunc('hello')\n",
    "print(type(myfunc))\n",
    "print(myfunc)\n",
    "\n",
    "sec_myfunc=myfunc\n",
    "print(type(sec_myfunc))\n",
    "print(sec_myfunc)\n",
    "\n",
    "if myfunc==sec_myfunc:\n",
    "    print('Both are same')\n",
    "\n",
    "sec_myfunc('hello')"
   ]
  },
  {
   "cell_type": "code",
   "execution_count": 42,
   "metadata": {},
   "outputs": [
    {
     "name": "stdout",
     "output_type": "stream",
     "text": [
      "Increment value is =  46\n",
      "Decrement value is =  55\n"
     ]
    }
   ],
   "source": [
    "# def inc(x):\n",
    "#     return x+1\n",
    "# def dec(x):\n",
    "#     return x-1\n",
    "\n",
    "def operators(func,x):\n",
    "    return (func(x))\n",
    "\n",
    "print('Increment value is = ',operators(lambda x:x+1,45))\n",
    "print('Decrement value is = ',operators(lambda x:x-1,56))"
   ]
  },
  {
   "cell_type": "code",
   "execution_count": 2,
   "metadata": {},
   "outputs": [
    {
     "name": "stdout",
     "output_type": "stream",
     "text": [
      "46\n"
     ]
    }
   ],
   "source": [
    "def func(sen,a):\n",
    "    return sen(a)\n",
    "\n",
    "print(func(lambda a:a+1,45))"
   ]
  },
  {
   "cell_type": "code",
   "execution_count": 18,
   "metadata": {},
   "outputs": [
    {
     "name": "stdout",
     "output_type": "stream",
     "text": [
      "<function is_called.<locals>.is_returned at 0x0000027710C8BD00>\n",
      "<class 'function'>\n",
      "Hello / Namaste\n"
     ]
    }
   ],
   "source": [
    "def is_called():\n",
    "    def is_returned():\n",
    "        print('Hello / Namaste')\n",
    "    return is_returned\n",
    "\n",
    "print(is_called())\n",
    "print(type(is_called))\n",
    "a=is_called()\n",
    "a()"
   ]
  },
  {
   "cell_type": "markdown",
   "metadata": {},
   "source": [
    "Now We use the real decorator function"
   ]
  },
  {
   "cell_type": "code",
   "execution_count": 27,
   "metadata": {},
   "outputs": [
    {
     "name": "stdout",
     "output_type": "stream",
     "text": [
      "I don\"t like to study\n",
      "I like to study\n"
     ]
    }
   ],
   "source": [
    "def re_study(func):\n",
    "    def inner():\n",
    "        print('I like to study')\n",
    "    return inner\n",
    "\n",
    "\n",
    "\n",
    "\n",
    "def study():\n",
    "    print('I don\"t like to study' )\n",
    "    return study\n",
    "\n",
    "\n",
    "study()\n",
    "# print(type(study))\n",
    "# print(id(study()))\n",
    "\n",
    "\n",
    "study=re_study(study)\n",
    "\n",
    "\n",
    "study()\n",
    "# print(type(study))\n",
    "# print(id(study()))\n"
   ]
  },
  {
   "cell_type": "code",
   "execution_count": 31,
   "metadata": {},
   "outputs": [
    {
     "name": "stdout",
     "output_type": "stream",
     "text": [
      "I like the holiday cause its give me joy and allow me to go out \n"
     ]
    }
   ],
   "source": [
    "def re_holiday(func):\n",
    "    def inner():\n",
    "        print('I like the holiday cause its give me joy and allow me to go out ')\n",
    "    return inner\n",
    "\n",
    "\n",
    "@re_holiday  #applying decorator function\n",
    "def holiday():\n",
    "    print('I don\"t like the holiday cause its so boring to spent the day in home')\n",
    "    return holiday\n",
    "holiday()\n",
    "\n",
    "# holiday=re_holiday(holiday)\n",
    "\n",
    "# holiday()"
   ]
  },
  {
   "cell_type": "code",
   "execution_count": 38,
   "metadata": {},
   "outputs": [
    {
     "name": "stdout",
     "output_type": "stream",
     "text": [
      "MY NAME IS KRISHNA AGRAWAL\n"
     ]
    }
   ],
   "source": [
    "def u_name(func):\n",
    "    def name():\n",
    "        print('my name is krishna agrawal'.upper())\n",
    "    return name\n",
    "\n",
    "@u_name\n",
    "def l_name():\n",
    "    print('My NaMe iS KRISHna AgaRAwAl'.lower())\n",
    "    return l_name\n",
    "l_name()\n",
    "\n",
    "# fname=u_name(l_name)\n",
    "# fname()"
   ]
  },
  {
   "cell_type": "markdown",
   "metadata": {},
   "source": [
    "Now we study about decorator function with parameters"
   ]
  },
  {
   "cell_type": "code",
   "execution_count": 40,
   "metadata": {},
   "outputs": [
    {
     "ename": "ZeroDivisionError",
     "evalue": "division by zero",
     "output_type": "error",
     "traceback": [
      "\u001b[1;31m---------------------------------------------------------------------------\u001b[0m",
      "\u001b[1;31mZeroDivisionError\u001b[0m                         Traceback (most recent call last)",
      "Cell \u001b[1;32mIn [40], line 5\u001b[0m\n\u001b[0;32m      2\u001b[0m     \u001b[39mreturn\u001b[39;00m a\u001b[39m/\u001b[39mb\n\u001b[0;32m      4\u001b[0m div(\u001b[39m4\u001b[39m,\u001b[39m2\u001b[39m)\n\u001b[1;32m----> 5\u001b[0m div(\u001b[39m4\u001b[39m,\u001b[39m0\u001b[39m)\n",
      "Cell \u001b[1;32mIn [40], line 2\u001b[0m, in \u001b[0;36mdiv\u001b[1;34m(a, b)\u001b[0m\n\u001b[0;32m      1\u001b[0m \u001b[39mdef\u001b[39;00m \u001b[39mdiv\u001b[39m(a,b):\n\u001b[1;32m----> 2\u001b[0m     \u001b[39mreturn\u001b[39;00m a\u001b[39m/\u001b[39;49mb\n",
      "\u001b[1;31mZeroDivisionError\u001b[0m: division by zero"
     ]
    }
   ],
   "source": [
    "def div(a,b):\n",
    "    return a/b\n",
    "\n",
    "div(4,2)\n",
    "div(4,0)"
   ]
  },
  {
   "cell_type": "code",
   "execution_count": 48,
   "metadata": {},
   "outputs": [
    {
     "name": "stdout",
     "output_type": "stream",
     "text": [
      "We are going to divide 8 and 0\n",
      "Sorry 0 cannot be divided with any number\n"
     ]
    }
   ],
   "source": [
    "def n_div(func):\n",
    "    def inner(a,b):\n",
    "        print(f'We are going to divide {a} and {b}')\n",
    "        if b==0:\n",
    "            print('Sorry 0 cannot be divided with any number')\n",
    "            return\n",
    "\n",
    "        return func(a,b)\n",
    "    return inner\n",
    "\n",
    "\n",
    "@ n_div\n",
    "def div(a,b):\n",
    "    return a/b\n",
    "\n",
    "div(8,0)"
   ]
  },
  {
   "cell_type": "code",
   "execution_count": 57,
   "metadata": {},
   "outputs": [
    {
     "name": "stdout",
     "output_type": "stream",
     "text": [
      "We Are Going To Divide 4 and 2\n"
     ]
    },
    {
     "data": {
      "text/plain": [
       "2.0"
      ]
     },
     "execution_count": 57,
     "metadata": {},
     "output_type": "execute_result"
    }
   ],
   "source": [
    "def s_div(func):\n",
    "    def inner(a,b):\n",
    "        print(f'We Are Going To Divide {a} and {b}')\n",
    "        if b==0:\n",
    "            print('Sorry but 0 cannot be divided with any number')\n",
    "            \n",
    "\n",
    "        return func(a,b)\n",
    "    return inner\n",
    "\n",
    "@s_div\n",
    "def div(a,b):\n",
    "    return a/b\n",
    "\n",
    "\n",
    "div(4,2)"
   ]
  },
  {
   "cell_type": "markdown",
   "metadata": {},
   "source": [
    "Chaining in decorators"
   ]
  },
  {
   "cell_type": "code",
   "execution_count": 71,
   "metadata": {},
   "outputs": [
    {
     "name": "stdout",
     "output_type": "stream",
     "text": [
      "--------------------------------------------------\n",
      "%%%%%%%%%%%%%%%%%%%%%%%%%%%%%%%%%%%%%%%%%%%%%%%%%%\n",
      "**************************************************\n",
      "Hello / Namaste\n",
      "**************************************************\n",
      "%%%%%%%%%%%%%%%%%%%%%%%%%%%%%%%%%%%%%%%%%%%%%%%%%%\n",
      "--------------------------------------------------\n"
     ]
    }
   ],
   "source": [
    "def star(func):\n",
    "    def inner(*args,**kwargs):\n",
    "        print('*' * 50)\n",
    "        func(*args,**kwargs)\n",
    "        print('*' * 50)\n",
    "    return inner\n",
    "def percentage(func):\n",
    "    def inner(*args,**kwargs):\n",
    "        print( '%' *50)\n",
    "        func(*args,**kwargs)\n",
    "        print('%'*50)\n",
    "    return inner\n",
    "def dash(func):\n",
    "    def inner(*args,**kwargs):\n",
    "        print('-' *50)\n",
    "        func(*args,**kwargs)\n",
    "        print('-' *50)\n",
    "    return inner\n",
    "\n",
    "@dash\n",
    "@percentage\n",
    "@star\n",
    "def myfunc(msg):\n",
    "    print (msg)\n",
    "myfunc('Hello / Namaste')"
   ]
  },
  {
   "cell_type": "code",
   "execution_count": null,
   "metadata": {},
   "outputs": [],
   "source": []
  }
 ],
 "metadata": {
  "kernelspec": {
   "display_name": "Python 3.10.7 64-bit",
   "language": "python",
   "name": "python3"
  },
  "language_info": {
   "codemirror_mode": {
    "name": "ipython",
    "version": 3
   },
   "file_extension": ".py",
   "mimetype": "text/x-python",
   "name": "python",
   "nbconvert_exporter": "python",
   "pygments_lexer": "ipython3",
   "version": "3.10.7"
  },
  "orig_nbformat": 4,
  "vscode": {
   "interpreter": {
    "hash": "2c6599e157872e0c80a1169ca1e185cdf85fff8ba1e0db7a7b864ffd8a8fc2c3"
   }
  }
 },
 "nbformat": 4,
 "nbformat_minor": 2
}
