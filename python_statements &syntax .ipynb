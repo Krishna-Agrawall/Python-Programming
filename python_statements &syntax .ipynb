{
 "cells": [
  {
   "cell_type": "code",
   "execution_count": 4,
   "id": "fd191a52-2683-4b74-a0a8-8b3e6c63c283",
   "metadata": {},
   "outputs": [
    {
     "name": "stdout",
     "output_type": "stream",
     "text": [
      "agrawal\n"
     ]
    }
   ],
   "source": [
    "a,b,c = 'krishna','anil','agrawal'\n",
    "print(c)\n"
   ]
  },
  {
   "cell_type": "code",
   "execution_count": 7,
   "id": "0999309c-98f6-4fdc-9ccd-8ecb800dd4fb",
   "metadata": {},
   "outputs": [
    {
     "name": "stdout",
     "output_type": "stream",
     "text": [
      "0.8939966636005579\n"
     ]
    },
    {
     "data": {
      "text/plain": [
       "'C:\\\\Users\\\\KRISHNA AGRAWAL'"
      ]
     },
     "execution_count": 7,
     "metadata": {},
     "output_type": "execute_result"
    }
   ],
   "source": [
    "import math\n",
    "import os\n",
    "print(math.sin(90))\n",
    "os.getcwd()\n",
    "\n",
    "#print(a)"
   ]
  },
  {
   "cell_type": "code",
   "execution_count": 8,
   "id": "ca3b594c-3986-4ba3-9e5e-5a1290ada697",
   "metadata": {},
   "outputs": [
    {
     "name": "stdout",
     "output_type": "stream",
     "text": [
      "hello world\n"
     ]
    }
   ],
   "source": [
    "a='hello'\n",
    "print(a,'world')"
   ]
  },
  {
   "cell_type": "code",
   "execution_count": 9,
   "id": "2e24ffc3-dff1-4620-a2e4-d5683d456c56",
   "metadata": {},
   "outputs": [
    {
     "name": "stdout",
     "output_type": "stream",
     "text": [
      "killer 100\n"
     ]
    }
   ],
   "source": [
    "z=100\n",
    "print('killer',z)"
   ]
  },
  {
   "cell_type": "code",
   "execution_count": 10,
   "id": "752289c5-6733-42d7-bdd7-59960954912f",
   "metadata": {},
   "outputs": [
    {
     "name": "stdout",
     "output_type": "stream",
     "text": [
      "4\n"
     ]
    }
   ],
   "source": [
    "c=4\n",
    "d=9\n",
    "print(c)"
   ]
  },
  {
   "cell_type": "code",
   "execution_count": 11,
   "id": "e8bdcea6-f385-4a1e-8a0d-08b7629b9dad",
   "metadata": {},
   "outputs": [
    {
     "ename": "NameError",
     "evalue": "name 'u' is not defined",
     "output_type": "error",
     "traceback": [
      "\u001b[1;31m---------------------------------------------------------------------------\u001b[0m",
      "\u001b[1;31mNameError\u001b[0m                                 Traceback (most recent call last)",
      "Input \u001b[1;32mIn [11]\u001b[0m, in \u001b[0;36m<cell line: 2>\u001b[1;34m()\u001b[0m\n\u001b[0;32m      1\u001b[0m x\u001b[38;5;241m=\u001b[39m\u001b[38;5;241m3\u001b[39m\n\u001b[1;32m----> 2\u001b[0m \u001b[38;5;28mprint\u001b[39m(\u001b[43mu\u001b[49m)\n",
      "\u001b[1;31mNameError\u001b[0m: name 'u' is not defined"
     ]
    }
   ],
   "source": [
    "x=3\n",
    "print(u)  \n",
    "#print(x)"
   ]
  },
  {
   "cell_type": "code",
   "execution_count": 15,
   "id": "239ef4b2-d488-4f15-af6b-ea59816a84e9",
   "metadata": {},
   "outputs": [
    {
     "name": "stdout",
     "output_type": "stream",
     "text": [
      "K\n",
      "r\n",
      "n\n"
     ]
    }
   ],
   "source": [
    "a,b,c,d,e,f,g='Krishna'  #sequence assignment . It was aloso known as tupple assingmemt\n",
    "print(a)\n",
    "print(b)\n",
    "print(f)"
   ]
  },
  {
   "cell_type": "code",
   "execution_count": 17,
   "id": "7b99657e-e47b-4ec6-bbba-de7ee7391df3",
   "metadata": {},
   "outputs": [
    {
     "name": "stdout",
     "output_type": "stream",
     "text": [
      "<class 'str'>\n",
      "k\n",
      "<class 'list'>\n",
      "['r', 'i', 's', 'h', 'n', 'a']\n"
     ]
    }
   ],
   "source": [
    "a,*b='krishna'\n",
    "print(type(a))\n",
    "print(a)\n",
    "print(type(b))\n",
    "print(b)"
   ]
  },
  {
   "cell_type": "code",
   "execution_count": 18,
   "id": "432ed198-8d91-4479-b259-f2bb5aea6b92",
   "metadata": {},
   "outputs": [
    {
     "name": "stdout",
     "output_type": "stream",
     "text": [
      "1533511231920\n",
      "5\n",
      "1533511231920\n",
      "5\n"
     ]
    }
   ],
   "source": [
    "a=b=5\n",
    "print(id(a))\n",
    "print(a)\n",
    "print(id(b))\n",
    "print(b)"
   ]
  },
  {
   "cell_type": "code",
   "execution_count": 24,
   "id": "5121e729-9385-4b27-ad01-afa2bf442250",
   "metadata": {},
   "outputs": [
    {
     "name": "stdout",
     "output_type": "stream",
     "text": [
      "8\n",
      "6\n"
     ]
    }
   ],
   "source": [
    "a=4\n",
    "a+=4\n",
    "print(a)\n",
    "\n",
    "spam=2\n",
    "spam+=4\n",
    "print(spam)"
   ]
  },
  {
   "cell_type": "code",
   "execution_count": 39,
   "id": "833de5f1-aa84-4f88-845c-63b5bb1a5a5b",
   "metadata": {},
   "outputs": [
    {
     "name": "stdout",
     "output_type": "stream",
     "text": [
      "Enter the value of a =  3\n",
      "Enter the value of b = 3\n"
     ]
    },
    {
     "name": "stdout",
     "output_type": "stream",
     "text": [
      "Both values are same\n"
     ]
    }
   ],
   "source": [
    "a=int(input('Enter the value of a = '))\n",
    "b=int(input('Enter the value of b =' )) \n",
    "\n",
    "if a>b:\n",
    "    print('a is greater')\n",
    "    if b>a:\n",
    "        print('b is greater')\n",
    "   \n",
    "else:\n",
    "    print('Both values are same')"
   ]
  },
  {
   "cell_type": "code",
   "execution_count": 50,
   "id": "f423e832-67d8-452e-a443-2459e9f2bf96",
   "metadata": {},
   "outputs": [
    {
     "name": "stdout",
     "output_type": "stream",
     "text": [
      "Enter any value =  -4\n"
     ]
    },
    {
     "name": "stdout",
     "output_type": "stream",
     "text": [
      "a values in minus\n"
     ]
    }
   ],
   "source": [
    "a=int(input('Enter any value = '))\n",
    "if a==0 :\n",
    "   print('a is zero')\n",
    "elif a>=0:\n",
    "   print(' a value is greater ')\n",
    "else:\n",
    "   print('a values in minus')"
   ]
  },
  {
   "cell_type": "code",
   "execution_count": 52,
   "id": "dd41adce-9648-4b1c-8672-b4677f974d03",
   "metadata": {},
   "outputs": [
    {
     "name": "stdout",
     "output_type": "stream",
     "text": [
      "no\n"
     ]
    }
   ],
   "source": [
    "if 'y' in 'krishna':\n",
    "    print('yes')\n",
    "else:\n",
    "    print('no')"
   ]
  },
  {
   "cell_type": "code",
   "execution_count": 54,
   "id": "beaf8e82-bef5-4ae3-a540-8d0db1752442",
   "metadata": {},
   "outputs": [
    {
     "name": "stdout",
     "output_type": "stream",
     "text": [
      "yes\n"
     ]
    }
   ],
   "source": [
    "if 1 in {1,2,3}:\n",
    "    print('yes')\n",
    "else:\n",
    "    print('no')\n"
   ]
  },
  {
   "cell_type": "code",
   "execution_count": 55,
   "id": "2134f125-fa21-4d32-a757-8118a93197c6",
   "metadata": {},
   "outputs": [
    {
     "name": "stdout",
     "output_type": "stream",
     "text": [
      "k =  3\n"
     ]
    }
   ],
   "source": [
    "k=3\n",
    "print('k = ',k)"
   ]
  },
  {
   "cell_type": "code",
   "execution_count": 56,
   "id": "3e085fd4-ab98-4833-8307-ba7fe2ab34c3",
   "metadata": {},
   "outputs": [
    {
     "name": "stdout",
     "output_type": "stream",
     "text": [
      "Help on built-in function len in module builtins:\n",
      "\n",
      "len(obj, /)\n",
      "    Return the number of items in a container.\n",
      "\n"
     ]
    }
   ],
   "source": [
    "help(len)"
   ]
  },
  {
   "cell_type": "code",
   "execution_count": 65,
   "id": "d34c45bd-e829-4828-9d43-534923693b0a",
   "metadata": {},
   "outputs": [
    {
     "name": "stdout",
     "output_type": "stream",
     "text": [
      "<function addnumber at 0x0000016513450670>\n",
      "<class 'function'>\n",
      "Addition is  98\n",
      "Addition Done\n",
      "<function addnumber at 0x0000016513450670>\n",
      "Help on function addnumber in module __main__:\n",
      "\n",
      "addnumber(x, y)\n",
      "    My this function gives two value given by you\n",
      "\n",
      "None\n"
     ]
    }
   ],
   "source": [
    "def addnumber(x,y):  # def means defination of function\n",
    "    'My this function gives two value given by you'   #-->  This is known as docstrig. It means why you write this function\n",
    "    print('Addition is ',x+y)\n",
    "    print('Addition Done')\n",
    "    return\n",
    "\n",
    "print(addnumber)\n",
    "print(type(addnumber))\n",
    "addnumber(43,55)\n",
    "print(addnumber)\n",
    "print(help(addnumber))"
   ]
  },
  {
   "cell_type": "code",
   "execution_count": 66,
   "id": "d3ff6067-0902-4530-a618-36509d982f71",
   "metadata": {},
   "outputs": [
    {
     "name": "stdout",
     "output_type": "stream",
     "text": [
      "Help on built-in function print in module builtins:\n",
      "\n",
      "print(...)\n",
      "    print(value, ..., sep=' ', end='\\n', file=sys.stdout, flush=False)\n",
      "    \n",
      "    Prints the values to a stream, or to sys.stdout by default.\n",
      "    Optional keyword arguments:\n",
      "    file:  a file-like object (stream); defaults to the current sys.stdout.\n",
      "    sep:   string inserted between values, default a space.\n",
      "    end:   string appended after the last value, default a newline.\n",
      "    flush: whether to forcibly flush the stream.\n",
      "\n"
     ]
    }
   ],
   "source": [
    "help(print)"
   ]
  },
  {
   "cell_type": "code",
   "execution_count": 69,
   "id": "47e5a997-9d67-48f4-9385-1c37ee29a423",
   "metadata": {},
   "outputs": [
    {
     "name": "stdout",
     "output_type": "stream",
     "text": [
      "My this function gives two value given by you\n"
     ]
    }
   ],
   "source": [
    "print(addnumber.__doc__)"
   ]
  },
  {
   "cell_type": "code",
   "execution_count": 75,
   "id": "388c6f04-d6e2-420c-b7a6-3d595057a41b",
   "metadata": {},
   "outputs": [
    {
     "name": "stdout",
     "output_type": "stream",
     "text": [
      "4,4,3,24,krishna->->->rohan\n"
     ]
    }
   ],
   "source": [
    "print(4,4,3,24,sep=(','),end=(','))\n",
    "print('krishna',end=('->->->'))\n",
    "print('rohan')"
   ]
  },
  {
   "cell_type": "code",
   "execution_count": 83,
   "id": "f4106b36-b93f-4d84-881e-9af09c16680c",
   "metadata": {},
   "outputs": [
    {
     "name": "stdout",
     "output_type": "stream",
     "text": [
      "---***a=***90***rish***krish***neel\n"
     ]
    }
   ],
   "source": [
    "a=90\n",
    "print(\"---\",\"a=\",a,\"rish\",\"krish\",\"neel\" ,sep=('***'))\n",
    "      "
   ]
  },
  {
   "cell_type": "code",
   "execution_count": 91,
   "id": "a068474b-fd5d-49d4-8652-03582e9b55e4",
   "metadata": {},
   "outputs": [],
   "source": [
    "myfile=open(\"krishna.txt\",'w')\n",
    "a=90\n",
    "print(\"---\",\"a=\",a,\"rish\",\"krish\",\"neel\" ,file=myfile)\n",
    "print('Hello Everyone My Name Is Krishna Agrawa',file=myfile)\n",
    "print('I Am 17 Years Old',file=myfile)\n",
    "myfile.close()\n"
   ]
  },
  {
   "cell_type": "code",
   "execution_count": 88,
   "id": "4eb62a53-2894-422d-b6ba-3a5447935ea8",
   "metadata": {},
   "outputs": [
    {
     "name": "stdout",
     "output_type": "stream",
     "text": [
      "C:\\Users\\KRISHNA AGRAWAL\n",
      "D:\\python practice\n"
     ]
    }
   ],
   "source": [
    "import os\n",
    "print(os.getcwd())\n",
    "os.chdir('D:\\python practice')\n",
    "print(os.getcwd())"
   ]
  },
  {
   "cell_type": "code",
   "execution_count": 94,
   "id": "81416aab-8188-42b1-88d8-bdd6881117fc",
   "metadata": {},
   "outputs": [
    {
     "name": "stdout",
     "output_type": "stream",
     "text": [
      "--- a= 90 rish krish neel\n",
      "Hello Everyone My Name Is Krishna Agrawa\n",
      "I Am 17 Years Old\n",
      "\n"
     ]
    }
   ],
   "source": [
    "sourcefile=open('krishna.txt')\n",
    "print(sourcefile.read())\n",
    "sourcefile.close()\n"
   ]
  },
  {
   "cell_type": "code",
   "execution_count": 96,
   "id": "86b0ded6-c317-4cac-a669-2fc26beae6e2",
   "metadata": {},
   "outputs": [
    {
     "name": "stdout",
     "output_type": "stream",
     "text": [
      "Enter the value of a =  2.2\n"
     ]
    },
    {
     "name": "stdout",
     "output_type": "stream",
     "text": [
      "In Integers only\n",
      "In\n"
     ]
    }
   ],
   "source": [
    "try:\n",
    "    a=int(input('Enter the value of a = '))\n",
    "    b=int(input('Enter the value of b = '))\n",
    "    print(type(a))\n",
    "    print(type(b))\n",
    "    print('Addition of two numbers is = ',a+b)\n",
    "except:\n",
    "    print('In Integers only')\n",
    "finally:\n",
    "    print('In')\n",
    "    \n",
    "    \n",
    "# remember the input statement is a string "
   ]
  },
  {
   "cell_type": "code",
   "execution_count": 101,
   "id": "bb6fafa2-ee3d-4a53-8b93-1763f4a37052",
   "metadata": {},
   "outputs": [
    {
     "name": "stdout",
     "output_type": "stream",
     "text": [
      "Enter the value of a =  2.2\n"
     ]
    },
    {
     "ename": "ValueError",
     "evalue": "invalid literal for int() with base 10: '2.2'",
     "output_type": "error",
     "traceback": [
      "\u001b[1;31m---------------------------------------------------------------------------\u001b[0m",
      "\u001b[1;31mValueError\u001b[0m                                Traceback (most recent call last)",
      "Input \u001b[1;32mIn [101]\u001b[0m, in \u001b[0;36m<cell line: 1>\u001b[1;34m()\u001b[0m\n\u001b[1;32m----> 1\u001b[0m a\u001b[38;5;241m=\u001b[39m\u001b[38;5;28;43mint\u001b[39;49m\u001b[43m(\u001b[49m\u001b[38;5;28;43minput\u001b[39;49m\u001b[43m(\u001b[49m\u001b[38;5;124;43m'\u001b[39;49m\u001b[38;5;124;43mEnter the value of a = \u001b[39;49m\u001b[38;5;124;43m'\u001b[39;49m\u001b[43m)\u001b[49m\u001b[43m)\u001b[49m\n\u001b[0;32m      2\u001b[0m b\u001b[38;5;241m=\u001b[39m\u001b[38;5;28mint\u001b[39m(\u001b[38;5;28minput\u001b[39m(\u001b[38;5;124m'\u001b[39m\u001b[38;5;124mEnter the value of b = \u001b[39m\u001b[38;5;124m'\u001b[39m))\n\u001b[0;32m      3\u001b[0m \u001b[38;5;28mprint\u001b[39m(\u001b[38;5;28mtype\u001b[39m(a))\n",
      "\u001b[1;31mValueError\u001b[0m: invalid literal for int() with base 10: '2.2'"
     ]
    }
   ],
   "source": [
    "a=int(input('Enter the value of a = '))\n",
    "b=int(input('Enter the value of b = '))\n",
    "print(type(a))\n",
    "print(type(b))\n",
    "print('Addition of two numbers is = ',a+b)"
   ]
  },
  {
   "cell_type": "code",
   "execution_count": 105,
   "id": "fa978d4b-bd5c-453c-95a3-9e425a262740",
   "metadata": {},
   "outputs": [
    {
     "name": "stdout",
     "output_type": "stream",
     "text": [
      "Enter the value of a =  2322322\n"
     ]
    },
    {
     "name": "stdout",
     "output_type": "stream",
     "text": [
      "<class 'list'>\n",
      "['2', '3', '2', '2', '3', '2', '2']\n"
     ]
    }
   ],
   "source": [
    "a=list(input('Enter the value of a = '))\n",
    "\n",
    "print(type(a))\n",
    "\n",
    "print(a)\n"
   ]
  },
  {
   "cell_type": "code",
   "execution_count": 106,
   "id": "190c8425-7b16-43f7-ba77-74cca524f286",
   "metadata": {},
   "outputs": [
    {
     "name": "stdout",
     "output_type": "stream",
     "text": [
      "Enter the value of a =  3434343\n"
     ]
    },
    {
     "name": "stdout",
     "output_type": "stream",
     "text": [
      "('3', '4', '3', '4', '3', '4', '3')\n"
     ]
    }
   ],
   "source": [
    "a=tuple(input('Enter the value of a = '))\n",
    "print(a)"
   ]
  },
  {
   "cell_type": "code",
   "execution_count": 112,
   "id": "0c23125c-bfe5-4492-96f4-6fa8a10cba44",
   "metadata": {},
   "outputs": [
    {
     "name": "stdout",
     "output_type": "stream",
     "text": [
      "Enter number =  2\n",
      "Enter 2 number =  2\n"
     ]
    },
    {
     "name": "stdout",
     "output_type": "stream",
     "text": [
      "The addition is  4\n"
     ]
    }
   ],
   "source": [
    "num1=input('Enter number = ')\n",
    "num2=input('Enter 2 number = ')\n",
    "\n",
    "print('The addition is ',int(num1)+int(num2))\n",
    "# print('The addition is ',int(num1+num2))"
   ]
  },
  {
   "cell_type": "code",
   "execution_count": 143,
   "id": "714edf18-042d-45c7-b984-c108d5986ca8",
   "metadata": {},
   "outputs": [
    {
     "name": "stdout",
     "output_type": "stream",
     "text": [
      "Please Enter Your Income =  100000\n"
     ]
    },
    {
     "name": "stdout",
     "output_type": "stream",
     "text": [
      "You have to pay the tax = 20000.0\n",
      "\n",
      "After paying the tax your income will be = 80000.0\n"
     ]
    }
   ],
   "source": [
    "income=float(input('Please Enter Your Income = '))\n",
    "if income>=0 and income<=100:\n",
    "    print(\"Comgratulations You Don't Have To Pay Any Tax\")\n",
    "elif income>=101 and income<=500 :\n",
    "    tax=income*5/100\n",
    "    income=income+tax\n",
    "    print(f\"You have to pay the tax = {tax}\\n\")\n",
    "    print(f\"After paying the tax your income will be = {income}\")\n",
    "elif income>=501 and income<=10000 :\n",
    "    tax=income*10/100\n",
    "    income=income+tax\n",
    "    print(f\"You have to pay the tax = {tax}\\n\")\n",
    "    print(f\"After paying the tax your income will be = {income}\")\n",
    "elif income>10001 and income<=50000 :\n",
    "    tax=income*15/100\n",
    "    income=income+tax\n",
    "    print(f\"You have to pay the tax = {tax}\\n\")\n",
    "    print(f\"After paying the tax your income will be = {income}\")\n",
    "else:\n",
    "    tax=income*20/100\n",
    "    income=income-tax\n",
    "    print(f\"You have to pay the tax = {tax}\\n\")\n",
    "    print(f\"After paying the tax your income will be = {income}\")\n",
    "     \n",
    "    \n",
    "\n",
    "    \n",
    "\n"
   ]
  },
  {
   "cell_type": "code",
   "execution_count": 153,
   "id": "f017b646-4d1f-4ec1-9491-d89bf31bbf37",
   "metadata": {},
   "outputs": [
    {
     "name": "stdout",
     "output_type": "stream",
     "text": [
      "Enter Your Gender =  M\n",
      "Enter Your Age =  2\n"
     ]
    },
    {
     "name": "stdout",
     "output_type": "stream",
     "text": [
      "You Are Not Elligible For Marriage...\n"
     ]
    }
   ],
   "source": [
    "c=input('Enter Your Gender = ')\n",
    "age=int(input('Enter Your Age = '))\n",
    "if c=='f' or c=='F':\n",
    "    if age>=21:\n",
    "        print(\"Congratulations! You Are Elligible For Marriage...\")\n",
    "    else:\n",
    "         print(\"You Are Not Elligible For Marriage...\")\n",
    "        \n",
    "elif c=='m' or c=='M':\n",
    "    if age>=18:\n",
    "        print(\"Congratulations! Your Are Elligible For Marriage...\")\n",
    "    else:\n",
    "        print(\"You Are Not Elligible For Marriage...\")\n",
    "else:\n",
    "    print(\"Error\")\n"
   ]
  },
  {
   "cell_type": "code",
   "execution_count": 1,
   "id": "9dc5baa5-e560-4b88-8fe5-a777cb72c59d",
   "metadata": {},
   "outputs": [],
   "source": [
    "#   Now We Are Learning About for loops and while loops"
   ]
  },
  {
   "cell_type": "code",
   "execution_count": 12,
   "id": "5ede6e34-fa5d-4b1c-aef6-72b86fb047e1",
   "metadata": {},
   "outputs": [
    {
     "name": "stdout",
     "output_type": "stream",
     "text": [
      "The value of  1 is 1\n",
      "The value of  2 is 2\n",
      "The value of  3 is 3\n",
      "The value of  4 is 4\n",
      "The value of  5 is 5\n",
      "The value of  6 is 6\n",
      "The value of  7 is 7\n",
      "The value of  8 is 8\n",
      "The value of  9 is 9\n",
      "The value of  10 is 10\n",
      "The value of  11 is 11\n",
      "The value of  12 is 12\n",
      "The value of  13 is 13\n",
      "The value of  14 is 14\n",
      "The value of  15 is 15\n",
      "The value of  16 is 16\n",
      "The value of  17 is 17\n",
      "The value of  18 is 18\n",
      "The value of  19 is 19\n",
      "The value of  20 is 20\n",
      "The value of  21 is 21\n",
      "The value of  22 is 22\n",
      "The value of  23 is 23\n",
      "The value of  24 is 24\n",
      "The value of  25 is 25\n",
      "The value of  26 is 26\n",
      "The value of  27 is 27\n",
      "The value of  28 is 28\n",
      "The value of  29 is 29\n",
      "The value of  30 is 30\n",
      "The value of  31 is 31\n",
      "The value of  32 is 32\n",
      "The value of  33 is 33\n",
      "The value of  34 is 34\n",
      "The value of  35 is 35\n",
      "The value of  36 is 36\n",
      "The value of  37 is 37\n",
      "The value of  38 is 38\n",
      "The value of  39 is 39\n",
      "The value of  40 is 40\n",
      "The value of  41 is 41\n",
      "The value of  42 is 42\n",
      "The value of  43 is 43\n",
      "The value of  44 is 44\n",
      "The value of  45 is 45\n",
      "The value of  46 is 46\n",
      "The value of  47 is 47\n",
      "The value of  48 is 48\n",
      "The value of  49 is 49\n",
      "The value of  50 is 50\n"
     ]
    }
   ],
   "source": [
    "# f=[20,21,22,23,24,25,26,27,28,29,30,31,32,33,34,35,36,37,38,39,40]\n",
    "i=1\n",
    "# for value in f:\n",
    "#     print('The value of',i,'is',value)\n",
    "\n",
    "for value in range(1,51):\n",
    "                               #for value in range(1,51,2):    for odd number\n",
    "                               #for value in range(0,51,2):    for even number\n",
    "    print('The value of ',i,'is',value)\n",
    "    i+=1"
   ]
  },
  {
   "cell_type": "code",
   "execution_count": 20,
   "id": "cb324877-d060-4fb8-ac48-37538b8e8065",
   "metadata": {},
   "outputs": [
    {
     "name": "stdout",
     "output_type": "stream",
     "text": [
      "Value of 1 is k\n",
      "Value of 2 is r\n",
      "Value of 3 is i\n",
      "Value of 4 is s\n",
      "Value of 5 is h\n",
      "Value of 6 is n\n",
      "Value of 7 is a\n"
     ]
    }
   ],
   "source": [
    "\n",
    "i=1\n",
    "for name in 'krishna':\n",
    "    print(f'Value of {i} is {name}')\n",
    "   # print(f'OK! Your name is ',{name})\n",
    "    i+=1\n",
    "    "
   ]
  },
  {
   "cell_type": "code",
   "execution_count": 38,
   "id": "9fff0559-7540-4831-8dde-51ea32838260",
   "metadata": {},
   "outputs": [
    {
     "name": "stdout",
     "output_type": "stream",
     "text": [
      "The value of 1 is 50\n",
      "The value of 2 is 49\n",
      "The value of 3 is 48\n",
      "The value of 4 is 47\n",
      "The value of 5 is 46\n",
      "The value of 6 is 45\n",
      "The value of 7 is 44\n",
      "The value of 8 is 43\n",
      "The value of 9 is 42\n",
      "The value of 10 is 41\n",
      "The value of 11 is 40\n",
      "The value of 12 is 39\n",
      "The value of 13 is 38\n",
      "The value of 14 is 37\n",
      "The value of 15 is 36\n",
      "The value of 16 is 35\n",
      "The value of 17 is 34\n",
      "The value of 18 is 33\n",
      "The value of 19 is 32\n",
      "The value of 20 is 31\n",
      "The value of 21 is 30\n",
      "The value of 22 is 29\n",
      "The value of 23 is 28\n",
      "The value of 24 is 27\n",
      "The value of 25 is 26\n",
      "The value of 26 is 25\n",
      "The value of 27 is 24\n",
      "The value of 28 is 23\n",
      "The value of 29 is 22\n",
      "The value of 30 is 21\n",
      "The value of 31 is 20\n",
      "The value of 32 is 19\n",
      "The value of 33 is 18\n",
      "The value of 34 is 17\n",
      "The value of 35 is 16\n",
      "The value of 36 is 15\n",
      "The value of 37 is 14\n",
      "The value of 38 is 13\n",
      "The value of 39 is 12\n",
      "The value of 40 is 11\n",
      "The value of 41 is 10\n",
      "The value of 42 is 9\n",
      "The value of 43 is 8\n",
      "The value of 44 is 7\n",
      "The value of 45 is 6\n",
      "The value of 46 is 5\n",
      "The value of 47 is 4\n",
      "The value of 48 is 3\n",
      "The value of 49 is 2\n",
      "The value of 50 is 1\n",
      "The value of 51 is 0\n"
     ]
    }
   ],
   "source": [
    "r=1\n",
    "for q in range(50,-1,-1):\n",
    "    print(f'The value of {r} is {q}')\n",
    "    r+=1"
   ]
  },
  {
   "cell_type": "code",
   "execution_count": 12,
   "id": "78fd19c1-15dc-4930-ad1c-5ff0c20ea61b",
   "metadata": {},
   "outputs": [
    {
     "name": "stdout",
     "output_type": "stream",
     "text": [
      "Value of 1 is k\n",
      "Value of 2 is i\n",
      "Value of 3 is s\n",
      "Value of 4 is h\n",
      "Value of 5 is n\n",
      "Value of 6 is a\n",
      "Value of 7 is  \n",
      "Value of 8 is a\n",
      "Value of 9 is g\n",
      "Value of 10 is a\n",
      "Value of 11 is w\n",
      "Value of 12 is a\n",
      "Value of 13 is l\n",
      "Loop created successfully\n",
      "Thank you\n"
     ]
    }
   ],
   "source": [
    "al=1\n",
    "for a in 'krishna agrawal':\n",
    "   # if a=='r':\n",
    "    if a=='r':\n",
    "       continue\n",
    "        \n",
    "        # break\n",
    "    print(f'Value of {al} is {a}')\n",
    "    al+=1\n",
    "else:\n",
    "    print('Loop created successfully')\n",
    "print(\"Thank you\")\n"
   ]
  },
  {
   "cell_type": "code",
   "execution_count": 14,
   "id": "31de4b81-3544-40d2-a23d-0bdd077daaba",
   "metadata": {},
   "outputs": [
    {
     "name": "stdout",
     "output_type": "stream",
     "text": [
      "My name is krishna\n",
      "My name is bhavesh\n",
      "My name is suresh\n",
      "My name is mandeep\n"
     ]
    }
   ],
   "source": [
    "myname='krishna'\n",
    "names=[myname,'bhavesh','suresh','mandeep']\n",
    "for name in names:\n",
    "    print(f'My name is {name}') \n"
   ]
  },
  {
   "cell_type": "code",
   "execution_count": 23,
   "id": "2d00defd-c182-40c5-abb8-481f0f836e73",
   "metadata": {},
   "outputs": [
    {
     "name": "stdout",
     "output_type": "stream",
     "text": [
      "value of 1 is 1\n",
      "value of 2 is 6\n",
      "value of 3 is 11\n",
      "value of 4 is 16\n",
      "value of 5 is 21\n",
      "value of 6 is 26\n",
      "value of 7 is 31\n",
      "value of 8 is 36\n",
      "value of 9 is 41\n",
      "value of 10 is 46\n",
      "value of 11 is 51\n",
      "value of 12 is 56\n",
      "value of 13 is 61\n",
      "value of 14 is 66\n",
      "value of 15 is 71\n",
      "value of 16 is 76\n",
      "value of 17 is 81\n",
      "value of 18 is 86\n",
      "value of 19 is 91\n",
      "value of 20 is 96\n",
      "value of 21 is 101\n",
      "value of 22 is 106\n",
      "value of 23 is 111\n",
      "value of 24 is 116\n",
      "value of 25 is 121\n",
      "value of 26 is 126\n",
      "value of 27 is 131\n",
      "value of 28 is 136\n",
      "value of 29 is 141\n",
      "value of 30 is 146\n",
      "value of 31 is 151\n",
      "value of 32 is 156\n",
      "value of 33 is 161\n",
      "value of 34 is 166\n",
      "value of 35 is 171\n",
      "value of 36 is 176\n",
      "value of 37 is 181\n",
      "value of 38 is 186\n",
      "value of 39 is 191\n",
      "value of 40 is 196\n"
     ]
    }
   ],
   "source": [
    "f=1\n",
    "for i in range(1,201,5):\n",
    "    print(f'value of {f} is {i}')\n",
    "    f+=1"
   ]
  },
  {
   "cell_type": "code",
   "execution_count": 35,
   "id": "1b44dd8f-861a-4919-8e5f-b6c5c1daee75",
   "metadata": {},
   "outputs": [
    {
     "name": "stdout",
     "output_type": "stream",
     "text": [
      "1 11 21 31 41 51 61 71 81 91 "
     ]
    }
   ],
   "source": [
    "for i in range(1,101,10):\n",
    "     print(i , end=\" \")"
   ]
  },
  {
   "cell_type": "code",
   "execution_count": 36,
   "id": "f6874fdf-644d-44f3-a190-01580420f0b9",
   "metadata": {},
   "outputs": [
    {
     "name": "stdout",
     "output_type": "stream",
     "text": [
      "0\n"
     ]
    }
   ],
   "source": [
    "\n",
    "for i in range(0,1,2):\n",
    "    print(i)\n"
   ]
  },
  {
   "cell_type": "code",
   "execution_count": 42,
   "id": "213ccb59-23d6-42d7-9151-d4c15f598b99",
   "metadata": {},
   "outputs": [
    {
     "name": "stdout",
     "output_type": "stream",
     "text": [
      "The Square of 0 is 0\n",
      "The Square of 1 is 1\n",
      "The Square of 2 is 4\n",
      "The Square of 3 is 9\n",
      "The Square of 4 is 16\n",
      "The Square of 5 is 25\n",
      "The Square of 6 is 36\n",
      "The Square of 7 is 49\n",
      "The Square of 8 is 64\n",
      "The Square of 9 is 81\n",
      "The Square of 10 is 100\n",
      "The Square of 11 is 121\n",
      "The Square of 12 is 144\n",
      "The Square of 13 is 169\n",
      "The Square of 14 is 196\n",
      "The Square of 15 is 225\n",
      "The Square of 16 is 256\n",
      "The Square of 17 is 289\n",
      "The Square of 18 is 324\n",
      "The Square of 19 is 361\n",
      "The Square of 20 is 400\n"
     ]
    }
   ],
   "source": [
    "for i in range(0,21):\n",
    "    print(f'The Square of {i} is {i**2}')"
   ]
  },
  {
   "cell_type": "code",
   "execution_count": 57,
   "id": "1f597db4-39b9-4e75-8b66-a097c8cea884",
   "metadata": {},
   "outputs": [
    {
     "name": "stdout",
     "output_type": "stream",
     "text": [
      "[0, 1, 2, 3, 4]\n",
      "The sum is =  10\n",
      "The mul is =  24\n"
     ]
    }
   ],
   "source": [
    "value=list(range(0,5))\n",
    "print(value)\n",
    "sum=0;mul=1\n",
    "for v in values:\n",
    "    sum=sum+v\n",
    "    mul=mul*v\n",
    "print('The sum is = ',sum)\n",
    "print('The mul is = ',mul)"
   ]
  },
  {
   "cell_type": "code",
   "execution_count": 58,
   "id": "a2fb9ac3-e894-4406-b47f-9a80354e3b4c",
   "metadata": {},
   "outputs": [
    {
     "name": "stdout",
     "output_type": "stream",
     "text": [
      "1--8--27--64--125--216--343--512--729--"
     ]
    }
   ],
   "source": [
    "for i in range(1,10):\n",
    "    print(i**3,end='--')"
   ]
  },
  {
   "cell_type": "code",
   "execution_count": 62,
   "id": "b35f0bfd-6420-41eb-be4c-444126c78cf1",
   "metadata": {},
   "outputs": [
    {
     "name": "stdout",
     "output_type": "stream",
     "text": [
      "[2, 5, 8, 11, 14, 17, 20, 23, 26, 29, 32, 35, 38, 41, 44, 47, 50, 53, 56, 59, 62, 65, 68, 71, 74, 77, 80, 83, 86, 89, 92, 95, 98, 101, 104, 107, 110, 113, 116, 119, 122, 125, 128, 131, 134, 137, 140, 143, 146, 149]\n"
     ]
    }
   ],
   "source": [
    "a=[]\n",
    "for i in range(1,51):\n",
    "    a.append(i*3 -1)\n",
    "print(a)"
   ]
  },
  {
   "cell_type": "code",
   "execution_count": 77,
   "id": "bf58687f-5ad2-42ba-ae9a-68b585985307",
   "metadata": {},
   "outputs": [
    {
     "name": "stdout",
     "output_type": "stream",
     "text": [
      "[0, 1, 2]\n",
      "I love to eat mango\n",
      "I love to eat apple\n",
      "I love to eat banana\n"
     ]
    }
   ],
   "source": [
    "fruits=['mango','apple','banana']\n",
    "l=len(fruits)\n",
    "print(list(range(l)))\n",
    "\n",
    "for i in range(l):\n",
    "    print('I love to eat',fruits[i])"
   ]
  },
  {
   "cell_type": "code",
   "execution_count": 81,
   "id": "f1d60e98-4179-4286-adad-3b3a52afb466",
   "metadata": {},
   "outputs": [
    {
     "name": "stdout",
     "output_type": "stream",
     "text": [
      "[0, 1, 2]\n",
      "I Want To Play With dog\n",
      "I Want To Play With lion\n",
      "I Want To Play With pigeon\n"
     ]
    }
   ],
   "source": [
    "animal=['dog','lion','pigeon']\n",
    "a=len(animal)\n",
    "print(list(range(a)))\n",
    "\n",
    "for i in range(a):\n",
    "    print('I Want To Play With',animal[i])"
   ]
  },
  {
   "cell_type": "code",
   "execution_count": 85,
   "id": "2e625d9d-dd29-4658-a6d8-d0e39cf65e77",
   "metadata": {},
   "outputs": [
    {
     "name": "stdout",
     "output_type": "stream",
     "text": [
      "I Love To Eat dragon\n",
      "I Love To Eat mango\n",
      "Loop Worked Successfully\n"
     ]
    }
   ],
   "source": [
    "fruit=['apple','dragon','mango']\n",
    "for fruits in fruit:\n",
    "    if fruits[0] == 'a':\n",
    "        continue\n",
    "    print('I Love To Eat',fruits)\n",
    "else:\n",
    "    print('Loop Worked Successfully')"
   ]
  },
  {
   "cell_type": "code",
   "execution_count": 87,
   "id": "bf424fcc-7c33-4959-9c00-da708c174982",
   "metadata": {},
   "outputs": [
    {
     "data": {
      "text/plain": [
       "'\\nSyntax offf while loop \\nwhile expression:          --   expression means true or false\\n   do something\\n'"
      ]
     },
     "execution_count": 87,
     "metadata": {},
     "output_type": "execute_result"
    }
   ],
   "source": [
    "'''\n",
    "Syntax offf while loop \n",
    "while expression:          --   expression means true or false\n",
    "   do something\n",
    "'''\n"
   ]
  },
  {
   "cell_type": "code",
   "execution_count": null,
   "id": "7191bd76-efd5-4331-915c-216c9a1256a0",
   "metadata": {},
   "outputs": [],
   "source": []
  },
  {
   "cell_type": "code",
   "execution_count": 3,
   "id": "b7c10021-cae1-42ba-883c-4a643f127be0",
   "metadata": {},
   "outputs": [
    {
     "name": "stdout",
     "output_type": "stream",
     "text": [
      "Enter any whole number =  4\n"
     ]
    },
    {
     "name": "stdout",
     "output_type": "stream",
     "text": [
      "a is  3\n",
      "a is  2\n",
      "a is  1\n",
      "a is  0\n"
     ]
    }
   ],
   "source": [
    "a=int(input('Enter any whole number = '))\n",
    "while a!=0:\n",
    "    if a>=0:\n",
    "        a-=1\n",
    "        print('a is ',a)\n",
    "    else:\n",
    "        a+=1\n",
    "        print('a is ',a)\n",
    "  "
   ]
  },
  {
   "cell_type": "code",
   "execution_count": 16,
   "id": "8e2dc58d-b9eb-4555-98da-2ee51b43b209",
   "metadata": {},
   "outputs": [
    {
     "name": "stdout",
     "output_type": "stream",
     "text": [
      "5050\n"
     ]
    }
   ],
   "source": [
    "n=100\n",
    "i=1\n",
    "sum=0\n",
    "while i<=n:\n",
    "    sum+=i\n",
    "    i+=1\n",
    "print(sum)"
   ]
  },
  {
   "cell_type": "code",
   "execution_count": 17,
   "id": "de94d885-693b-43a1-846d-61beb86d9660",
   "metadata": {},
   "outputs": [
    {
     "name": "stdout",
     "output_type": "stream",
     "text": [
      "3123750\n"
     ]
    }
   ],
   "source": [
    "sum=0\n",
    "for i in range(1,2500):\n",
    "    sum+=i\n",
    "print(sum)\n"
   ]
  },
  {
   "cell_type": "code",
   "execution_count": 28,
   "id": "e1a71de4-a9aa-4a3d-9c1b-96452d06acdc",
   "metadata": {},
   "outputs": [
    {
     "name": "stdout",
     "output_type": "stream",
     "text": [
      "Enter any number =  23\n",
      "Enter any number =  34\n",
      "Enter any number =  45\n",
      "Enter any number =  56\n",
      "Enter any number =  67\n",
      "Enter any number =  -67\n",
      "Enter any number =  -78\n",
      "Enter any number =  -100\n",
      "Enter any number =  -102\n",
      "Enter any number =  -23.2\n",
      "Enter any number =  -20.1\n",
      "Enter any number =  34.3\n",
      "Enter any number =  -1\n"
     ]
    },
    {
     "name": "stdout",
     "output_type": "stream",
     "text": [
      "The total sum is = -131.0\n"
     ]
    }
   ],
   "source": [
    "# The question is that : enter any numbers till user input -1 , and get the sum of all number that user has input\n",
    "sum=0\n",
    "while True:\n",
    "    n=float(input('Enter any number = '))\n",
    "    if n == -1:\n",
    "        break\n",
    "    sum+=n\n",
    "print(f'The total sum is = {sum}')"
   ]
  },
  {
   "cell_type": "code",
   "execution_count": 31,
   "id": "99fc0d56-d056-4d98-9491-6c7c6a73b0ca",
   "metadata": {},
   "outputs": [
    {
     "name": "stdout",
     "output_type": "stream",
     "text": [
      "Enter any number until user input quit =  56\n",
      "Enter any number until user input quit =  12\n",
      "Enter any number until user input quit =  90\n",
      "Enter any number until user input quit =  -78.76\n",
      "Enter any number until user input quit =  -563.5\n",
      "Enter any number until user input quit =  45.34\n",
      "Enter any number until user input quit =  78\n",
      "Enter any number until user input quit =  quit\n"
     ]
    },
    {
     "name": "stdout",
     "output_type": "stream",
     "text": [
      "The sum is = -360.91999999999996\n"
     ]
    }
   ],
   "source": [
    "sum=0\n",
    "while True:\n",
    "    n=input('Enter any number until user input quit = ')\n",
    "    if n=='quit':\n",
    "        break\n",
    "    sum+=float(n)\n",
    "print(f'The sum is = {sum}')\n"
   ]
  },
  {
   "cell_type": "code",
   "execution_count": 3,
   "id": "d78e2661-3046-4f05-8b9a-ee5d2c3f956a",
   "metadata": {},
   "outputs": [
    {
     "name": "stdout",
     "output_type": "stream",
     "text": [
      "user value is  21\n",
      "user value is  20\n",
      "user value is  19\n",
      "user value is  18\n",
      "user value is  17\n",
      "user value is  16\n",
      "user value is  15\n",
      "user value is  14\n",
      "user value is  13\n",
      "user value is  12\n",
      "user value is  11\n",
      "user value is  10\n",
      "user value is  9\n",
      "user value is  8\n",
      "user value is  7\n",
      "user value is  6\n",
      "user value is  5\n",
      "user value is  4\n"
     ]
    }
   ],
   "source": [
    "user=21\n",
    "while user>0:\n",
    "    print('user value is ',user)\n",
    "    if user==4:\n",
    "        break\n",
    "    user-=1    \n",
    "else:\n",
    "    print('Ok your process have not error')"
   ]
  },
  {
   "cell_type": "code",
   "execution_count": 4,
   "id": "f3c7dff1-1cd7-44d7-95e2-d32e0602ff57",
   "metadata": {},
   "outputs": [
    {
     "name": "stdout",
     "output_type": "stream",
     "text": [
      "The value is =  21\n",
      "The value is =  20\n",
      "The value is =  19\n",
      "The value is =  18\n",
      "The value is =  17\n",
      "The value is =  16\n",
      "The value is =  15\n",
      "The value is =  14\n",
      "The value is =  13\n",
      "The value is =  12\n",
      "The value is =  11\n",
      "The value is =  10\n",
      "The value is =  9\n",
      "The value is =  8\n",
      "The value is =  7\n",
      "The value is =  6\n",
      "The value is =  5\n",
      "The value is =  3\n",
      "The value is =  2\n",
      "The value is =  1\n",
      "done\n"
     ]
    }
   ],
   "source": [
    "for user in range(21,0,-1):\n",
    "    if user==4:\n",
    "        continue\n",
    "    print('The value is = ',user)\n",
    "else:\n",
    "    print('done')"
   ]
  },
  {
   "cell_type": "code",
   "execution_count": 1,
   "id": "f46d9336-0955-4805-afc9-1f1df1985fe1",
   "metadata": {},
   "outputs": [
    {
     "name": "stdout",
     "output_type": "stream",
     "text": [
      "Enter any number =  9\n"
     ]
    },
    {
     "name": "stdout",
     "output_type": "stream",
     "text": [
      "8\n",
      "6\n",
      "4\n",
      "2\n",
      "0\n"
     ]
    }
   ],
   "source": [
    "#print only even numbers enter by user , it can be either positive or negative\n",
    "n=int(input('Enter any number = '))\n",
    "if n>0:\n",
    "    while n:\n",
    "        n=n-1\n",
    "        if n%2!=0:\n",
    "            continue\n",
    "        else:\n",
    "            print(n)\n",
    "while n<0:\n",
    "    n=n+1\n",
    "    if n%2!=0:\n",
    "        continue\n",
    "    else:\n",
    "        print(n)\n",
    "        \n",
    "# do Again\n",
    "    "
   ]
  },
  {
   "cell_type": "code",
   "execution_count": 8,
   "id": "76a7b0db-3eec-43b5-9e40-85ad54df398a",
   "metadata": {},
   "outputs": [
    {
     "name": "stdout",
     "output_type": "stream",
     "text": [
      "Enter any whole number =  -13\n"
     ]
    },
    {
     "name": "stdout",
     "output_type": "stream",
     "text": [
      "-11\n",
      "-9\n",
      "-7\n",
      "-5\n",
      "-3\n",
      "-1\n"
     ]
    }
   ],
   "source": [
    "#print only odd numbers enter by user , it can be either positive or negative\n",
    "n=int(input('Enter any whole number = '))\n",
    "if n>0:\n",
    "    while (n):\n",
    "        n=n-1\n",
    "        if n%2==0:\n",
    "            continue\n",
    "        else:\n",
    "            print(n)\n",
    "if n<0:\n",
    "    while(n):\n",
    "        n=n+1\n",
    "        if n%2==0:\n",
    "            continue\n",
    "        else:\n",
    "            print(n)\n",
    "            \n",
    "        "
   ]
  },
  {
   "cell_type": "code",
   "execution_count": 3,
   "id": "0e7c2f92-8932-496f-a072-fb0a5c02f204",
   "metadata": {},
   "outputs": [
    {
     "name": "stdout",
     "output_type": "stream",
     "text": [
      "2022-10-07 11:23:19.622942\n"
     ]
    }
   ],
   "source": [
    "import datetime\n",
    "time=datetime.datetime.now()\n",
    "print(time)"
   ]
  },
  {
   "cell_type": "code",
   "execution_count": 6,
   "id": "293c4008-e55b-4aaf-86dc-47ede658a422",
   "metadata": {},
   "outputs": [
    {
     "name": "stdout",
     "output_type": "stream",
     "text": [
      "2022-10-07 11:24:58.456669\n"
     ]
    }
   ],
   "source": [
    "from datetime import datetime\n",
    "time=datetime.now()\n",
    "print(time)"
   ]
  },
  {
   "cell_type": "code",
   "execution_count": 7,
   "id": "650486d2-136c-4aee-8b87-d2f59e4d470c",
   "metadata": {},
   "outputs": [
    {
     "data": {
      "text/plain": [
       "\u001b[1;31mInit signature:\u001b[0m \u001b[0mdatetime\u001b[0m\u001b[1;33m(\u001b[0m\u001b[0mself\u001b[0m\u001b[1;33m,\u001b[0m \u001b[1;33m/\u001b[0m\u001b[1;33m,\u001b[0m \u001b[1;33m*\u001b[0m\u001b[0margs\u001b[0m\u001b[1;33m,\u001b[0m \u001b[1;33m**\u001b[0m\u001b[0mkwargs\u001b[0m\u001b[1;33m)\u001b[0m\u001b[1;33m\u001b[0m\u001b[1;33m\u001b[0m\u001b[0m\n",
       "\u001b[1;31mDocstring:\u001b[0m     \n",
       "datetime(year, month, day[, hour[, minute[, second[, microsecond[,tzinfo]]]]])\n",
       "\n",
       "The year, month and day arguments are required. tzinfo may be None, or an\n",
       "instance of a tzinfo subclass. The remaining arguments may be ints.\n",
       "\u001b[1;31mFile:\u001b[0m           e:\\anaconda\\lib\\datetime.py\n",
       "\u001b[1;31mType:\u001b[0m           type\n",
       "\u001b[1;31mSubclasses:\u001b[0m     datetime\n"
      ]
     },
     "metadata": {},
     "output_type": "display_data"
    }
   ],
   "source": [
    "datetime?"
   ]
  },
  {
   "cell_type": "code",
   "execution_count": 8,
   "id": "a8bc8cdf-f947-4a92-a85f-956e27f2316f",
   "metadata": {},
   "outputs": [
    {
     "name": "stdout",
     "output_type": "stream",
     "text": [
      "['C:\\\\Users\\\\KRISHNA AGRAWAL', 'E:\\\\anaconda\\\\python39.zip', 'E:\\\\anaconda\\\\DLLs', 'E:\\\\anaconda\\\\lib', 'E:\\\\anaconda', '', 'E:\\\\anaconda\\\\lib\\\\site-packages', 'E:\\\\anaconda\\\\lib\\\\site-packages\\\\win32', 'E:\\\\anaconda\\\\lib\\\\site-packages\\\\win32\\\\lib', 'E:\\\\anaconda\\\\lib\\\\site-packages\\\\Pythonwin']\n"
     ]
    }
   ],
   "source": [
    "import sys\n",
    "print(sys.path)"
   ]
  },
  {
   "cell_type": "code",
   "execution_count": 9,
   "id": "0ae8596e-7edf-447c-899b-49fa7c118f6b",
   "metadata": {},
   "outputs": [
    {
     "name": "stdout",
     "output_type": "stream",
     "text": [
      "The total sum is  55\n"
     ]
    }
   ],
   "source": [
    "n=10\n",
    "i=1\n",
    "sum=0\n",
    "while i<=n:\n",
    "    sum+=i\n",
    "    i+=1\n",
    "print('The total sum is ',sum)"
   ]
  },
  {
   "cell_type": "code",
   "execution_count": 12,
   "id": "b5545c0f-cd11-49c6-958b-867d07fd5b9c",
   "metadata": {},
   "outputs": [
    {
     "name": "stdout",
     "output_type": "stream",
     "text": [
      "The sum of 20 is  210\n"
     ]
    }
   ],
   "source": [
    " sum=0\n",
    "for i in range(1,21):\n",
    "    sum+=i\n",
    "    i+=1\n",
    "print('The sum of 20 is ',sum)\n",
    "    "
   ]
  },
  {
   "cell_type": "code",
   "execution_count": null,
   "id": "2fa7cc46-7067-4c2f-adb7-c7bee4821a3a",
   "metadata": {},
   "outputs": [],
   "source": []
  }
 ],
 "metadata": {
  "kernelspec": {
   "display_name": "Python 3.10.7 64-bit",
   "language": "python",
   "name": "python3"
  },
  "language_info": {
   "codemirror_mode": {
    "name": "ipython",
    "version": 3
   },
   "file_extension": ".py",
   "mimetype": "text/x-python",
   "name": "python",
   "nbconvert_exporter": "python",
   "pygments_lexer": "ipython3",
   "version": "3.10.7"
  },
  "vscode": {
   "interpreter": {
    "hash": "2c6599e157872e0c80a1169ca1e185cdf85fff8ba1e0db7a7b864ffd8a8fc2c3"
   }
  }
 },
 "nbformat": 4,
 "nbformat_minor": 5
}
