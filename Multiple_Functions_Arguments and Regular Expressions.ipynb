{
 "cells": [
  {
   "cell_type": "code",
   "execution_count": 21,
   "metadata": {},
   "outputs": [
    {
     "name": "stdout",
     "output_type": "stream",
     "text": [
      "[1, 2, 3, 4]\n",
      "[11, 12, 13, 14]\n"
     ]
    }
   ],
   "source": [
    "def willchange(list):\n",
    "    list1=[1,2,3,4]\n",
    "    print(list1)\n",
    "    return list\n",
    "\n",
    "list1=[11,12,13,14]\n",
    "willchange(list1)\n",
    "print(list1)"
   ]
  },
  {
   "cell_type": "code",
   "execution_count": 32,
   "metadata": {},
   "outputs": [
    {
     "name": "stdout",
     "output_type": "stream",
     "text": [
      "Output is : 12 34 45 67 "
     ]
    }
   ],
   "source": [
    "def func(a,*val):\n",
    "    print('Output is :',a,end=' ')\n",
    "    for value in val:\n",
    "        print(value,end=' ')\n",
    "\n",
    "func(12,34,45,67)"
   ]
  },
  {
   "cell_type": "code",
   "execution_count": 34,
   "metadata": {},
   "outputs": [
    {
     "name": "stdout",
     "output_type": "stream",
     "text": [
      "First :  Krsihna\n",
      "Second :  Agrawal\n",
      "Rest are : ('22', '08', '2028')\n"
     ]
    }
   ],
   "source": [
    "def func(one,two,*val):\n",
    "    print('First : ',one)\n",
    "    print('Second : ',two)\n",
    "    print('Rest are :',val)\n",
    "\n",
    "func('Krsihna','Agrawal','22','08','2028')\n"
   ]
  },
  {
   "cell_type": "code",
   "execution_count": 35,
   "metadata": {},
   "outputs": [
    {
     "name": "stdout",
     "output_type": "stream",
     "text": [
      "First :  Bill\n",
      "Second :  Canady\n",
      "Rest are : ('Hospital', 45, 32, 78, 4)\n"
     ]
    }
   ],
   "source": [
    "def myfunc(one,two,*val):\n",
    "    print('First :',one)\n",
    "    print('Second :',two)\n",
    "    print('Rest are :',val)\n",
    "\n",
    "func('Bill','Canady','Hospital',45,32,78,4)\n"
   ]
  },
  {
   "cell_type": "code",
   "execution_count": 37,
   "metadata": {},
   "outputs": [
    {
     "name": "stdout",
     "output_type": "stream",
     "text": [
      "First : 21\n",
      "Second : 34\n",
      "Third : 21\n"
     ]
    }
   ],
   "source": [
    "def myfunc(one,two,three):\n",
    "    print('First :',one)\n",
    "    print('Second :',two)\n",
    "    print('Third :',three)\n",
    "\n",
    "\n",
    "args=[34,21]\n",
    "myfunc(21,*args)\n",
    "    "
   ]
  },
  {
   "cell_type": "code",
   "execution_count": 38,
   "metadata": {},
   "outputs": [
    {
     "name": "stdout",
     "output_type": "stream",
     "text": [
      "First : Function\n",
      "Second : 67\n",
      "Third : Neel\n"
     ]
    }
   ],
   "source": [
    "def myfunc(one,two,three):\n",
    "    print('First :',one)\n",
    "    print('Second :',two)\n",
    "    print('Third :',three)\n",
    "\n",
    "\n",
    "args=[67,'Neel']\n",
    "myfunc('Function',*args)"
   ]
  },
  {
   "cell_type": "markdown",
   "metadata": {},
   "source": [
    "Use of **kwargs"
   ]
  },
  {
   "cell_type": "code",
   "execution_count": 39,
   "metadata": {},
   "outputs": [
    {
     "name": "stdout",
     "output_type": "stream",
     "text": [
      "name : Emilo Marinez\n",
      "age : 45\n",
      "city : Rosario\n"
     ]
    }
   ],
   "source": [
    "def myfunc(**profile):\n",
    "    if profile is not None:\n",
    "        for key,value in profile.items():\n",
    "            print(key,':',str(value))\n",
    "\n",
    "myfunc(name='Emilo Marinez',age=45,city='Rosario')\n",
    "        \n"
   ]
  },
  {
   "cell_type": "code",
   "execution_count": 41,
   "metadata": {},
   "outputs": [
    {
     "name": "stdout",
     "output_type": "stream",
     "text": [
      "name : Lionel Messi\n",
      "age : 35\n",
      "city : Rosario\n",
      "country : Argentina\n",
      "profession : Footballer\n"
     ]
    }
   ],
   "source": [
    "def value(**pointer):\n",
    "    if pointer is not None:\n",
    "        for key,value in pointer.items():\n",
    "            print(key,':',value)\n",
    "\n",
    "value(name='Lionel Messi',age='35',city='Rosario',country='Argentina',profession='Footballer')\n"
   ]
  },
  {
   "cell_type": "code",
   "execution_count": 49,
   "metadata": {},
   "outputs": [
    {
     "name": "stdout",
     "output_type": "stream",
     "text": [
      "name : Novak Djokovic\n",
      "Age : 38\n",
      "Country : Serbia\n",
      "Profession : Tennis Player\n"
     ]
    }
   ],
   "source": [
    "def value(**pointer):\n",
    "    if pointer is not None:\n",
    "        for key,value in pointer.items():\n",
    "            print(key,\":\",value)\n",
    "\n",
    "value(name='Novak Djokovic',Age='38',Country='Serbia',Profession='Tennis Player')\n"
   ]
  },
  {
   "cell_type": "code",
   "execution_count": 50,
   "metadata": {},
   "outputs": [
    {
     "name": "stdout",
     "output_type": "stream",
     "text": [
      "name : Major DhyanChand\n",
      "age : 121\n",
      "country : India\n",
      "profession : Hockey Player\n"
     ]
    }
   ],
   "source": [
    "def sport(**major):\n",
    "    if major is not None:\n",
    "        for key,value in major.items():\n",
    "            print(key,\":\",value)\n",
    "\n",
    "sport(name='Major DhyanChand',age='121',country='India',profession='Hockey Player')"
   ]
  },
  {
   "cell_type": "code",
   "execution_count": 53,
   "metadata": {},
   "outputs": [
    {
     "name": "stdout",
     "output_type": "stream",
     "text": [
      " A is : 34\n",
      " B is : 3\n",
      " C is : 4\n"
     ]
    }
   ],
   "source": [
    "def func(a,b,c):\n",
    "    print(' A is :',a)\n",
    "    print(' B is :',b)\n",
    "    print(' C is :',c)\n",
    "\n",
    "kwargs={'b':3,'c':4}\n",
    "func(34,**kwargs)\n"
   ]
  },
  {
   "cell_type": "code",
   "execution_count": 56,
   "metadata": {},
   "outputs": [
    {
     "name": "stdout",
     "output_type": "stream",
     "text": [
      "a is : 36\n",
      "b is : 45\n",
      "c is : 56\n"
     ]
    }
   ],
   "source": [
    "def myfunc(a,b,c):\n",
    "    print('a is :',a)\n",
    "    print('b is :',b)\n",
    "    print('c is :',c)\n",
    "\n",
    "kwargs={'b':45,'c':56}\n",
    "myfunc(36,**kwargs)\n"
   ]
  },
  {
   "cell_type": "markdown",
   "metadata": {},
   "source": [
    "Now we Learn About Regular Expressions"
   ]
  },
  {
   "cell_type": "code",
   "execution_count": 63,
   "metadata": {},
   "outputs": [
    {
     "name": "stdout",
     "output_type": "stream",
     "text": [
      "<class 're.Pattern'>\n",
      "<re.Match object; span=(0, 2), match='ab'>\n"
     ]
    }
   ],
   "source": [
    "import re\n",
    "verify_name=re.compile('^ab')\n",
    "print(type(verify_name))\n",
    "\n",
    "name='abc'\n",
    "match=verify_name.search(name)\n",
    "print(match)"
   ]
  },
  {
   "cell_type": "code",
   "execution_count": 65,
   "metadata": {},
   "outputs": [
    {
     "name": "stdout",
     "output_type": "stream",
     "text": [
      "<class 're.Pattern'>\n",
      "<re.Match object; span=(0, 2), match='az'>\n"
     ]
    }
   ],
   "source": [
    "import re\n",
    "verify_name=re.compile('^az')\n",
    "print(type(verify_name))\n",
    "\n",
    "name='az'\n",
    "match=verify_name.search(name)\n",
    "print(match)"
   ]
  },
  {
   "cell_type": "code",
   "execution_count": 8,
   "metadata": {},
   "outputs": [
    {
     "name": "stdout",
     "output_type": "stream",
     "text": [
      "Name should written in alphabets only\n"
     ]
    }
   ],
   "source": [
    "import re\n",
    "verify_name=re.compile('[^A-Za-z\\s.]')\n",
    "name=str(input('Enter The Name:'))\n",
    "if verify_name.search(name):\n",
    "    print('Name should written in alphabets only')\n",
    "\n",
    "else:\n",
    "    print('Name is perfect')"
   ]
  },
  {
   "cell_type": "code",
   "execution_count": 9,
   "metadata": {},
   "outputs": [
    {
     "name": "stdout",
     "output_type": "stream",
     "text": [
      "Name should written in captal letters only\n"
     ]
    }
   ],
   "source": [
    "import re\n",
    "verify_name=re.compile('[^A-Za-z\\s.]')\n",
    "name='Kr3ishna agrawal'\n",
    "if verify_name.search(name):\n",
    "    print('Name should written in captal letters only')\n",
    "\n",
    "\n",
    "else:\n",
    "    print('Name is perfect')"
   ]
  },
  {
   "cell_type": "code",
   "execution_count": 28,
   "metadata": {},
   "outputs": [
    {
     "name": "stdout",
     "output_type": "stream",
     "text": [
      "Name is perfect\n"
     ]
    }
   ],
   "source": [
    "import re\n",
    "verify_name=re.compile(r'\\Dat')\n",
    "name='Krishna Agrawal'\n",
    "if verify_name.search(name):\n",
    "    print('Name should written in alphabet only')\n",
    "else:\n",
    "    print('Name is perfect')\n"
   ]
  },
  {
   "cell_type": "code",
   "execution_count": 26,
   "metadata": {},
   "outputs": [
    {
     "name": "stdout",
     "output_type": "stream",
     "text": [
      "Name should writtern capital letters only\n"
     ]
    }
   ],
   "source": [
    "import re\n",
    "verify_name=re.compile(r'd')\n",
    "name='Krishna Agrawal'\n",
    "\n",
    "if verify_name.search(name):\n",
    "    print('Name should writtern capital letters only')\n",
    "\n",
    "else:\n",
    "    print('Name is')"
   ]
  },
  {
   "cell_type": "code",
   "execution_count": 49,
   "metadata": {},
   "outputs": [
    {
     "name": "stdout",
     "output_type": "stream",
     "text": [
      "<class 'NoneType'>\n",
      "<class 'NoneType'>\n",
      "<class 'NoneType'>\n"
     ]
    }
   ],
   "source": [
    "import re\n",
    "strlist=['san sfransisco','star star','smoon smoon']\n",
    "\n",
    "for string in strlist:\n",
    "    success=re.match('(s\\w+)\\W(s\\w+)',string)\n",
    "    print(type(success))\n",
    "    if success :\n",
    "      print(success)\n",
    "      print('Span is :',success.span())\n",
    "      print('Group is :',success.group())\n",
    "    \n",
    "\n",
    "\n"
   ]
  },
  {
   "cell_type": "code",
   "execution_count": 50,
   "metadata": {},
   "outputs": [
    {
     "name": "stdout",
     "output_type": "stream",
     "text": [
      "<class 're.Match'>\n",
      "<re.Match object; span=(0, 11), match='san sfrnaso'>\n",
      "The Span Is : (0, 11)\n",
      "The Group Is : san sfrnaso\n",
      "<class 're.Match'>\n",
      "<re.Match object; span=(0, 13), match='south safrica'>\n",
      "The Span Is : (0, 13)\n",
      "The Group Is : south safrica\n",
      "<class 're.Match'>\n",
      "<re.Match object; span=(0, 16), match='southern sisland'>\n",
      "The Span Is : (0, 16)\n",
      "The Group Is : southern sisland\n"
     ]
    }
   ],
   "source": [
    "import re\n",
    "strlist=['san sfrnaso','south safrica','southern sisland']\n",
    "for string in strlist:\n",
    "    success=re.match('(s\\w+)\\W(s\\w+)',string)\n",
    "    print(type(success))\n",
    "    if success:\n",
    "        print(success)\n",
    "        print('The Span Is :',success.span())\n",
    "        print('The Group Is :',success.group())"
   ]
  },
  {
   "cell_type": "code",
   "execution_count": 60,
   "metadata": {},
   "outputs": [
    {
     "data": {
      "text/plain": [
       "['08062005']"
      ]
     },
     "execution_count": 60,
     "metadata": {},
     "output_type": "execute_result"
    }
   ],
   "source": [
    "import re\n",
    "name='Heloo Everyone My Name Is Krishna Agrawal And I was born on 08062005'\n",
    "# pattern=('\\D+')\n",
    "# pattern=('A\\w+')\n",
    "pattern=('\\d+')\n",
    "\n",
    "re.findall(pattern,name)\n"
   ]
  },
  {
   "cell_type": "markdown",
   "metadata": {},
   "source": [
    "Now we study about split function"
   ]
  },
  {
   "cell_type": "code",
   "execution_count": 62,
   "metadata": {},
   "outputs": [
    {
     "name": "stdout",
     "output_type": "stream",
     "text": [
      "['Hello everyone ', ' am kr', 'shnae aegrawal']\n"
     ]
    }
   ],
   "source": [
    "import re\n",
    "name='Hello everyone i am krishnae aegrawal'\n",
    "pattern='i'\n",
    "str=re.split(pattern,name)\n",
    "print(str)\n"
   ]
  },
  {
   "cell_type": "code",
   "execution_count": 73,
   "metadata": {},
   "outputs": [
    {
     "name": "stdout",
     "output_type": "stream",
     "text": [
      "['Twelve:', ' Seventy seven:', ' Ninety two:92']\n"
     ]
    }
   ],
   "source": [
    "import re\n",
    "name='Twelve:12 Seventy seven:77 Ninety two:92'\n",
    "pattern='\\d+'\n",
    "str=re.split(pattern,name,2)\n",
    "print(str)"
   ]
  },
  {
   "cell_type": "markdown",
   "metadata": {},
   "source": [
    "Example for use of  re.split()\n",
    "The re.split method splits the string where there is a match and returns a list of strings where the splits have occurred.\n",
    "\n",
    "If the pattern is not found, re.split() returns a list containing the original string."
   ]
  },
  {
   "cell_type": "code",
   "execution_count": 79,
   "metadata": {},
   "outputs": [
    {
     "name": "stdout",
     "output_type": "stream",
     "text": [
      "Hello&&&&Welcome&&&&To&&&&Our&&&&Beautiful&&&&Planet&&&&Earth&&&&Which&&&&Is&&&&Our&&&&Home\n"
     ]
    }
   ],
   "source": [
    "import re\n",
    "name='Hello     Welcome     To Our Beautiful \\n   Planet Earth Which Is Our Home'\n",
    "pattern='\\s+'\n",
    "replace='&&&&'\n",
    "str=re.sub(pattern,replace,name)\n",
    "print(str)"
   ]
  },
  {
   "cell_type": "code",
   "execution_count": 83,
   "metadata": {},
   "outputs": [
    {
     "name": "stdout",
     "output_type": "stream",
     "text": [
      "My(Krishna)(Krishna)(Krishna)(Krishna)Name(Krishna)is(Krishna)(Krishna)(Krishna)(Krishna).\n"
     ]
    }
   ],
   "source": [
    "import re\n",
    "name='My    Name is    .'\n",
    "pattern=('\\s')\n",
    "replace='(Krishna)'\n",
    "str=re.sub(pattern,replace,name)\n",
    "print(str)\n"
   ]
  },
  {
   "cell_type": "markdown",
   "metadata": {},
   "source": [
    "### Use of re.subn()\n",
    "The re.subn() is similar to re.sub() expect it returns a tuple of 2 items containing the new string and the number of substitutions made.\n"
   ]
  },
  {
   "cell_type": "code",
   "execution_count": 87,
   "metadata": {},
   "outputs": [
    {
     "name": "stdout",
     "output_type": "stream",
     "text": [
      "('Hello(Earth)Everyone(Earth)Welcome(Earth)to(Earth)', 4)\n"
     ]
    }
   ],
   "source": [
    "import re\n",
    "name='Hello    Everyone    Welcome to '\n",
    "pattern=('\\s+')\n",
    "replace='(Earth)'\n",
    "str=re.subn(pattern,replace,name)\n",
    "print(str)"
   ]
  },
  {
   "cell_type": "code",
   "execution_count": null,
   "metadata": {},
   "outputs": [],
   "source": []
  }
 ],
 "metadata": {
  "kernelspec": {
   "display_name": "Python 3.10.7 64-bit",
   "language": "python",
   "name": "python3"
  },
  "language_info": {
   "codemirror_mode": {
    "name": "ipython",
    "version": 3
   },
   "file_extension": ".py",
   "mimetype": "text/x-python",
   "name": "python",
   "nbconvert_exporter": "python",
   "pygments_lexer": "ipython3",
   "version": "3.10.7"
  },
  "orig_nbformat": 4,
  "vscode": {
   "interpreter": {
    "hash": "2c6599e157872e0c80a1169ca1e185cdf85fff8ba1e0db7a7b864ffd8a8fc2c3"
   }
  }
 },
 "nbformat": 4,
 "nbformat_minor": 2
}
